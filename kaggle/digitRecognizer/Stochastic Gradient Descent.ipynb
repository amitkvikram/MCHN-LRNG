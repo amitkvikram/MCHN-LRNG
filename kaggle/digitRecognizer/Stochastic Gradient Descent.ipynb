{
 "cells": [
  {
   "cell_type": "markdown",
   "metadata": {},
   "source": [
    "## Kaggle Digit Recognizer using PCA"
   ]
  },
  {
   "cell_type": "markdown",
   "metadata": {},
   "source": [
    "## 1. Load data"
   ]
  },
  {
   "cell_type": "code",
   "execution_count": 1,
   "metadata": {},
   "outputs": [
    {
     "data": {
      "text/plain": [
       "42000"
      ]
     },
     "execution_count": 1,
     "metadata": {},
     "output_type": "execute_result"
    }
   ],
   "source": [
    "import numpy as np\n",
    "import matplotlib.pyplot as plt\n",
    "import scipy.io\n",
    "\n",
    "raw_data = open(\"train.csv\",'rt')\n",
    "data = np.loadtxt(raw_data, delimiter = ',', skiprows =1)\n",
    "\n",
    "data.shape[0]"
   ]
  },
  {
   "cell_type": "code",
   "execution_count": 2,
   "metadata": {
    "collapsed": true
   },
   "outputs": [],
   "source": [
    "np.random.shuffle(data)\n",
    "np.random.shuffle(data)"
   ]
  },
  {
   "cell_type": "markdown",
   "metadata": {},
   "source": [
    "## Splitting data\n",
    "    - training data : 60%\n",
    "    - test data: 20%\n",
    "    - cross validation data: 20%\n",
    "    "
   ]
  },
  {
   "cell_type": "code",
   "execution_count": 3,
   "metadata": {},
   "outputs": [
    {
     "name": "stdout",
     "output_type": "stream",
     "text": [
      "0.918 0.915952380952\n"
     ]
    },
    {
     "data": {
      "image/png": "[encoded data removed]",
      "text/plain": [
       "<matplotlib.figure.Figure at 0x7f71d34040b8>"
      ]
     },
     "metadata": {},
     "output_type": "display_data"
    },
    {
     "name": "stdout",
     "output_type": "stream",
     "text": [
      "Done\n"
     ]
    }
   ],
   "source": [
    "import numpy as np\n",
    "import matplotlib.pyplot as plt\n",
    "from sklearn.decomposition import PCA\n",
    "from sklearn.preprocessing import PolynomialFeatures\n",
    "from sklearn import linear_model\n",
    "\n",
    "pca = PCA(n_components=150)\n",
    "\n",
    "def normalize(sigma2, mean2, X):\n",
    "    X = (X-mean2)/sigma2\n",
    "    return X\n",
    "\n",
    "def add_x0(X):\n",
    "    return np.column_stack((np.zeros(X.shape[0],), X))\n",
    "\n",
    "J1=[];\n",
    "J2=[];\n",
    "\n",
    "raw_data = open(\"test.csv\",'rt')\n",
    "test_X = np.loadtxt(raw_data, delimiter = ',', skiprows =1)\n",
    "X_test1 = data[33600:, 1:]\n",
    "\n",
    "# y_cv = data[25200:33600, 0]\n",
    "\n",
    "y_test = data[33600:, 0]\n",
    "for i in range(34000,34001,1000):\n",
    "    y_train = data[:, 0]\n",
    "    X_train1 = data[:,1:]\n",
    "    pca.fit(X_train1)\n",
    "    X_train2 = pca.transform(X_train1)\n",
    "    X_test2 = pca.transform(X_test1)\n",
    "    test_X = pca.transform(test_X)\n",
    "    ###########################\n",
    "    regr = linear_model.LogisticRegression(solver='lbfgs')\n",
    "\n",
    "    regr.fit(X_train2, y_train)\n",
    "    score1 = regr.score(X_train2, y_train)\n",
    "    score2 = regr.score(X_test2, y_test)\n",
    "    theta = np.column_stack((regr.intercept_, regr.coef_))\n",
    "\n",
    "    np.savetxt(\"del.txt\", theta.T, delimiter =',', newline='\\n')\n",
    "    test_Y = regr.predict(test_X)\n",
    "    image_id = np.arange(1,test_Y.shape[0]+1)\n",
    "    test_Y = np.column_stack((image_id, test_Y))\n",
    "    np.savetxt('prediction.csv', test_Y, header='ImageId,Label', delimiter=',', fmt='%i',newline='\\n', comments='')\n",
    "    print(score1, score2)\n",
    "    J1.append(1 - score1)\n",
    "    J2.append(1 - score2)\n",
    "\n",
    "plt.plot(J1,'b-')\n",
    "plt.plot(J2,'r-')\n",
    "plt.show()\n",
    "\n",
    "print(\"Done\")"
   ]
  },
  {
   "cell_type": "code",
   "execution_count": 3,
   "metadata": {
    "collapsed": true
   },
   "outputs": [],
   "source": [
    "import scipy.io\n",
    "import numpy as np\n",
    "import matplotlib.pyplot as plt\n",
    "\n",
    "raw_data2 = open(\"prediction.csv\",'rt')\n",
    "prediction = np.loadtxt(raw_data2, delimiter = ',', skiprows =1)\n",
    "image_id = np.arange(1,prediction.shape[0]+1)\n",
    "prediction = np.column_stack((image_id, prediction))\n",
    "\n",
    "np.savetxt('prediction.csv', prediction, header='ImageId,Label', delimiter=',', fmt='%i',newline='\\n', comments='')\n",
    "\n"
   ]
  },
  {
   "cell_type": "markdown",
   "metadata": {},
   "source": [
    "# Stochastic"
   ]
  },
  {
   "cell_type": "code",
   "execution_count": null,
   "metadata": {
    "collapsed": true
   },
   "outputs": [],
   "source": [
    "theta = np.zeros((X_train.shape[1],10)) \n",
    "def cost(X, y, theta):\n",
    "    m = X.shape[0]\n",
    "    J = (1/(2*m))*np.sum(np.square(np.dot(X,theta) -y))\n",
    "\n",
    "    return J;\n",
    "\n",
    "def hypothesis(x_tmp, theta1):\n",
    "    h = np.dot(np.transpose(x_tmp), theta1)\n",
    "    h_temp = h[0,0]\n",
    "    h_temp = 1/(1+np.exp(-h_temp))\n",
    "#     print(h_temp)\n",
    "    return h_temp\n",
    "\n",
    "def stochastic_gradientDescent(X, y, theta):\n",
    "    m = X.shape[0]\n",
    "    alpha = 0.0001\n",
    "    for k in range(0,10):\n",
    "        print(k)\n",
    "        for i in range(1,10):\n",
    "            for j in range(1,m):\n",
    "                x_tmp = X[i, :]\n",
    "                x_tmp = x_tmp.reshape(x_tmp.shape[0], 1)\n",
    "                y_tmp = (y[i] == k).astype(np.float64)\n",
    "                theta1 = theta[:,k].reshape(theta[:,k].shape[0],1)\n",
    "                theta[:,k] = (theta1 -(np.dot((alpha*x_tmp),(hypothesis(x_tmp, theta1) - y_tmp)))).reshape(theta1.shape[0], ) \n",
    "#                 print(\"theta=\",theta[:,k])\n",
    "#             print(cost(x_tmp, y_tmp, theta[:,k]))\n",
    "\n",
    "stochastic_gradientDescent(X_train, y_train, theta) \n",
    "print(theta)\n",
    "np.savetxt(\"del.txt\", theta, delimiter =',', newline='\\n')"
   ]
  },
  {
   "cell_type": "markdown",
   "metadata": {},
   "source": [
    "# Sklearn SGD"
   ]
  },
  {
   "cell_type": "code",
   "execution_count": null,
   "metadata": {
    "collapsed": true
   },
   "outputs": [],
   "source": [
    "import  numpy as np\n",
    "from sklearn import linear_model\n",
    "\n",
    "clf = linear_model.SGDClassifier(alpha = 0.0001)\n",
    "clf.fit(X_train, y_train)\n",
    "\n",
    "theta = np.zeros((X_train2.shape[1]+1,10)) \n",
    "\n",
    "print(clf.score(X_test, y_test))\n",
    "\n",
    "theta = np.column_stack((clf.intercept_, clf.coef_))\n",
    "# print(theta.T)\n",
    "print(clf.get_params(deep = True))\n",
    "\n",
    "np.savetxt(\"del.txt\", theta.T, delimiter =',', newline='\\n')\n"
   ]
  },
  {
   "cell_type": "markdown",
   "metadata": {},
   "source": [
    "# BFGS"
   ]
  },
  {
   "cell_type": "code",
   "execution_count": 221,
   "metadata": {},
   "outputs": [
    {
     "name": "stdout",
     "output_type": "stream",
     "text": [
      "0.892291666667 0.888095238095\n"
     ]
    }
   ],
   "source": [
    "from sklearn import linear_model\n",
    "\n",
    "regr = linear_model.LogisticRegression(solver='lbfgs')\n",
    "\n",
    "regr.fit(X_train2, y_train)\n",
    "score1 = regr.score(X_train2, y_train)\n",
    "score = regr.score(X_test2, y_test)\n",
    "print(score1, score)"
   ]
  }
 ],
 "metadata": {
  "kernelspec": {
   "display_name": "Python 3",
   "language": "python",
   "name": "python3"
  },
  "language_info": {
   "codemirror_mode": {
    "name": "ipython",
    "version": 3
   },
   "file_extension": ".py",
   "mimetype": "text/x-python",
   "name": "python",
   "nbconvert_exporter": "python",
   "pygments_lexer": "ipython3",
   "version": "3.6.2"
  }
 },
 "nbformat": 4,
 "nbformat_minor": 2
}
