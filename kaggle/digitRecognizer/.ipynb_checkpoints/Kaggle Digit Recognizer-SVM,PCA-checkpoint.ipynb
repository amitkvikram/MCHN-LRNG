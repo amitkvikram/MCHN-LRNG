{
 "cells": [
  {
   "cell_type": "markdown",
   "metadata": {},
   "source": [
    "## Intoduction\n",
    "link to competition: [digit recogniger competition](https://www.kaggle.com/c/digit-recognizer)\n",
    "\n",
    "My Kaggle Profile: [Amit Vikram | Kaggle](https://www.kaggle.com/amitkvikram)\n",
    "\n",
    "- Here we will use PCA for dimensionality reduction and then train the data using \"Logistic Regression\" and \"BFGS\""
   ]
  },
  {
   "cell_type": "code",
   "execution_count": 30,
   "metadata": {
    "collapsed": true
   },
   "outputs": [],
   "source": [
    "import numpy as np\n",
    "import matplotlib.pyplot as plt\n",
    "import pandas as pd\n",
    "import scipy.io\n",
    "import warnings\n",
    "warnings.filterwarnings('ignore')\n",
    "Train = pd.read_csv(\"train.csv\").values\n",
    "Test = pd.read_csv(\"test.csv\").values"
   ]
  },
  {
   "cell_type": "code",
   "execution_count": 31,
   "metadata": {},
   "outputs": [
    {
     "data": {
      "text/plain": [
       "(42000, 785)"
      ]
     },
     "execution_count": 31,
     "metadata": {},
     "output_type": "execute_result"
    }
   ],
   "source": [
    "Train.shape"
   ]
  },
  {
   "cell_type": "code",
   "execution_count": 32,
   "metadata": {},
   "outputs": [
    {
     "data": {
      "text/plain": [
       "(28000, 784)"
      ]
     },
     "execution_count": 32,
     "metadata": {},
     "output_type": "execute_result"
    }
   ],
   "source": [
    "Test.shape"
   ]
  },
  {
   "cell_type": "code",
   "execution_count": 33,
   "metadata": {
    "collapsed": true
   },
   "outputs": [],
   "source": [
    "X = Train[:,1:]\n",
    "Y = Train[:,0]"
   ]
  },
  {
   "cell_type": "markdown",
   "metadata": {},
   "source": [
    "### Dimensionality Reduction using PCA"
   ]
  },
  {
   "cell_type": "code",
   "execution_count": 34,
   "metadata": {},
   "outputs": [
    {
     "name": "stdout",
     "output_type": "stream",
     "text": [
      "(42000, 612)\n"
     ]
    },
    {
     "data": {
      "image/png": "[encoded data removed]",
      "text/plain": [
       "<matplotlib.figure.Figure at 0x7fb4339a01d0>"
      ]
     },
     "metadata": {},
     "output_type": "display_data"
    }
   ],
   "source": [
    "from sklearn.decomposition import PCA\n",
    "# ## Removing the column with variance 0\n",
    "variance = np.var(X, axis = 0)>10\n",
    "X = X[:, variance]\n",
    "Test = Test[:,variance]\n",
    "print(X.shape)\n",
    "# ##Calculate Principal Components\n",
    "pca = PCA()\n",
    "pca.fit(X)\n",
    "explained_variance = pca.explained_variance_ratio_\n",
    "# ##Calculate cumulative explained ration\n",
    "cum_explained_variance = [np.sum(explained_variance[:i+1]) for i in range (0, 201, 25)]\n",
    "X_axis = [i for i in range(0, 201,25)]\n",
    "\n",
    "##Plot Graph\n",
    "fig = plt.figure(figsize = (5.841, 7.195), dpi=100)\n",
    "plt.plot(X_axis, cum_explained_variance, 'ro')\n",
    "plt.grid(True, which = 'both')\n",
    "plt.yticks(cum_explained_variance)\n",
    "plt.xticks(X_axis)\n",
    "plt.ylabel(\"Explained Variance Ratio\")\n",
    "plt.xlabel(\"No. of Components\")\n",
    "plt.show()"
   ]
  },
  {
   "cell_type": "markdown",
   "metadata": {},
   "source": [
    "**So Looking on the above graph, 50 components comprise 80% variance. So first we will go with 50 componets**"
   ]
  },
  {
   "cell_type": "markdown",
   "metadata": {},
   "source": [
    "### Splitting data for training and testing\n",
    "- Training data: 80%\n",
    "- Test data: 20%"
   ]
  },
  {
   "cell_type": "code",
   "execution_count": 35,
   "metadata": {
    "collapsed": true
   },
   "outputs": [],
   "source": [
    "from sklearn.model_selection import train_test_split\n",
    "X_train, X_test, y_train, y_test = train_test_split(X, Y, test_size  = 0.20)"
   ]
  },
  {
   "cell_type": "code",
   "execution_count": 37,
   "metadata": {
    "collapsed": true
   },
   "outputs": [],
   "source": [
    "from sklearn import linear_model\n",
    "from sklearn.preprocessing import MinMaxScaler\n",
    "\n",
    "def normalize(sigma2, mean2, X):\n",
    "    X = (X-mean2)/sigma2\n",
    "    return X\n",
    "\n",
    "def PolynomialFeatures1(X):\n",
    "    X_2 = np.square(X)\n",
    "    X = np.column_stack((X, X_2))\n",
    "    return X\n",
    "\n",
    "J1 = []\n",
    "J2 = []\n",
    "\n",
    "# ### TRAINING\n",
    "# sigma = np.std(X_train, axis = 0)\n",
    "# mean = np.mean(X_train, axis = 0)\n",
    "\n",
    "# X_train = normalize(sigma , mean , X_train)\n",
    "# X_test = normalize(sigma , mean, X_test)\n",
    "\n",
    "##Take n principal components\n",
    "def PrincipalComponents(n):\n",
    "    pca = PCA(n_components= n)\n",
    "    X_train1 = pca.fit_transform(X_train)\n",
    "    X_test1 = pca.transform(X_test)\n",
    "    return X_train1, X_test1\n",
    "\n",
    "## logistic regression, Solver: 'lbfgs'\n",
    "\n",
    "def LogisticRegression(X_train2, y_train2, X_test2, y_test2, penalty):\n",
    "    print(\"penalty= \", penalty)\n",
    "    regr = linear_model.LogisticRegression(solver='lbfgs',max_iter=1000, C=penalty)\n",
    "    regr.fit(X_train2, y_train2)\n",
    "    score1 = regr.score(X_train2, y_train2)\n",
    "    score2 = regr.score(X_test2, y_test2)\n",
    "    print(score1, score2)\n",
    "    Prediction = regr.predict(X_test2)\n",
    "    return score1, score2, Prediction\n"
   ]
  },
  {
   "cell_type": "markdown",
   "metadata": {},
   "source": [
    "### 1. 50 Principal Componets"
   ]
  },
  {
   "cell_type": "code",
   "execution_count": null,
   "metadata": {
    "collapsed": true
   },
   "outputs": [],
   "source": [
    "X_train1, X_test1 = PrincipalComponents(50)\n",
    "X_test1 = add_X0(X_test1)\n",
    "X_train1 = add_X0(X_train1)\n",
    "J1 = []\n",
    "J2 = []\n",
    "for i in range(20000, X_train1.shape[0], 1000):\n",
    "    score1, score2, Prediction = LogisticRegression(X_train1[:i+1,:], y_train[:i+1, ], \n",
    "                                                    X_test1[:i+1,:], y_test[:i+1], 1.0)\n",
    "    J1.append(1-score1)\n",
    "    J2.append(1-score2)\n",
    "    \n",
    "    \n",
    "plt.plot(J2, 'b-')\n",
    "plt.plot(J1, 'r-')\n",
    "plt.show()"
   ]
  },
  {
   "cell_type": "markdown",
   "metadata": {},
   "source": [
    "#### Add polynomial features"
   ]
  },
  {
   "cell_type": "markdown",
   "metadata": {},
   "source": [
    "##### 1.Logistic Regression"
   ]
  },
  {
   "cell_type": "code",
   "execution_count": 42,
   "metadata": {},
   "outputs": [
    {
     "name": "stdout",
     "output_type": "stream",
     "text": [
      "(8400, 43) (33600, 43)\n",
      "(8400, 989) (33600, 989)\n",
      "penalty=  1\n",
      "1.0 0.974642857143\n",
      "penalty=  1\n",
      "1.0 0.975238095238\n",
      "penalty=  1\n",
      "1.0 0.975238095238\n",
      "penalty=  1\n",
      "0.999966102844 0.974642857143\n",
      "penalty=  1\n",
      "0.999967742976 0.975238095238\n",
      "penalty=  1\n",
      "0.999969231716 0.97630952381\n"
     ]
    },
    {
     "data": {
      "image/png": "[encoded data removed]",
      "text/plain": [
       "<matplotlib.figure.Figure at 0x7fb4339a7b70>"
      ]
     },
     "metadata": {},
     "output_type": "display_data"
    }
   ],
   "source": [
    "from sklearn.preprocessing import PolynomialFeatures\n",
    "poly = PolynomialFeatures(include_bias = False)\n",
    "X_train1, X_test1 = PrincipalComponents(0.8)\n",
    "print(X_test1.shape, X_train1.shape)\n",
    "\n",
    "X_train1 = poly.fit_transform(X_train1)\n",
    "X_test1 = poly.transform(X_test1)\n",
    "\n",
    "print(X_test1.shape, X_train1.shape)\n",
    "\n",
    "sigma = np.std(X_train1, axis = 0)\n",
    "mean = np.mean(X_train1, axis = 0)\n",
    "\n",
    "X_train1 = normalize(sigma , mean , X_train1)\n",
    "X_test1 = normalize(sigma , mean, X_test1)\n",
    "\n",
    "J1 = []\n",
    "J2 = []\n",
    "for i in range(25000, X_train1.shape[0], 1500):\n",
    "    score1, score2, Prediction = LogisticRegression(X_train1[:i+1,:], \n",
    "                                                    y_train[:i+1, ], X_test1[:i+1,:], y_test[:i+1],1)\n",
    "    J1.append(1-score1)\n",
    "    J2.append(1-score2)\n",
    "    \n",
    "    \n",
    "plt.plot(J2, 'b-')\n",
    "plt.plot(J1, 'r-')\n",
    "plt.show()"
   ]
  },
  {
   "cell_type": "markdown",
   "metadata": {},
   "source": [
    "##### 2.SVM"
   ]
  },
  {
   "cell_type": "code",
   "execution_count": null,
   "metadata": {},
   "outputs": [
    {
     "name": "stdout",
     "output_type": "stream",
     "text": [
      "(8400, 43) (33600, 43)\n",
      "(8400, 989) (33600, 989)\n",
      "1.0 0.970238095238\n",
      "1.0 0.972023809524\n"
     ]
    }
   ],
   "source": [
    "from sklearn.preprocessing import PolynomialFeatures\n",
    "from sklearn.svm import SVC\n",
    "\n",
    "def supportVM(X_train2, y_train2, X_test2, y_test2, penalty):\n",
    "    regr = SVC(kernel ='linear', C=penalty)\n",
    "    regr.fit(X_train2, y_train2)\n",
    "    score1 = regr.score(X_train2, y_train2)\n",
    "    score2 = regr.score(X_test2, y_test2)\n",
    "    print(score1, score2)\n",
    "    Prediction = regr.predict(X_test2)\n",
    "    return score1, score2, Prediction\n",
    "\n",
    "poly = PolynomialFeatures(include_bias = False)\n",
    "X_train1, X_test1 = PrincipalComponents(0.8)\n",
    "print(X_test1.shape, X_train1.shape)\n",
    "\n",
    "X_train1 = poly.fit_transform(X_train1)\n",
    "X_test1 = poly.transform(X_test1)\n",
    "\n",
    "print(X_test1.shape, X_train1.shape)\n",
    "\n",
    "sigma = np.std(X_train1, axis = 0)\n",
    "mean = np.mean(X_train1, axis = 0)\n",
    "\n",
    "X_train1 = normalize(sigma , mean , X_train1)\n",
    "X_test1 = normalize(sigma , mean, X_test1)\n",
    "\n",
    "J1 = []\n",
    "J2 = []\n",
    "for i in range(25000, X_train1.shape[0], 1500):\n",
    "    score1, score2, Prediction = supportVM(X_train1[:i+1,:], \n",
    "                                                    y_train[:i+1, ], X_test1[:i+1,:], y_test[:i+1],1)\n",
    "    J1.append(1-score1)\n",
    "    J2.append(1-score2)\n",
    "    \n",
    "    \n",
    "plt.plot(J2, 'b-')\n",
    "plt.plot(J1, 'r-')\n",
    "plt.show()"
   ]
  },
  {
   "cell_type": "markdown",
   "metadata": {},
   "source": [
    "#### Saving data trained with logistic regression"
   ]
  },
  {
   "cell_type": "code",
   "execution_count": 44,
   "metadata": {},
   "outputs": [
    {
     "name": "stdout",
     "output_type": "stream",
     "text": [
      "(42000, 43) (28000, 43)\n",
      "(42000, 989) (28000, 989)\n",
      "(42000, 989) (28000, 989)\n",
      "0.999833333333\n"
     ]
    }
   ],
   "source": [
    "from sklearn.preprocessing import PolynomialFeatures\n",
    "poly = PolynomialFeatures(include_bias = False)\n",
    "\n",
    "X1 = X.copy()\n",
    "Test1 = Test.copy()\n",
    "\n",
    "pca = PCA(n_components= 0.8)\n",
    "X1 = pca.fit_transform(X1)\n",
    "Test1 = pca.transform(Test)\n",
    "\n",
    "print(X1.shape, Test1.shape)\n",
    "\n",
    "X1 = poly.fit_transform(X1)\n",
    "Test1 = poly.fit_transform(Test1)\n",
    "\n",
    "print(X1.shape, Test1.shape)\n",
    "\n",
    "sigma = np.std(X1, axis = 0)\n",
    "mean = np.mean(X1, axis = 0)\n",
    "\n",
    "X1 = normalize(sigma, mean, X1)\n",
    "Test1 = normalize(sigma , mean, Test1)\n",
    "print(X1.shape, Test1.shape)\n",
    "\n",
    "\n",
    "regr = linear_model.LogisticRegression(solver='lbfgs',max_iter=1000, C=1)\n",
    "regr.fit(X1, Y)\n",
    "score1 = regr.score(X1, Y)\n",
    "print(score1)\n",
    "Prediction = regr.predict(Test1)\n",
    "image_id = np.arange(1,Prediction.shape[0]+1)\n",
    "pd.DataFrame({\"ImageId\": image_id, \"Label\": Prediction}).to_csv('out.csv', \n",
    "                                                                      index=False, header=True)"
   ]
  },
  {
   "cell_type": "markdown",
   "metadata": {},
   "source": [
    "##### Saving prediction trained with SVM"
   ]
  },
  {
   "cell_type": "code",
   "execution_count": null,
   "metadata": {
    "collapsed": true
   },
   "outputs": [],
   "source": [
    "from sklearn.preprocessing import PolynomialFeatures\n",
    "poly = PolynomialFeatures(include_bias = False)\n",
    "\n",
    "X1 = X.copy()\n",
    "Test1 = Test.copy()\n",
    "\n",
    "pca = PCA(n_components= 0.8)\n",
    "X1 = pca.fit_transform(X1)\n",
    "Test1 = pca.transform(Test)\n",
    "\n",
    "print(X1.shape, Test1.shape)\n",
    "\n",
    "X1 = poly.fit_transform(X1)\n",
    "Test1 = poly.fit_transform(Test1)\n",
    "\n",
    "print(X1.shape, Test1.shape)\n",
    "\n",
    "sigma = np.std(X1, axis = 0)\n",
    "mean = np.mean(X1, axis = 0)\n",
    "\n",
    "X1 = normalize(sigma, mean, X1)\n",
    "Test1 = normalize(sigma , mean, Test1)\n",
    "print(X1.shape, Test1.shape)\n",
    "\n",
    "\n",
    "regr = SVC(kernel ='linear', C=penalty)\n",
    "regr.fit(X1, Y)\n",
    "score1 = regr.score(X1, Y)\n",
    "print(score1)\n",
    "Prediction = regr.predict(Test1)\n",
    "Prediction = regr.predict(Test1)\n",
    "image_id = np.arange(1,Prediction.shape[0]+1)\n",
    "pd.DataFrame({\"ImageId\": image_id, \"Label\": Prediction}).to_csv('out_svm.csv', \n",
    "                                                                      index=False, header=True)"
   ]
  },
  {
   "cell_type": "markdown",
   "metadata": {},
   "source": [
    "### Saving Prediction"
   ]
  },
  {
   "cell_type": "markdown",
   "metadata": {},
   "source": [
    "## Logistic Regression"
   ]
  },
  {
   "cell_type": "code",
   "execution_count": null,
   "metadata": {
    "collapsed": true
   },
   "outputs": [],
   "source": [
    "from sklearn.preprocessing import MinMaxScaler\n",
    "min_max_scaler = MinMaxScaler()\n",
    "X1 = X.copy()\n",
    "X1 = min_max_scaler.fit_transform(X1)\n",
    "Test1 = Test.copy()\n",
    "Test1= min_max_scaler.transform(Test1)\n",
    "\n",
    "pca = PCA(n_components = 50)\n",
    "pca.fit(X1)\n",
    "X1 = pca.fit_transform(X1)\n",
    "Test1 = pca.transform(Test1)\n",
    "\n",
    "X1_2 = np.square(X1)\n",
    "X1 = np.column_stack((X1, X1_2))\n",
    "Test1_2 = np.square(Test1)\n",
    "Test1 = np.column_stack((Test1, Test1_2))\n",
    "\n",
    "X1 = add_X0(X1)\n",
    "Test1 = add_X0(Test1)\n",
    "print(X1.shape)\n",
    "\n",
    "regr = linear_model.LogisticRegression(solver = 'lbfgs',max_iter=1000)\n",
    "regr.fit(X1, Y)\n",
    "score1 = regr.score(X1, Y)\n",
    "print(score1)\n",
    "Prediction = regr.predict(Test1)\n",
    "image_id = np.arange(1,Prediction.shape[0]+1)\n",
    "Prediction = np.column_stack((image_id, Prediction))\n",
    "np.savetxt(\"prediction1.csv\", Prediction, header='ImageId,Label', delimiter=',', \n",
    "           fmt='%i',newline='\\n', comments='')"
   ]
  },
  {
   "cell_type": "markdown",
   "metadata": {},
   "source": [
    "### 2. 100 Principal Components"
   ]
  },
  {
   "cell_type": "code",
   "execution_count": null,
   "metadata": {
    "collapsed": true
   },
   "outputs": [],
   "source": [
    "X_train1, X_test1 = PrincipalComponents(100)\n",
    "X_test1 = add_X0(X_test1)\n",
    "X_train1 = add_X0(X_train1)\n",
    "J1 = []\n",
    "J2 = []\n",
    "for i in range(1000, X_train1.shape[0], 1500):\n",
    "    score1, score2, Prediction = LogisticRegression(X_train1[:i+1,:], y_train[:i+1, ], X_test1[:i+1,:], y_test[:i+1])\n",
    "    J1.append(1-score1)\n",
    "    J2.append(1-score2)\n",
    "    \n",
    "    \n",
    "plt.plot(J2, 'b-')\n",
    "plt.plot(J1, 'r-')  #training error\n",
    "plt.show()"
   ]
  },
  {
   "cell_type": "markdown",
   "metadata": {},
   "source": [
    "### Saving Prediction"
   ]
  },
  {
   "cell_type": "code",
   "execution_count": null,
   "metadata": {
    "collapsed": true
   },
   "outputs": [],
   "source": [
    "from sklearn.preprocessing import MinMaxScaler\n",
    "min_max_scaler = MinMaxScaler()\n",
    "X1 = X.copy()\n",
    "X1 = min_max_scaler.fit_transform(X1)\n",
    "Test1 = Test.copy()\n",
    "Test1= min_max_scaler.transform(Test1)\n",
    "\n",
    "pca = PCA(n_components = 100)\n",
    "pca.fit(X1)\n",
    "X1 = pca.fit_transform(X1)\n",
    "Test1 = pca.transform(Test1)\n",
    "\n",
    "X1_2 = np.square(X1)\n",
    "X1 = np.column_stack((X1, X1_2))\n",
    "Test1_2 = np.square(Test1)\n",
    "Test1 = np.column_stack((Test1, Test1_2))\n",
    "\n",
    "X1 = add_X0(X1)\n",
    "Test1 = add_X0(Test1)\n",
    "print(X1.shape)\n",
    "\n",
    "regr = linear_model.LogisticRegression(solver = 'lbfgs',max_iter=1000)\n",
    "regr.fit(X1, Y)\n",
    "score1 = regr.score(X1, Y)\n",
    "print(score1)\n",
    "Prediction = regr.predict(Test1)\n",
    "image_id = np.arange(1,Prediction.shape[0]+1)\n",
    "Prediction = np.column_stack((image_id, Prediction))\n",
    "np.savetxt(\"prediction2.csv\", Prediction, header='ImageId,Label', delimiter=',', \n",
    "           fmt='%i',newline='\\n', comments='')"
   ]
  },
  {
   "cell_type": "markdown",
   "metadata": {},
   "source": [
    "### 150 Principal Componets"
   ]
  },
  {
   "cell_type": "code",
   "execution_count": null,
   "metadata": {
    "collapsed": true
   },
   "outputs": [],
   "source": [
    "X_train1, X_test1 = PrincipalComponents(150)\n",
    "J1 = []\n",
    "J2 = []\n",
    "for i in range(20000, X_train1.shape[0], 1000):\n",
    "    score1, score2, Prediction = LogisticRegression(X_train1[:i+1,:], y_train[:i+1, ],\n",
    "                                                    X_test1[:i+1,:], y_test[:i+1],1.0)\n",
    "    J1.append(1-score1)\n",
    "    J2.append(1-score2)\n",
    "    \n",
    "    \n",
    "plt.plot(J2, 'b-')\n",
    "plt.plot(J1, 'r-')  #training error\n",
    "plt.show()"
   ]
  },
  {
   "cell_type": "markdown",
   "metadata": {},
   "source": [
    "### Adding Polynomial Features"
   ]
  },
  {
   "cell_type": "code",
   "execution_count": null,
   "metadata": {
    "collapsed": true
   },
   "outputs": [],
   "source": [
    "X_train1, X_test1 = PrincipalComponents(150)\n",
    "\n",
    "X_train1 = PolynomialFeatures1(X_train1)\n",
    "X_test1 = PolynomialFeatures1(X_test1)\n",
    "\n",
    "### TRAINING\n",
    "sigma = np.std(X_train1, axis = 0)\n",
    "mean = np.mean(X_train1, axis = 0)\n",
    "\n",
    "X_train1 = normalize(sigma , mean , X_train1)\n",
    "X_test1 = normalize(sigma , mean, X_test1)\n",
    "\n",
    "print(X_test1.shape)\n",
    "print(X_train1.shape)\n",
    "\n",
    "J1 = []\n",
    "J2 = []\n",
    "for penalty in [1.0]:\n",
    "    for i in range(30000, X_train1.shape[0], 1500):\n",
    "        score1, score2, Prediction = LogisticRegression(X_train1[:i+1,:], \n",
    "                                                        y_train[:i+1, ], X_test1[:i+1,:], y_test[:i+1],penalty)\n",
    "        J1.append(1-score1)\n",
    "        J2.append(1-score2)\n",
    "    \n",
    "    \n",
    "    plt.plot(J2, 'b-')\n",
    "    plt.plot(J1, 'r-')\n",
    "    plt.show()"
   ]
  },
  {
   "cell_type": "code",
   "execution_count": null,
   "metadata": {
    "collapsed": true
   },
   "outputs": [],
   "source": [
    "X_train1, X_test1 = PrincipalComponents(150)\n",
    "\n",
    "X_train1 = PolynomialFeatures1(X_train1)\n",
    "X_test1 = PolynomialFeatures1(X_test1)\n",
    "\n",
    "### TRAINING\n",
    "sigma = np.std(X_train1, axis = 0)\n",
    "mean = np.mean(X_train1, axis = 0)\n",
    "\n",
    "X_train1 = normalize(sigma , mean , X_train1)\n",
    "X_test1 = normalize(sigma , mean, X_test1)\n",
    "\n",
    "print(X_test1.shape)\n",
    "print(X_train1.shape)\n",
    "\n",
    "J1 = []\n",
    "J2 = []\n",
    "for penalty in [1.0]:\n",
    "    for i in range(30000, X_train1.shape[0], 1500):\n",
    "        score1, score2, Prediction = LogisticRegression(X_train1[:i+1,:], \n",
    "                                                        y_train[:i+1, ], X_test1[:i+1,:], y_test[:i+1],penalty)\n",
    "        J1.append(1-score1)\n",
    "        J2.append(1-score2)\n",
    "    \n",
    "    \n",
    "    plt.plot(J2, 'b-')\n",
    "    plt.plot(J1, 'r-')\n",
    "    plt.show()"
   ]
  },
  {
   "cell_type": "markdown",
   "metadata": {},
   "source": [
    "### Saving Prediction"
   ]
  },
  {
   "cell_type": "code",
   "execution_count": null,
   "metadata": {
    "collapsed": true
   },
   "outputs": [],
   "source": [
    "from sklearn.preprocessing import MinMaxScaler\n",
    "min_max_scaler = MinMaxScaler()\n",
    "X1 = X.copy()\n",
    "# X1 = min_max_scaler.fit_transform(X1)\n",
    "Test1 = Test.copy()\n",
    "# Test1= min_max_scaler.transform(Test1)\n",
    "X1 = X1/\n",
    "\n",
    "pca = PCA(n_components = 150)\n",
    "pca.fit(X1)\n",
    "X1 = pca.fit_transform(X1)\n",
    "Test1 = pca.transform(Test1)\n",
    "\n",
    "X1_2 = np.square(X1)\n",
    "X1 = np.column_stack((X1, X1_2))\n",
    "Test1_2 = np.square(Test1)\n",
    "Test1 = np.column_stack((Test1, Test1_2))\n",
    "\n",
    "X1 = add_X0(X1)\n",
    "Test1 = add_X0(Test1)\n",
    "print(X1.shape)\n",
    "\n",
    "regr = linear_model.LogisticRegression(solver = 'lbfgs',max_iter=10000)\n",
    "regr.fit(X1, Y)\n",
    "score1 = regr.score(X1, Y)\n",
    "print(score1)\n",
    "Prediction = regr.predict(Test1)\n",
    "image_id = np.arange(1,Prediction.shape[0]+1)\n",
    "Prediction = np.column_stack((image_id, Prediction))\n",
    "np.savetxt(\"prediction1.csv\", Prediction, header='ImageId,Label', delimiter=',', \n",
    "           fmt='%i',newline='\\n', comments='')"
   ]
  },
  {
   "cell_type": "markdown",
   "metadata": {},
   "source": [
    "<hr>"
   ]
  },
  {
   "cell_type": "code",
   "execution_count": null,
   "metadata": {
    "collapsed": true
   },
   "outputs": [],
   "source": [
    "from sklearn.model_selection import train_test_split\n",
    "X_trainN, X_testN, y_trainN, y_testN = train_test_split(X, Y, test_size  = 0.20, random_state = 0)"
   ]
  },
  {
   "cell_type": "code",
   "execution_count": null,
   "metadata": {
    "collapsed": true
   },
   "outputs": [],
   "source": [
    "from sklearn.svm import SVC\n",
    "\n",
    "X_trainN = np.multiply(X_trainN, 1.0/255.0)\n",
    "X_testN = np.multiply(X_testN, 1.0/255.0)\n",
    "##Take n principal components\n",
    "def PrincipalComponentsN(n):\n",
    "    pca = PCA(n_components= n)\n",
    "    X_train1 = pca.fit_transform(X_trainN)\n",
    "    X_test1 = pca.transform(X_testN)\n",
    "    return X_train1, X_test1\n",
    "def supportVM(X_train2, y_train2, X_test2, y_test2):\n",
    "    regr = SVC(C=2)\n",
    "    regr.fit(X_train2, y_train2)\n",
    "    score1 = regr.score(X_train2, y_train2)\n",
    "    score2 = regr.score(X_test2, y_test2)\n",
    "    print(score1, score2)\n",
    "    Prediction = regr.predict(X_test2)\n",
    "    return score1, score2, Prediction\n"
   ]
  },
  {
   "cell_type": "code",
   "execution_count": null,
   "metadata": {
    "collapsed": true,
    "scrolled": true
   },
   "outputs": [],
   "source": [
    "X_train1, X_test1 = PrincipalComponentsN(150)\n",
    "\n",
    "# X_train1 = PolynomialFeatures(X_train1)\n",
    "# X_test1 = PolynomialFeatures(X_test1)\n",
    "\n",
    "X_test1 = add_X0(X_test1)\n",
    "X_train1 = add_X0(X_train1)\n",
    "\n",
    "J1 = []\n",
    "J2 = []\n",
    "for i in range(30000, X_train1.shape[0], 1500):\n",
    "    score1, score2, Prediction = supportVM(X_train1[:i+1,:], \n",
    "                                                    y_train[:i+1, ], X_test1[:i+1,:], y_test[:i+1])\n",
    "    J1.append(1-score1)\n",
    "    J2.append(1-score2)\n",
    "    \n",
    "    \n",
    "plt.plot(J2, 'b-')\n",
    "plt.plot(J1, 'r-')\n",
    "plt.show()"
   ]
  },
  {
   "cell_type": "code",
   "execution_count": null,
   "metadata": {
    "collapsed": true
   },
   "outputs": [],
   "source": [
    "X_train1, X_test1 = PrincipalComponentsN(0.99)\n",
    "\n",
    "# X_train1 = PolynomialFeatures(X_train1)\n",
    "# X_test1 = PolynomialFeatures(X_test1)\n",
    "\n",
    "X_test1 = add_X0(X_test1)\n",
    "X_train1 = add_X0(X_train1)\n",
    "\n",
    "J1 = []\n",
    "J2 = []\n",
    "for i in range(33500, X_train1.shape[0], 1500):\n",
    "    score1, score2, Prediction = supportVM(X_train1[:i+1,:], \n",
    "                                                    y_train[:i+1, ], X_test1[:i+1,:], y_test[:i+1])\n",
    "    J1.append(1-score1)\n",
    "    J2.append(1-score2)\n",
    "    \n",
    "    \n",
    "plt.plot(J2, 'b-')\n",
    "plt.plot(J1, 'r-')\n",
    "plt.show()"
   ]
  },
  {
   "cell_type": "code",
   "execution_count": null,
   "metadata": {
    "collapsed": true
   },
   "outputs": [],
   "source": [
    "from sklearn.decomposition import PCA\n",
    "import pandas as pd\n",
    "from sklearn.svm import SVC\n",
    "\n",
    "\n",
    "def add_X0(X):\n",
    "    np.column_stack((np.ones(X.shape[0],), X))\n",
    "    return X\n",
    "# min_max_scaler = MinMaxScaler()\n",
    "X1 = X.copy()\n",
    "print(X1.shape)\n",
    "# X1 = min_max_scaler.fit_transform(X1)\n",
    "Test1 = Test.copy()\n",
    "# Test1= min_max_scaler.transform(Test1)\n",
    "\n",
    "pca = PCA(n_components = 0.99, whiten = True)\n",
    "pca.fit(X1)\n",
    "X1 = pca.fit_transform(X1)\n",
    "print(X1.shape)\n",
    "Test1 = pca.transform(Test1)\n",
    "print(X1)\n",
    "\n",
    "# X1_2 = np.square(X1)\n",
    "# X1 = np.column_stack((X1, X1_2))\n",
    "# Test1_2 = np.square(Test1)\n",
    "# Test1 = np.column_stack((Test1, Test1_2))\n",
    "\n",
    "X1 = add_X0(X1)\n",
    "Test1 = add_X0(Test1)\n",
    "print(X1.shape)\n",
    "\n",
    "regr =  SVC(kernel = 'rbf', C=2)\n",
    "regr.fit(X1, Y)\n",
    "score1 = regr.score(X1, Y)\n",
    "print(score1)\n",
    "Prediction = regr.predict(Test1)\n",
    "image_id = np.arange(1,Prediction.shape[0]+1)\n",
    "print(\"here\")\n",
    "# Prediction = np.column_stack((image_id, Prediction))\n",
    "# np.savetxt(\"prediction1.csv\", Prediction, header='ImageId,Label', delimiter=',', \n",
    "#            fmt='%i',newline='\\n', comments='')\n",
    "pd.DataFrame({\"ImageId\": image_id, \"Label\": Prediction}).to_csv('out.csv', \n",
    "                                                                          index=False, header=True)"
   ]
  }
 ],
 "metadata": {
  "kernelspec": {
   "display_name": "Python 3",
   "language": "python",
   "name": "python3"
  },
  "language_info": {
   "codemirror_mode": {
    "name": "ipython",
    "version": 3
   },
   "file_extension": ".py",
   "mimetype": "text/x-python",
   "name": "python",
   "nbconvert_exporter": "python",
   "pygments_lexer": "ipython3",
   "version": "3.6.2"
  }
 },
 "nbformat": 4,
 "nbformat_minor": 2
}
