{
 "cells": [
  {
   "cell_type": "markdown",
   "metadata": {},
   "source": [
    "## Intoduction\n",
    "link to competition: [digit recogniger competition](https://www.kaggle.com/c/digit-recognizer)\n",
    "\n",
    "My Kaggle Profile: [Amit Vikram | Kaggle](https://www.kaggle.com/amitkvikram)\n",
    "\n",
    "- It gives me immense pleasure to launch this kernel. For your sake convenience I got accuracy of **0.98442**.\n",
    "\n",
    "- Here we will use PCA for dimensionality reduction and then train the data using \"Logistic Regression with solver lbfgs\" and  \"SVM\". "
   ]
  },
  {
   "cell_type": "markdown",
   "metadata": {},
   "source": [
    "## 1. Import data"
   ]
  },
  {
   "cell_type": "code",
   "execution_count": 28,
   "metadata": {
    "collapsed": true
   },
   "outputs": [],
   "source": [
    "import numpy as np\n",
    "import matplotlib.pyplot as plt\n",
    "import pandas as pd\n",
    "import scipy.io\n",
    "import warnings\n",
    "warnings.filterwarnings('ignore')\n",
    "Train = pd.read_csv(\"train.csv\").values\n",
    "Test = pd.read_csv(\"test.csv\").values"
   ]
  },
  {
   "cell_type": "code",
   "execution_count": 2,
   "metadata": {},
   "outputs": [
    {
     "data": {
      "text/plain": [
       "(42000, 785)"
      ]
     },
     "execution_count": 2,
     "metadata": {},
     "output_type": "execute_result"
    }
   ],
   "source": [
    "Train.shape"
   ]
  },
  {
   "cell_type": "code",
   "execution_count": 3,
   "metadata": {},
   "outputs": [
    {
     "data": {
      "text/plain": [
       "(28000, 784)"
      ]
     },
     "execution_count": 3,
     "metadata": {},
     "output_type": "execute_result"
    }
   ],
   "source": [
    "Test.shape"
   ]
  },
  {
   "cell_type": "code",
   "execution_count": 29,
   "metadata": {
    "collapsed": true
   },
   "outputs": [],
   "source": [
    "X = (Train[:,1:])\n",
    "Y = (Train[:,0])"
   ]
  },
  {
   "cell_type": "markdown",
   "metadata": {},
   "source": [
    "## 2. Dimensionality Reduction using PCA"
   ]
  },
  {
   "cell_type": "markdown",
   "metadata": {},
   "source": [
    "#### a. Plot graph of component vs. cumulative explained variance .\n",
    "This graph will help us in choosing the no of components for training our data."
   ]
  },
  {
   "cell_type": "code",
   "execution_count": 30,
   "metadata": {},
   "outputs": [
    {
     "name": "stdout",
     "output_type": "stream",
     "text": [
      "(42000, 412)\n"
     ]
    },
    {
     "data": {
      "image/png": "[encoded data removed]",
      "text/plain": [
       "<matplotlib.figure.Figure at 0x7f1f1884f898>"
      ]
     },
     "metadata": {},
     "output_type": "display_data"
    }
   ],
   "source": [
    "from sklearn.decomposition import PCA\n",
    "# ## Removing the column with variance 0\n",
    "variance = np.var(X, axis = 0)>1000\n",
    "X = X[:, variance]\n",
    "Test = Test[:,variance]\n",
    "print(X.shape)\n",
    "# ##Calculate Principal Components\n",
    "pca = PCA()\n",
    "pca.fit(X)\n",
    "explained_variance = pca.explained_variance_ratio_\n",
    "# ##Calculate cumulative explained ration\n",
    "cum_explained_variance = [np.sum(explained_variance[:i+1]) for i in range (0, 201, 25)]\n",
    "X_axis = [i for i in range(0, 201,25)]\n",
    "\n",
    "##Plot Graph\n",
    "fig = plt.figure(figsize = (5.841, 7.195), dpi=100)\n",
    "plt.plot(X_axis, cum_explained_variance, 'ro')\n",
    "plt.grid(True, which = 'both')\n",
    "plt.yticks(cum_explained_variance)\n",
    "plt.xticks(X_axis)\n",
    "plt.ylabel(\"Explained Variance Ratio\")\n",
    "plt.xlabel(\"No. of Components\")\n",
    "plt.show()"
   ]
  },
  {
   "cell_type": "markdown",
   "metadata": {},
   "source": [
    "**So Looking on the above graph, 50 components comprise 80% variance. So first we will go with 50 componets**"
   ]
  },
  {
   "cell_type": "markdown",
   "metadata": {},
   "source": [
    "### Splitting data for training and testing\n",
    "- Training data: 80%\n",
    "- Test data: 20%"
   ]
  },
  {
   "cell_type": "code",
   "execution_count": 31,
   "metadata": {
    "collapsed": true
   },
   "outputs": [],
   "source": [
    "from sklearn.model_selection import train_test_split\n",
    "X_train, X_test, y_train, y_test = train_test_split(X, Y, test_size  = 0.20, random_state  = 0)"
   ]
  },
  {
   "cell_type": "markdown",
   "metadata": {},
   "source": [
    "### define normalize function for normalizing the data, PrincipalComponents function to return top n principal components."
   ]
  },
  {
   "cell_type": "code",
   "execution_count": 32,
   "metadata": {
    "collapsed": true
   },
   "outputs": [],
   "source": [
    "from sklearn import linear_model\n",
    "from sklearn.preprocessing import MinMaxScaler\n",
    "\n",
    "def normalize(sigma2, mean2, X):\n",
    "    X = (X-mean2)/sigma2\n",
    "    return X\n",
    "\n",
    "def PolynomialFeatures1(X):\n",
    "    X_2 = np.square(X)\n",
    "    X = np.column_stack((X, X_2))\n",
    "    return X\n",
    "\n",
    "J1 = []\n",
    "J2 = []\n",
    "\n",
    "##Take n principal components\n",
    "def PrincipalComponents(n):\n",
    "    pca = PCA(n_components= n)\n",
    "    X_train1 = pca.fit_transform(X_train)\n",
    "    X_test1 = pca.transform(X_test)\n",
    "    return X_train1, X_test1\n",
    "\n",
    "## Logistic Regression\n",
    "\n",
    "def LogisticRegression(X_train2, y_train2, X_test2, y_test2, penalty):\n",
    "    print(\"penalty= \", penalty)\n",
    "    regr = linear_model.LogisticRegression(solver='lbfgs',max_iter=1000, C=penalty)\n",
    "    regr.fit(X_train2, y_train2)\n",
    "    score1 = regr.score(X_train2, y_train2)\n",
    "    score2 = regr.score(X_test2, y_test2)\n",
    "    print(score1, score2)\n",
    "    Prediction = regr.predict(X_test2)\n",
    "    return score1, score2, Prediction\n"
   ]
  },
  {
   "cell_type": "markdown",
   "metadata": {},
   "source": [
    "**So usually variance of 0.8 is sufficient to explain the variation in data, so we will first train data by taking the top n principal components which can explaine the variance of 0.8**"
   ]
  },
  {
   "cell_type": "code",
   "execution_count": 34,
   "metadata": {},
   "outputs": [
    {
     "name": "stdout",
     "output_type": "stream",
     "text": [
      "penalty=  0.1\n",
      "0.891455427229 0.895357142857\n",
      "penalty=  0.1\n",
      "0.892290843293 0.895952380952\n",
      "penalty=  0.1\n",
      "0.893004863415 0.895833333333\n",
      "penalty=  0.1\n",
      "0.893308986566 0.895238095238\n",
      "penalty=  0.1\n",
      "0.892629473772 0.895833333333\n",
      "penalty=  0.1\n",
      "0.893284268629 0.895595238095\n",
      "penalty=  0.1\n",
      "0.892657974693 0.895833333333\n",
      "penalty=  0.1\n",
      "0.892522499167 0.894404761905\n",
      "penalty=  0.1\n",
      "0.892789543231 0.895357142857\n",
      "penalty=  0.1\n",
      "0.892693355402 0.895952380952\n",
      "penalty=  0.1\n",
      "0.892503583214 0.895357142857\n",
      "penalty=  0.1\n",
      "0.891906712687 0.895476190476\n",
      "penalty=  0.1\n",
      "0.892378363176 0.895476190476\n",
      "penalty=  0.1\n",
      "0.89203357474 0.895714285714\n"
     ]
    },
    {
     "data": {
      "image/png": "[encoded data removed]",
      "text/plain": [
       "<matplotlib.figure.Figure at 0x7f1f28109b00>"
      ]
     },
     "metadata": {},
     "output_type": "display_data"
    }
   ],
   "source": [
    "X_train1, X_test1 = PrincipalComponents(0.8)   # Getting principal components\n",
    "J1 = []\n",
    "J2 = []\n",
    "for i in range(20000, X_train1.shape[0], 1000):\n",
    "    score1, score2, Prediction = LogisticRegression(X_train1[:i+1,:], y_train[:i+1, ], \n",
    "                                                    X_test1[:i+1,:], y_test[:i+1], 0.1)\n",
    "    J1.append(1-score1)\n",
    "    J2.append(1-score2)\n",
    "    \n",
    "    \n",
    "plt.plot(J2, 'b-')\n",
    "plt.plot(J1, 'r-')\n",
    "plt.show()"
   ]
  },
  {
   "cell_type": "markdown",
   "metadata": {},
   "source": [
    "- We got a very irregular graph and not a satisfied accuracy and the accuracy doesn't increase with the increaing training data. So it seems that we are suffering from a high bias. Let us try to train data with top n components explaining the variance of 0.9"
   ]
  },
  {
   "cell_type": "code",
   "execution_count": 37,
   "metadata": {},
   "outputs": [
    {
     "name": "stdout",
     "output_type": "stream",
     "text": [
      "penalty=  0.1\n",
      "0.910604469777 0.908571428571\n",
      "penalty=  0.1\n",
      "0.911538998186 0.909047619048\n",
      "penalty=  0.1\n",
      "0.911656014956 0.909047619048\n",
      "penalty=  0.1\n",
      "0.910819966532 0.907857142857\n",
      "penalty=  0.1\n",
      "0.910734202531 0.907261904762\n",
      "penalty=  0.1\n",
      "0.910475982692 0.908452380952\n",
      "penalty=  0.1\n",
      "0.91014102962 0.908214285714\n",
      "penalty=  0.1\n",
      "0.910494737877 0.90880952381\n",
      "penalty=  0.1\n",
      "0.910096559483 0.909285714286\n",
      "penalty=  0.1\n",
      "0.909763887645 0.908928571429\n"
     ]
    },
    {
     "data": {
      "image/png": "[encoded data removed]",
      "text/plain": [
       "<matplotlib.figure.Figure at 0x7f1f282b2cc0>"
      ]
     },
     "metadata": {},
     "output_type": "display_data"
    }
   ],
   "source": [
    "X_train1, X_test1 = PrincipalComponents(0.9)\n",
    "J1 = []\n",
    "J2 = []\n",
    "for i in range(10000, X_train1.shape[0], 1500):\n",
    "    score1, score2, Prediction = LogisticRegression(X_train1[:i+1,:],\n",
    "                                                    y_train[:i+1, ], X_test1[:i+1,:], y_test[:i+1],0.1)\n",
    "    J1.append(1-score1)\n",
    "    J2.append(1-score2)\n",
    "    \n",
    "    \n",
    "plt.plot(J2, 'b-')\n",
    "plt.plot(J1, 'r-')  #training error\n",
    "plt.show()"
   ]
  },
  {
   "cell_type": "markdown",
   "metadata": {},
   "source": [
    "** We can see that accuracy didn't increase much so it doesn't seems a gud idea. Let us again take top n components explaining the variance of 0.8 and also include thieir polynomials(degree = 2)**."
   ]
  },
  {
   "cell_type": "markdown",
   "metadata": {},
   "source": [
    "#### Add polynomial features"
   ]
  },
  {
   "cell_type": "markdown",
   "metadata": {},
   "source": [
    "##### 1.Logistic Regression"
   ]
  },
  {
   "cell_type": "code",
   "execution_count": 38,
   "metadata": {},
   "outputs": [
    {
     "name": "stdout",
     "output_type": "stream",
     "text": [
      "(8400, 43) (33600, 43)\n",
      "(8400, 989) (33600, 989)\n",
      "penalty=  0.1\n",
      "0.999160033599 0.971666666667\n",
      "penalty=  0.1\n",
      "0.999207577073 0.974047619048\n",
      "penalty=  0.1\n",
      "0.999178600764 0.97369047619\n",
      "penalty=  0.1\n",
      "0.998983085319 0.973452380952\n",
      "penalty=  0.1\n",
      "0.998677462017 0.974047619048\n",
      "penalty=  0.1\n",
      "0.998400049229 0.975595238095\n"
     ]
    },
    {
     "data": {
      "image/png": "[encoded data removed]",
      "text/plain": [
       "<matplotlib.figure.Figure at 0x7f1f283297f0>"
      ]
     },
     "metadata": {},
     "output_type": "display_data"
    }
   ],
   "source": [
    "from sklearn.preprocessing import PolynomialFeatures\n",
    "\n",
    "poly = PolynomialFeatures(include_bias = False)\n",
    "X_train1, X_test1 = PrincipalComponents(0.81)\n",
    "print(X_test1.shape, X_train1.shape)\n",
    "\n",
    "X_train1 = poly.fit_transform(X_train1)\n",
    "X_test1 = poly.transform(X_test1)\n",
    "\n",
    "print(X_test1.shape, X_train1.shape)\n",
    "\n",
    "sigma = np.std(X_train1, axis = 0)\n",
    "mean = np.mean(X_train1, axis = 0)\n",
    "\n",
    "X_train1 = normalize(sigma , mean , X_train1)\n",
    "X_test1 = normalize(sigma , mean, X_test1)\n",
    "\n",
    "J1 = []\n",
    "J2 = []\n",
    "for i in range(25000, X_train1.shape[0], 1500):\n",
    "    score1, score2, Prediction = LogisticRegression(X_train1[:i+1,:], \n",
    "                                                    y_train[:i+1, ], X_test1[:i+1,:], y_test[:i+1],0.1)\n",
    "    J1.append(1-score1)\n",
    "    J2.append(1-score2)\n",
    "    \n",
    "    \n",
    "plt.plot(J2, 'b-')\n",
    "plt.plot(J1, 'r-')\n",
    "plt.show()"
   ]
  },
  {
   "cell_type": "markdown",
   "metadata": {},
   "source": [
    "** We got way better accuracy here and is data over  fitting .... may be but since we are getting good result on cross validation data also, It's gud to go with this.**"
   ]
  },
  {
   "cell_type": "markdown",
   "metadata": {},
   "source": [
    "#### Saving data trained with logistic regression"
   ]
  },
  {
   "cell_type": "code",
   "execution_count": 40,
   "metadata": {},
   "outputs": [
    {
     "name": "stdout",
     "output_type": "stream",
     "text": [
      "(42000, 51) (28000, 51)\n",
      "(42000, 1377) (28000, 1377)\n",
      "(42000, 1377) (28000, 1377)\n",
      "0.999476190476\n"
     ]
    }
   ],
   "source": [
    "from sklearn.preprocessing import PolynomialFeatures\n",
    "# poly = PolynomialFeatures(include_bias = False)\n",
    "\n",
    "X1 = X.copy()\n",
    "Test1 = Test.copy()\n",
    "\n",
    "pca = PCA(n_components= 0.8388)\n",
    "X1 = pca.fit_transform(X1)\n",
    "Test1 = pca.transform(Test)\n",
    "\n",
    "print(X1.shape, Test1.shape)\n",
    "\n",
    "X1 = poly.fit_transform(X1)\n",
    "Test1 = poly.fit_transform(Test1)\n",
    "\n",
    "print(X1.shape, Test1.shape)\n",
    "\n",
    "sigma = np.std(X1, axis = 0)\n",
    "mean = np.mean(X1, axis = 0)\n",
    "\n",
    "X1 = normalize(sigma, mean, X1)\n",
    "Test1 = normalize(sigma , mean, Test1)\n",
    "print(X1.shape, Test1.shape)\n",
    "\n",
    "\n",
    "regr = linear_model.LogisticRegression(solver='lbfgs',max_iter=1000, C=0.1)\n",
    "regr.fit(X1, Y)\n",
    "score1 = regr.score(X1, Y)\n",
    "print(score1)\n",
    "Prediction = regr.predict(Test1)\n",
    "image_id = np.arange(1,Prediction.shape[0]+1)\n",
    "pd.DataFrame({\"ImageId\": image_id, \"Label\": Prediction}).to_csv('out_reg1.csv', \n",
    "                                                                      index=False, header=True)"
   ]
  },
  {
   "cell_type": "markdown",
   "metadata": {},
   "source": [
    "#### I submitted the data and got an accuracy of 0.9815. Now we will try to train data with SVM and kernel = 'rbf'. Note we will not use polynomial features with SVM since SVM maps the data in higher dimensions so there is no point in including the polynomial features, also SVM doesn't perform well with too many features."
   ]
  },
  {
   "cell_type": "markdown",
   "metadata": {},
   "source": [
    "##### 2.SVM"
   ]
  },
  {
   "cell_type": "code",
   "execution_count": 41,
   "metadata": {},
   "outputs": [
    {
     "name": "stdout",
     "output_type": "stream",
     "text": [
      "(8400, 43) (33600, 43)\n",
      "0.9998800048 0.977976190476\n",
      "0.99992453115 0.978452380952\n",
      "0.99992857398 0.978095238095\n",
      "0.999796617064 0.979404761905\n",
      "0.999774200832 0.979166666667\n",
      "0.999784622012 0.980119047619\n"
     ]
    },
    {
     "data": {
      "image/png": "[encoded data removed]",
      "text/plain": [
       "<matplotlib.figure.Figure at 0x7f1f283a4b70>"
      ]
     },
     "metadata": {},
     "output_type": "display_data"
    }
   ],
   "source": [
    "from sklearn.preprocessing import PolynomialFeatures\n",
    "from sklearn.svm import SVC\n",
    "\n",
    "def supportVM(X_train2, y_train2, X_test2, y_test2, penalty):\n",
    "    regr = SVC(kernel ='rbf', C=penalty)\n",
    "    regr.fit(X_train2, y_train2)\n",
    "    score1 = regr.score(X_train2, y_train2)\n",
    "    score2 = regr.score(X_test2, y_test2)\n",
    "    print(score1, score2)\n",
    "    Prediction = regr.predict(X_test2)\n",
    "    return score1, score2, Prediction\n",
    "\n",
    "X_train1, X_test1 = PrincipalComponents(0.81)\n",
    "print(X_test1.shape, X_train1.shape)\n",
    "\n",
    "sigma = np.std(X_train1, axis = 0)\n",
    "mean = np.mean(X_train1, axis = 0)\n",
    "\n",
    "X_train1 = normalize(sigma , mean , X_train1)\n",
    "X_test1 = normalize(sigma , mean, X_test1)\n",
    "\n",
    "J1 = []\n",
    "J2 = []\n",
    "for i in range(25000, X_train1.shape[0], 1500):\n",
    "    score1, score2, Prediction = supportVM(X_train1[:i+1,:], \n",
    "                                                    y_train[:i+1, ], X_test1[:i+1,:], y_test[:i+1],10)\n",
    "    J1.append(1-score1)\n",
    "    J2.append(1-score2)\n",
    "    \n",
    "plt.plot(J2, 'b-')\n",
    "plt.plot(J1, 'r-')\n",
    "plt.show()"
   ]
  },
  {
   "cell_type": "markdown",
   "metadata": {},
   "source": [
    "- So it seems that this model is performin a little bit better, So we will go with it, Let's save the prediction and save it."
   ]
  },
  {
   "cell_type": "markdown",
   "metadata": {},
   "source": [
    "##### Saving prediction trained with SVM"
   ]
  },
  {
   "cell_type": "code",
   "execution_count": 26,
   "metadata": {},
   "outputs": [
    {
     "name": "stdout",
     "output_type": "stream",
     "text": [
      "(42000, 51) (28000, 51)\n",
      "(42000, 51) (28000, 51)\n",
      "(42000, 51) (28000, 51)\n",
      "0.999928571429\n"
     ]
    }
   ],
   "source": [
    "from sklearn.preprocessing import PolynomialFeatures\n",
    "from sklearn.svm import SVC\n",
    "# poly = PolynomialFeatures(include_bias = False)\n",
    "\n",
    "X1 = X.copy()\n",
    "Test1 = Test.copy()\n",
    "\n",
    "pca = PCA(n_components= 0.8388)\n",
    "X1 = pca.fit_transform(X1)\n",
    "Test1 = pca.transform(Test)\n",
    "\n",
    "print(X1.shape, Test1.shape)\n",
    "\n",
    "\n",
    "print(X1.shape, Test1.shape)\n",
    "\n",
    "sigma = np.std(X1, axis = 0)\n",
    "mean = np.mean(X1, axis = 0)\n",
    "\n",
    "X1 = normalize(sigma, mean, X1)\n",
    "Test1 = normalize(sigma , mean, Test1)\n",
    "print(X1.shape, Test1.shape)\n",
    "\n",
    "\n",
    "regr = SVC(kernel ='rbf', C=10)\n",
    "regr.fit(X1, Y)\n",
    "score1 = regr.score(X1, Y)\n",
    "print(score1)\n",
    "Prediction = regr.predict(Test1)\n",
    "Prediction = regr.predict(Test1)\n",
    "image_id = np.arange(1,Prediction.shape[0]+1)\n",
    "pd.DataFrame({\"ImageId\": image_id, \"Label\": Prediction}).to_csv('out_svm.csv', \n",
    "                                                                      index=False, header=True)"
   ]
  },
  {
   "cell_type": "markdown",
   "metadata": {},
   "source": [
    "** I got an accuracy of 0.98442 on leaderboad with above model**.\n",
    "I am learning CNN, So in future I will use that to train data and most probably I will launch a kernel also .Please give your valuable feedback."
   ]
  }
 ],
 "metadata": {
  "kernelspec": {
   "display_name": "Python 3",
   "language": "python",
   "name": "python3"
  },
  "language_info": {
   "codemirror_mode": {
    "name": "ipython",
    "version": 3
   },
   "file_extension": ".py",
   "mimetype": "text/x-python",
   "name": "python",
   "nbconvert_exporter": "python",
   "pygments_lexer": "ipython3",
   "version": "3.6.2"
  }
 },
 "nbformat": 4,
 "nbformat_minor": 2
}
