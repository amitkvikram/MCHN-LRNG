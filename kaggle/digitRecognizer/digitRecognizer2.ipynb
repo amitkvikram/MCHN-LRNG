{
 "cells": [
  {
   "cell_type": "code",
   "execution_count": 1,
   "metadata": {},
   "outputs": [
    {
     "data": {
      "text/plain": [
       "42000"
      ]
     },
     "execution_count": 1,
     "metadata": {},
     "output_type": "execute_result"
    }
   ],
   "source": [
    "import numpy as np\n",
    "import matplotlib.pyplot as plt\n",
    "import scipy.io\n",
    "\n",
    "raw_data = open(\"train.csv\",'rt')\n",
    "data = np.loadtxt(raw_data, delimiter = ',', skiprows =1)\n",
    "\n",
    "data.shape[0]"
   ]
  },
  {
   "cell_type": "code",
   "execution_count": 9,
   "metadata": {},
   "outputs": [],
   "source": [
    "import numpy as np\n",
    "import matplotlib.pyplot as plt\n",
    "\n",
    "def add_x0(X):\n",
    "    return np.column_stack((np.zeros(X.shape[0],), X))\n",
    "\n",
    "np.random.shuffle(data)\n",
    "np.random.shuffle(data)\n",
    "\n",
    "X_train = data[:33600,1:]\n",
    "y_train = data[:33600, 0]\n",
    "X_train[X_train>0] = 1\n",
    "\n",
    "X_cv = data[25200:33600,1:]\n",
    "y_cv = data[25200:33600, 0]\n",
    "X_cv[X_cv>0] = 255 \n",
    "\n",
    "X_test = data[33600:, 1:]\n",
    "y_test = data[33600:, 0]\n",
    "X_test[X_test >0] = 1\n"
   ]
  },
  {
   "cell_type": "code",
   "execution_count": 10,
   "metadata": {},
   "outputs": [
    {
     "name": "stdout",
     "output_type": "stream",
     "text": [
      "0.835238095238 0.792619047619\n"
     ]
    }
   ],
   "source": [
    "from sklearn import linear_model\n",
    "\n",
    "regr = linear_model.LogisticRegression(solver='lbfgs')\n",
    "\n",
    "regr.fit(X_train, y_train)\n",
    "score1 = regr.score(X_train, y_train)\n",
    "score = regr.score(X_test, y_test)\n",
    "print(score1, score)"
   ]
  }
 ],
 "metadata": {
  "kernelspec": {
   "display_name": "Python 3",
   "language": "python",
   "name": "python3"
  },
  "language_info": {
   "codemirror_mode": {
    "name": "ipython",
    "version": 3
   },
   "file_extension": ".py",
   "mimetype": "text/x-python",
   "name": "python",
   "nbconvert_exporter": "python",
   "pygments_lexer": "ipython3",
   "version": "3.5.2"
  }
 },
 "nbformat": 4,
 "nbformat_minor": 2
}
