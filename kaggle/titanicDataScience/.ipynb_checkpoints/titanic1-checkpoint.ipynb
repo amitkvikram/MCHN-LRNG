{
 "cells": [
  {
   "cell_type": "code",
   "execution_count": 1,
   "metadata": {
    "_cell_guid": "0f67258a-e3a0-4206-b50c-c4306b766c53",
    "_uuid": "df8b157d87ffef42493e0fe8f597a74f675b5685",
    "collapsed": true,
    "scrolled": true
   },
   "outputs": [],
   "source": [
    "# This Python 3 environment comes with many helpful analytics libraries installed\n",
    "# It is defined by the kaggle/python docker image: https://github.com/kaggle/docker-python\n",
    "# For example, here's several helpful packages to load in \n",
    "\n",
    "import numpy as np # linear algebra\n",
    "import pandas as pd # data processing, CSV file I/O (e.g. pd.read_csv)\n",
    "from sklearn.linear_model import RidgeCV, LinearRegression, LassoCV\n",
    "from scipy.stats import skew\n",
    "import matplotlib.pyplot as plt\n",
    "import seaborn as sns\n",
    "import scipy.stats as st\n",
    "from IPython.display import display, HTML\n",
    "import warnings\n",
    "warnings.filterwarnings('ignore')\n",
    "%matplotlib inline\n",
    "\n",
    "# Input data files are available in the \"../input/\" directory.\n",
    "# For example, running this (by clicking run or pressing Shift+Enter) will list the files in the input directory\n",
    "\n",
    "from subprocess import check_output\n",
    "# print(check_output([\"ls\", \"../input\"]).decode(\"utf8\"))\n",
    "pd.options.display.max_columns = 14\n",
    "train = pd.read_csv('train.csv')\n",
    "test = pd.read_csv('test.csv')\n",
    "\n",
    "# Any results you write to the current directory are saved as output."
   ]
  },
  {
   "cell_type": "code",
   "execution_count": 78,
   "metadata": {
    "_cell_guid": "970f73e3-2fff-4f46-9215-b5e32ddf4afb",
    "_uuid": "2319cbbac85e9b50cefb7ac2e7cad4a765f20176",
    "scrolled": true
   },
   "outputs": [
    {
     "data": {
      "text/html": [
       "<div>\n",
       "<style>\n",
       "    .dataframe thead tr:only-child th {\n",
       "        text-align: right;\n",
       "    }\n",
       "\n",
       "    .dataframe thead th {\n",
       "        text-align: left;\n",
       "    }\n",
       "\n",
       "    .dataframe tbody tr th {\n",
       "        vertical-align: top;\n",
       "    }\n",
       "</style>\n",
       "<table border=\"1\" class=\"dataframe\">\n",
       "  <thead>\n",
       "    <tr style=\"text-align: right;\">\n",
       "      <th></th>\n",
       "      <th>PassengerId</th>\n",
       "      <th>Survived</th>\n",
       "      <th>Pclass</th>\n",
       "      <th>Name</th>\n",
       "      <th>Sex</th>\n",
       "      <th>Age</th>\n",
       "      <th>SibSp</th>\n",
       "      <th>Parch</th>\n",
       "      <th>Ticket</th>\n",
       "      <th>Fare</th>\n",
       "      <th>Cabin</th>\n",
       "      <th>Embarked</th>\n",
       "    </tr>\n",
       "  </thead>\n",
       "  <tbody>\n",
       "    <tr>\n",
       "      <th>886</th>\n",
       "      <td>887</td>\n",
       "      <td>0</td>\n",
       "      <td>2</td>\n",
       "      <td>Montvila, Rev. Juozas</td>\n",
       "      <td>male</td>\n",
       "      <td>27.0</td>\n",
       "      <td>0</td>\n",
       "      <td>0</td>\n",
       "      <td>211536</td>\n",
       "      <td>13.00</td>\n",
       "      <td>NaN</td>\n",
       "      <td>S</td>\n",
       "    </tr>\n",
       "    <tr>\n",
       "      <th>887</th>\n",
       "      <td>888</td>\n",
       "      <td>1</td>\n",
       "      <td>1</td>\n",
       "      <td>Graham, Miss. Margaret Edith</td>\n",
       "      <td>female</td>\n",
       "      <td>19.0</td>\n",
       "      <td>0</td>\n",
       "      <td>0</td>\n",
       "      <td>112053</td>\n",
       "      <td>30.00</td>\n",
       "      <td>B42</td>\n",
       "      <td>S</td>\n",
       "    </tr>\n",
       "    <tr>\n",
       "      <th>888</th>\n",
       "      <td>889</td>\n",
       "      <td>0</td>\n",
       "      <td>3</td>\n",
       "      <td>Johnston, Miss. Catherine Helen \"Carrie\"</td>\n",
       "      <td>female</td>\n",
       "      <td>NaN</td>\n",
       "      <td>1</td>\n",
       "      <td>2</td>\n",
       "      <td>W./C. 6607</td>\n",
       "      <td>23.45</td>\n",
       "      <td>NaN</td>\n",
       "      <td>S</td>\n",
       "    </tr>\n",
       "    <tr>\n",
       "      <th>889</th>\n",
       "      <td>890</td>\n",
       "      <td>1</td>\n",
       "      <td>1</td>\n",
       "      <td>Behr, Mr. Karl Howell</td>\n",
       "      <td>male</td>\n",
       "      <td>26.0</td>\n",
       "      <td>0</td>\n",
       "      <td>0</td>\n",
       "      <td>111369</td>\n",
       "      <td>30.00</td>\n",
       "      <td>C148</td>\n",
       "      <td>C</td>\n",
       "    </tr>\n",
       "    <tr>\n",
       "      <th>890</th>\n",
       "      <td>891</td>\n",
       "      <td>0</td>\n",
       "      <td>3</td>\n",
       "      <td>Dooley, Mr. Patrick</td>\n",
       "      <td>male</td>\n",
       "      <td>32.0</td>\n",
       "      <td>0</td>\n",
       "      <td>0</td>\n",
       "      <td>370376</td>\n",
       "      <td>7.75</td>\n",
       "      <td>NaN</td>\n",
       "      <td>Q</td>\n",
       "    </tr>\n",
       "  </tbody>\n",
       "</table>\n",
       "</div>"
      ],
      "text/plain": [
       "     PassengerId  Survived  Pclass                                      Name  \\\n",
       "886          887         0       2                     Montvila, Rev. Juozas   \n",
       "887          888         1       1              Graham, Miss. Margaret Edith   \n",
       "888          889         0       3  Johnston, Miss. Catherine Helen \"Carrie\"   \n",
       "889          890         1       1                     Behr, Mr. Karl Howell   \n",
       "890          891         0       3                       Dooley, Mr. Patrick   \n",
       "\n",
       "        Sex   Age  SibSp  Parch      Ticket   Fare Cabin Embarked  \n",
       "886    male  27.0      0      0      211536  13.00   NaN        S  \n",
       "887  female  19.0      0      0      112053  30.00   B42        S  \n",
       "888  female   NaN      1      2  W./C. 6607  23.45   NaN        S  \n",
       "889    male  26.0      0      0      111369  30.00  C148        C  \n",
       "890    male  32.0      0      0      370376   7.75   NaN        Q  "
      ]
     },
     "execution_count": 78,
     "metadata": {},
     "output_type": "execute_result"
    }
   ],
   "source": [
    "pd.options.display.max_rows = 400\n",
    "train.tail( )"
   ]
  },
  {
   "cell_type": "code",
   "execution_count": 70,
   "metadata": {
    "_cell_guid": "8d2306d3-ecc5-4c9c-8a7f-fa3464ca68bf",
    "_uuid": "d39ada20a35cece17800dcef02b372c127beb499"
   },
   "outputs": [
    {
     "data": {
      "text/html": [
       "<div>\n",
       "<style>\n",
       "    .dataframe thead tr:only-child th {\n",
       "        text-align: right;\n",
       "    }\n",
       "\n",
       "    .dataframe thead th {\n",
       "        text-align: left;\n",
       "    }\n",
       "\n",
       "    .dataframe tbody tr th {\n",
       "        vertical-align: top;\n",
       "    }\n",
       "</style>\n",
       "<table border=\"1\" class=\"dataframe\">\n",
       "  <thead>\n",
       "    <tr style=\"text-align: right;\">\n",
       "      <th></th>\n",
       "      <th>PassengerId</th>\n",
       "      <th>Pclass</th>\n",
       "      <th>Name</th>\n",
       "      <th>Sex</th>\n",
       "      <th>Age</th>\n",
       "      <th>SibSp</th>\n",
       "      <th>Parch</th>\n",
       "      <th>Ticket</th>\n",
       "      <th>Fare</th>\n",
       "      <th>Cabin</th>\n",
       "      <th>Embarked</th>\n",
       "    </tr>\n",
       "  </thead>\n",
       "  <tbody>\n",
       "    <tr>\n",
       "      <th>413</th>\n",
       "      <td>1305</td>\n",
       "      <td>3</td>\n",
       "      <td>Spector, Mr. Woolf</td>\n",
       "      <td>male</td>\n",
       "      <td>NaN</td>\n",
       "      <td>0</td>\n",
       "      <td>0</td>\n",
       "      <td>A.5. 3236</td>\n",
       "      <td>8.0500</td>\n",
       "      <td>NaN</td>\n",
       "      <td>S</td>\n",
       "    </tr>\n",
       "    <tr>\n",
       "      <th>414</th>\n",
       "      <td>1306</td>\n",
       "      <td>1</td>\n",
       "      <td>Oliva y Ocana, Dona. Fermina</td>\n",
       "      <td>female</td>\n",
       "      <td>39.0</td>\n",
       "      <td>0</td>\n",
       "      <td>0</td>\n",
       "      <td>PC 17758</td>\n",
       "      <td>108.9000</td>\n",
       "      <td>C105</td>\n",
       "      <td>C</td>\n",
       "    </tr>\n",
       "    <tr>\n",
       "      <th>415</th>\n",
       "      <td>1307</td>\n",
       "      <td>3</td>\n",
       "      <td>Saether, Mr. Simon Sivertsen</td>\n",
       "      <td>male</td>\n",
       "      <td>38.5</td>\n",
       "      <td>0</td>\n",
       "      <td>0</td>\n",
       "      <td>SOTON/O.Q. 3101262</td>\n",
       "      <td>7.2500</td>\n",
       "      <td>NaN</td>\n",
       "      <td>S</td>\n",
       "    </tr>\n",
       "    <tr>\n",
       "      <th>416</th>\n",
       "      <td>1308</td>\n",
       "      <td>3</td>\n",
       "      <td>Ware, Mr. Frederick</td>\n",
       "      <td>male</td>\n",
       "      <td>NaN</td>\n",
       "      <td>0</td>\n",
       "      <td>0</td>\n",
       "      <td>359309</td>\n",
       "      <td>8.0500</td>\n",
       "      <td>NaN</td>\n",
       "      <td>S</td>\n",
       "    </tr>\n",
       "    <tr>\n",
       "      <th>417</th>\n",
       "      <td>1309</td>\n",
       "      <td>3</td>\n",
       "      <td>Peter, Master. Michael J</td>\n",
       "      <td>male</td>\n",
       "      <td>NaN</td>\n",
       "      <td>1</td>\n",
       "      <td>1</td>\n",
       "      <td>2668</td>\n",
       "      <td>22.3583</td>\n",
       "      <td>NaN</td>\n",
       "      <td>C</td>\n",
       "    </tr>\n",
       "  </tbody>\n",
       "</table>\n",
       "</div>"
      ],
      "text/plain": [
       "     PassengerId  Pclass                          Name     Sex   Age  SibSp  \\\n",
       "413         1305       3            Spector, Mr. Woolf    male   NaN      0   \n",
       "414         1306       1  Oliva y Ocana, Dona. Fermina  female  39.0      0   \n",
       "415         1307       3  Saether, Mr. Simon Sivertsen    male  38.5      0   \n",
       "416         1308       3           Ware, Mr. Frederick    male   NaN      0   \n",
       "417         1309       3      Peter, Master. Michael J    male   NaN      1   \n",
       "\n",
       "     Parch              Ticket      Fare Cabin Embarked  \n",
       "413      0           A.5. 3236    8.0500   NaN        S  \n",
       "414      0            PC 17758  108.9000  C105        C  \n",
       "415      0  SOTON/O.Q. 3101262    7.2500   NaN        S  \n",
       "416      0              359309    8.0500   NaN        S  \n",
       "417      1                2668   22.3583   NaN        C  "
      ]
     },
     "execution_count": 70,
     "metadata": {},
     "output_type": "execute_result"
    }
   ],
   "source": [
    "test.tail()"
   ]
  },
  {
   "cell_type": "code",
   "execution_count": 4,
   "metadata": {
    "_cell_guid": "aa2ec5d5-bdca-4c7e-8499-c5d4886a9b8b",
    "_uuid": "fc59f805038ec4ec7ce6ef62e8133f40d7021115"
   },
   "outputs": [
    {
     "name": "stdout",
     "output_type": "stream",
     "text": [
      "(891, 12)\n",
      "(418, 11)\n"
     ]
    }
   ],
   "source": [
    "print(train.shape)\n",
    "print(test.shape)"
   ]
  },
  {
   "cell_type": "code",
   "execution_count": 5,
   "metadata": {
    "_cell_guid": "cca557cf-531d-4a56-a258-86c6d7789951",
    "_kg_hide-output": false,
    "_uuid": "25ffbc957d142e9052b5ca98d2b6ba3adb7735ee"
   },
   "outputs": [
    {
     "name": "stdout",
     "output_type": "stream",
     "text": [
      "<class 'pandas.core.frame.DataFrame'>\n",
      "RangeIndex: 891 entries, 0 to 890\n",
      "Data columns (total 12 columns):\n",
      "PassengerId    891 non-null int64\n",
      "Survived       891 non-null int64\n",
      "Pclass         891 non-null int64\n",
      "Name           891 non-null object\n",
      "Sex            891 non-null object\n",
      "Age            714 non-null float64\n",
      "SibSp          891 non-null int64\n",
      "Parch          891 non-null int64\n",
      "Ticket         891 non-null object\n",
      "Fare           891 non-null float64\n",
      "Cabin          204 non-null object\n",
      "Embarked       889 non-null object\n",
      "dtypes: float64(2), int64(5), object(5)\n",
      "memory usage: 83.6+ KB\n"
     ]
    }
   ],
   "source": [
    "train.info()"
   ]
  },
  {
   "cell_type": "code",
   "execution_count": 6,
   "metadata": {
    "_cell_guid": "30bc3387-6753-41b6-934b-b7dd0ecf7446",
    "_uuid": "de8365f93a04515a3ca94102aa1f7c4d1aefc43f"
   },
   "outputs": [
    {
     "name": "stdout",
     "output_type": "stream",
     "text": [
      "<class 'pandas.core.frame.DataFrame'>\n",
      "RangeIndex: 418 entries, 0 to 417\n",
      "Data columns (total 11 columns):\n",
      "PassengerId    418 non-null int64\n",
      "Pclass         418 non-null int64\n",
      "Name           418 non-null object\n",
      "Sex            418 non-null object\n",
      "Age            332 non-null float64\n",
      "SibSp          418 non-null int64\n",
      "Parch          418 non-null int64\n",
      "Ticket         418 non-null object\n",
      "Fare           417 non-null float64\n",
      "Cabin          91 non-null object\n",
      "Embarked       418 non-null object\n",
      "dtypes: float64(2), int64(4), object(5)\n",
      "memory usage: 36.0+ KB\n"
     ]
    }
   ],
   "source": [
    "test.info()"
   ]
  },
  {
   "cell_type": "markdown",
   "metadata": {
    "_cell_guid": "dbd70b99-78dc-4c2c-b888-0ee25cb0e6d2",
    "_uuid": "7d4bc15017716fadd2d25dee5c8ac47a7c9795f0"
   },
   "source": [
    "## Numerical Features"
   ]
  },
  {
   "cell_type": "code",
   "execution_count": 7,
   "metadata": {
    "_cell_guid": "7a65a77b-8e5f-4fde-934f-d5a64188f8f7",
    "_uuid": "01200e7c4c1f2bc7ac14f5168f5c801705a50eb3"
   },
   "outputs": [
    {
     "name": "stdout",
     "output_type": "stream",
     "text": [
      "No of numeric Features:  7 \n",
      "Numeric Features: ['PassengerId', 'Survived', 'Pclass', 'Age', 'SibSp', 'Parch', 'Fare']\n"
     ]
    }
   ],
   "source": [
    "numeric_features = list(train.select_dtypes(exclude=['O','category']).columns)\n",
    "numeric_features_num = len(numeric_features)\n",
    "print(\"No of numeric Features: \",numeric_features_num,\"\\nNumeric Features:\", numeric_features)"
   ]
  },
  {
   "cell_type": "markdown",
   "metadata": {
    "_cell_guid": "ba6122b1-1220-4113-be57-09213cff7067",
    "_uuid": "0c6770aaf6358a6b4da92c795e13062b7b536eca"
   },
   "source": [
    "## Categorical Features"
   ]
  },
  {
   "cell_type": "code",
   "execution_count": 8,
   "metadata": {
    "_cell_guid": "f04f1ecd-5cfd-4a0f-901e-0f3b08504310",
    "_uuid": "7cb0a7914a7dafec120cb9f43d1e0f6c288e3697"
   },
   "outputs": [
    {
     "name": "stdout",
     "output_type": "stream",
     "text": [
      "No of categorical features: 5 \n",
      "Category Features: ['Name', 'Sex', 'Ticket', 'Cabin', 'Embarked']\n"
     ]
    }
   ],
   "source": [
    "category_features= list(train.select_dtypes(include = ['O','category']).columns)\n",
    "category_features_num = len(category_features)\n",
    "print(\"No of categorical features:\",category_features_num,\n",
    "      \"\\nCategory Features:\",category_features)"
   ]
  },
  {
   "cell_type": "code",
   "execution_count": 9,
   "metadata": {
    "_cell_guid": "fbd61338-8db1-4161-84b4-3d068629f763",
    "_uuid": "4147bee6c7ed243a74911f7b4514bf930d2f73f6",
    "scrolled": true
   },
   "outputs": [
    {
     "name": "stdout",
     "output_type": "stream",
     "text": [
      "Index(['110152', '110413', '110465', '110564', '110813', '111240', '111320',\n",
      "       '111361', '111369', '111426',\n",
      "       ...\n",
      "       'STON/O2. 3101290', 'SW/PP 751', 'W./C. 14258', 'W./C. 14263',\n",
      "       'W./C. 6607', 'W./C. 6608', 'W./C. 6609', 'W.E.P. 5734', 'W/C 14208',\n",
      "       'WE/P 5735'],\n",
      "      dtype='object', length=681)\n"
     ]
    }
   ],
   "source": [
    "train1 = train.copy()\n",
    "test1 = test.copy()\n",
    "for col in category_features:\n",
    "    train1[col] = train1[col].astype('category')\n",
    "    test1[col] = test1[col].astype('category')\n",
    "#     print(col, test_c[col].cat.categories)\n",
    "print(train1['Ticket'].cat.categories)"
   ]
  },
  {
   "cell_type": "markdown",
   "metadata": {
    "_cell_guid": "875f5d3f-7762-4dab-b0f6-f5b6b8c96283",
    "_uuid": "aa18bd92778b11cd144b482731c10e16a4319ab6"
   },
   "source": [
    "## Feature Selection and transformation"
   ]
  },
  {
   "cell_type": "markdown",
   "metadata": {},
   "source": [
    "### 1.Sex"
   ]
  },
  {
   "cell_type": "code",
   "execution_count": 10,
   "metadata": {},
   "outputs": [
    {
     "name": "stdout",
     "output_type": "stream",
     "text": [
      "0\n",
      "0\n"
     ]
    }
   ],
   "source": [
    "print(sum(train1['Sex'].isnull()))\n",
    "print(sum(test1['Sex'].isnull()))"
   ]
  },
  {
   "cell_type": "code",
   "execution_count": 11,
   "metadata": {},
   "outputs": [
    {
     "name": "stdout",
     "output_type": "stream",
     "text": [
      "category\n",
      "category\n"
     ]
    }
   ],
   "source": [
    "print(train1['Sex'].dtypes)\n",
    "print(test1['Sex'].dtypes)"
   ]
  },
  {
   "cell_type": "code",
   "execution_count": 12,
   "metadata": {},
   "outputs": [
    {
     "data": {
      "text/html": [
       "<div>\n",
       "<style>\n",
       "    .dataframe thead tr:only-child th {\n",
       "        text-align: right;\n",
       "    }\n",
       "\n",
       "    .dataframe thead th {\n",
       "        text-align: left;\n",
       "    }\n",
       "\n",
       "    .dataframe tbody tr th {\n",
       "        vertical-align: top;\n",
       "    }\n",
       "</style>\n",
       "<table border=\"1\" class=\"dataframe\">\n",
       "  <thead>\n",
       "    <tr style=\"text-align: right;\">\n",
       "      <th></th>\n",
       "      <th>Number</th>\n",
       "      <th>Percentage</th>\n",
       "    </tr>\n",
       "  </thead>\n",
       "  <tbody>\n",
       "    <tr>\n",
       "      <th>male</th>\n",
       "      <td>577</td>\n",
       "      <td>0.647587</td>\n",
       "    </tr>\n",
       "    <tr>\n",
       "      <th>female</th>\n",
       "      <td>314</td>\n",
       "      <td>0.352413</td>\n",
       "    </tr>\n",
       "  </tbody>\n",
       "</table>\n",
       "</div>"
      ],
      "text/plain": [
       "        Number  Percentage\n",
       "male       577    0.647587\n",
       "female     314    0.352413"
      ]
     },
     "metadata": {},
     "output_type": "display_data"
    },
    {
     "data": {
      "text/html": [
       "<div>\n",
       "<style>\n",
       "    .dataframe thead tr:only-child th {\n",
       "        text-align: right;\n",
       "    }\n",
       "\n",
       "    .dataframe thead th {\n",
       "        text-align: left;\n",
       "    }\n",
       "\n",
       "    .dataframe tbody tr th {\n",
       "        vertical-align: top;\n",
       "    }\n",
       "</style>\n",
       "<table border=\"1\" class=\"dataframe\">\n",
       "  <thead>\n",
       "    <tr style=\"text-align: right;\">\n",
       "      <th></th>\n",
       "      <th>Number</th>\n",
       "      <th>Percentage</th>\n",
       "    </tr>\n",
       "  </thead>\n",
       "  <tbody>\n",
       "    <tr>\n",
       "      <th>male</th>\n",
       "      <td>266</td>\n",
       "      <td>0.636364</td>\n",
       "    </tr>\n",
       "    <tr>\n",
       "      <th>female</th>\n",
       "      <td>152</td>\n",
       "      <td>0.363636</td>\n",
       "    </tr>\n",
       "  </tbody>\n",
       "</table>\n",
       "</div>"
      ],
      "text/plain": [
       "        Number  Percentage\n",
       "male       266    0.636364\n",
       "female     152    0.363636"
      ]
     },
     "metadata": {},
     "output_type": "display_data"
    }
   ],
   "source": [
    "sex_train = pd.DataFrame({'Number':train1['Sex'].value_counts()})\n",
    "sex_train['Percentage'] = train1['Sex'].value_counts()/train1.shape[0]\n",
    "display(sex_train)\n",
    "sex_test = pd.DataFrame({'Number':test1['Sex'].value_counts()})\n",
    "sex_test['Percentage'] = test1['Sex'].value_counts()/test1.shape[0]\n",
    "display(sex_test)"
   ]
  },
  {
   "cell_type": "code",
   "execution_count": 13,
   "metadata": {},
   "outputs": [
    {
     "data": {
      "text/plain": [
       "<matplotlib.axes._subplots.AxesSubplot at 0x7fd196a46e10>"
      ]
     },
     "execution_count": 13,
     "metadata": {},
     "output_type": "execute_result"
    },
    {
     "data": {
      "image/png": "[encoded data removed]",
      "text/plain": [
       "<matplotlib.figure.Figure at 0x7fd1c179d7f0>"
      ]
     },
     "metadata": {},
     "output_type": "display_data"
    }
   ],
   "source": [
    "sns.barplot(x='Sex', y= 'Survived', hue = 'Sex', data = train1)"
   ]
  },
  {
   "cell_type": "markdown",
   "metadata": {},
   "source": [
    "### 2. Cabin"
   ]
  },
  {
   "cell_type": "code",
   "execution_count": 14,
   "metadata": {},
   "outputs": [
    {
     "name": "stdout",
     "output_type": "stream",
     "text": [
      "687\n",
      "327\n"
     ]
    }
   ],
   "source": [
    "print(sum(train1['Cabin'].isnull()))\n",
    "print(sum(test1['Cabin'].isnull()))"
   ]
  },
  {
   "cell_type": "code",
   "execution_count": 15,
   "metadata": {},
   "outputs": [
    {
     "name": "stdout",
     "output_type": "stream",
     "text": [
      "category\n",
      "category\n"
     ]
    }
   ],
   "source": [
    "print(train1['Cabin'].dtypes)\n",
    "print(test1['Cabin'].dtypes)"
   ]
  },
  {
   "cell_type": "code",
   "execution_count": 23,
   "metadata": {},
   "outputs": [
    {
     "data": {
      "text/plain": [
       "0    549\n",
       "1    342\n",
       "Name: Survived, dtype: int64"
      ]
     },
     "execution_count": 23,
     "metadata": {},
     "output_type": "execute_result"
    }
   ],
   "source": [
    "train1['Survived'].value_counts()"
   ]
  },
  {
   "cell_type": "code",
   "execution_count": 24,
   "metadata": {},
   "outputs": [
    {
     "name": "stdout",
     "output_type": "stream",
     "text": [
      "object\n"
     ]
    }
   ],
   "source": [
    "train1['Cabin'].cat.add_categories('None', inplace = True)\n",
    "train1['Cabin'].fillna('None', inplace = True)\n",
    "train1['Cabin'] = train1['Cabin'].apply(lambda x:x[0])\n",
    "print(train1['Cabin'].dtypes)"
   ]
  },
  {
   "cell_type": "code",
   "execution_count": 37,
   "metadata": {},
   "outputs": [
    {
     "data": {
      "text/html": [
       "<div>\n",
       "<style>\n",
       "    .dataframe thead tr:only-child th {\n",
       "        text-align: right;\n",
       "    }\n",
       "\n",
       "    .dataframe thead th {\n",
       "        text-align: left;\n",
       "    }\n",
       "\n",
       "    .dataframe tbody tr th {\n",
       "        vertical-align: top;\n",
       "    }\n",
       "</style>\n",
       "<table border=\"1\" class=\"dataframe\">\n",
       "  <thead>\n",
       "    <tr style=\"text-align: right;\">\n",
       "      <th></th>\n",
       "      <th>Survived</th>\n",
       "    </tr>\n",
       "  </thead>\n",
       "  <tbody>\n",
       "    <tr>\n",
       "      <th>G</th>\n",
       "      <td>2</td>\n",
       "    </tr>\n",
       "    <tr>\n",
       "      <th>A</th>\n",
       "      <td>7</td>\n",
       "    </tr>\n",
       "    <tr>\n",
       "      <th>F</th>\n",
       "      <td>8</td>\n",
       "    </tr>\n",
       "    <tr>\n",
       "      <th>E</th>\n",
       "      <td>24</td>\n",
       "    </tr>\n",
       "    <tr>\n",
       "      <th>D</th>\n",
       "      <td>25</td>\n",
       "    </tr>\n",
       "    <tr>\n",
       "      <th>B</th>\n",
       "      <td>35</td>\n",
       "    </tr>\n",
       "    <tr>\n",
       "      <th>C</th>\n",
       "      <td>35</td>\n",
       "    </tr>\n",
       "    <tr>\n",
       "      <th>N</th>\n",
       "      <td>206</td>\n",
       "    </tr>\n",
       "  </tbody>\n",
       "</table>\n",
       "</div>"
      ],
      "text/plain": [
       "   Survived\n",
       "G         2\n",
       "A         7\n",
       "F         8\n",
       "E        24\n",
       "D        25\n",
       "B        35\n",
       "C        35\n",
       "N       206"
      ]
     },
     "metadata": {},
     "output_type": "display_data"
    }
   ],
   "source": [
    "display(pd.DataFrame({'Survived':train1['Cabin'][train1['Survived']==1].value_counts()})\n",
    "        .sort_values(by = 'Survived'))"
   ]
  },
  {
   "cell_type": "code",
   "execution_count": 33,
   "metadata": {},
   "outputs": [
    {
     "name": "stdout",
     "output_type": "stream",
     "text": [
      "object\n"
     ]
    }
   ],
   "source": [
    "test1['Cabin'].cat.add_categories('None', inplace = True)\n",
    "test1['Cabin'].fillna('None', inplace = True)\n",
    "test1['Cabin'] = test1['Cabin'].apply(lambda x:x[0])\n",
    "print(test1['Cabin'].dtypes)"
   ]
  },
  {
   "cell_type": "code",
   "execution_count": 57,
   "metadata": {},
   "outputs": [
    {
     "data": {
      "text/html": [
       "<div>\n",
       "<style>\n",
       "    .dataframe thead tr:only-child th {\n",
       "        text-align: right;\n",
       "    }\n",
       "\n",
       "    .dataframe thead th {\n",
       "        text-align: left;\n",
       "    }\n",
       "\n",
       "    .dataframe tbody tr th {\n",
       "        vertical-align: top;\n",
       "    }\n",
       "</style>\n",
       "<table border=\"1\" class=\"dataframe\">\n",
       "  <thead>\n",
       "    <tr style=\"text-align: right;\">\n",
       "      <th></th>\n",
       "      <th>Number</th>\n",
       "      <th>Percentage</th>\n",
       "      <th>Survived</th>\n",
       "      <th>Survive_F</th>\n",
       "      <th>Survive_M</th>\n",
       "    </tr>\n",
       "  </thead>\n",
       "  <tbody>\n",
       "    <tr>\n",
       "      <th>N</th>\n",
       "      <td>687</td>\n",
       "      <td>0.771044</td>\n",
       "      <td>206.0</td>\n",
       "      <td>142.0</td>\n",
       "      <td>64.0</td>\n",
       "    </tr>\n",
       "    <tr>\n",
       "      <th>C</th>\n",
       "      <td>59</td>\n",
       "      <td>0.066218</td>\n",
       "      <td>35.0</td>\n",
       "      <td>24.0</td>\n",
       "      <td>11.0</td>\n",
       "    </tr>\n",
       "    <tr>\n",
       "      <th>B</th>\n",
       "      <td>47</td>\n",
       "      <td>0.052750</td>\n",
       "      <td>35.0</td>\n",
       "      <td>27.0</td>\n",
       "      <td>8.0</td>\n",
       "    </tr>\n",
       "    <tr>\n",
       "      <th>D</th>\n",
       "      <td>33</td>\n",
       "      <td>0.037037</td>\n",
       "      <td>25.0</td>\n",
       "      <td>18.0</td>\n",
       "      <td>7.0</td>\n",
       "    </tr>\n",
       "    <tr>\n",
       "      <th>E</th>\n",
       "      <td>32</td>\n",
       "      <td>0.035915</td>\n",
       "      <td>24.0</td>\n",
       "      <td>14.0</td>\n",
       "      <td>10.0</td>\n",
       "    </tr>\n",
       "    <tr>\n",
       "      <th>A</th>\n",
       "      <td>15</td>\n",
       "      <td>0.016835</td>\n",
       "      <td>7.0</td>\n",
       "      <td>1.0</td>\n",
       "      <td>6.0</td>\n",
       "    </tr>\n",
       "    <tr>\n",
       "      <th>F</th>\n",
       "      <td>13</td>\n",
       "      <td>0.014590</td>\n",
       "      <td>8.0</td>\n",
       "      <td>5.0</td>\n",
       "      <td>3.0</td>\n",
       "    </tr>\n",
       "    <tr>\n",
       "      <th>G</th>\n",
       "      <td>4</td>\n",
       "      <td>0.004489</td>\n",
       "      <td>2.0</td>\n",
       "      <td>2.0</td>\n",
       "      <td>NaN</td>\n",
       "    </tr>\n",
       "    <tr>\n",
       "      <th>T</th>\n",
       "      <td>1</td>\n",
       "      <td>0.001122</td>\n",
       "      <td>NaN</td>\n",
       "      <td>NaN</td>\n",
       "      <td>NaN</td>\n",
       "    </tr>\n",
       "  </tbody>\n",
       "</table>\n",
       "</div>"
      ],
      "text/plain": [
       "   Number  Percentage  Survived  Survive_F  Survive_M\n",
       "N     687    0.771044     206.0      142.0       64.0\n",
       "C      59    0.066218      35.0       24.0       11.0\n",
       "B      47    0.052750      35.0       27.0        8.0\n",
       "D      33    0.037037      25.0       18.0        7.0\n",
       "E      32    0.035915      24.0       14.0       10.0\n",
       "A      15    0.016835       7.0        1.0        6.0\n",
       "F      13    0.014590       8.0        5.0        3.0\n",
       "G       4    0.004489       2.0        2.0        NaN\n",
       "T       1    0.001122       NaN        NaN        NaN"
      ]
     },
     "metadata": {},
     "output_type": "display_data"
    },
    {
     "data": {
      "text/html": [
       "<div>\n",
       "<style>\n",
       "    .dataframe thead tr:only-child th {\n",
       "        text-align: right;\n",
       "    }\n",
       "\n",
       "    .dataframe thead th {\n",
       "        text-align: left;\n",
       "    }\n",
       "\n",
       "    .dataframe tbody tr th {\n",
       "        vertical-align: top;\n",
       "    }\n",
       "</style>\n",
       "<table border=\"1\" class=\"dataframe\">\n",
       "  <thead>\n",
       "    <tr style=\"text-align: right;\">\n",
       "      <th></th>\n",
       "      <th>Number</th>\n",
       "      <th>Percentage</th>\n",
       "    </tr>\n",
       "  </thead>\n",
       "  <tbody>\n",
       "    <tr>\n",
       "      <th>N</th>\n",
       "      <td>327</td>\n",
       "      <td>0.782297</td>\n",
       "    </tr>\n",
       "    <tr>\n",
       "      <th>C</th>\n",
       "      <td>35</td>\n",
       "      <td>0.083732</td>\n",
       "    </tr>\n",
       "    <tr>\n",
       "      <th>B</th>\n",
       "      <td>18</td>\n",
       "      <td>0.043062</td>\n",
       "    </tr>\n",
       "    <tr>\n",
       "      <th>D</th>\n",
       "      <td>13</td>\n",
       "      <td>0.031100</td>\n",
       "    </tr>\n",
       "    <tr>\n",
       "      <th>E</th>\n",
       "      <td>9</td>\n",
       "      <td>0.021531</td>\n",
       "    </tr>\n",
       "    <tr>\n",
       "      <th>F</th>\n",
       "      <td>8</td>\n",
       "      <td>0.019139</td>\n",
       "    </tr>\n",
       "    <tr>\n",
       "      <th>A</th>\n",
       "      <td>7</td>\n",
       "      <td>0.016746</td>\n",
       "    </tr>\n",
       "    <tr>\n",
       "      <th>G</th>\n",
       "      <td>1</td>\n",
       "      <td>0.002392</td>\n",
       "    </tr>\n",
       "  </tbody>\n",
       "</table>\n",
       "</div>"
      ],
      "text/plain": [
       "   Number  Percentage\n",
       "N     327    0.782297\n",
       "C      35    0.083732\n",
       "B      18    0.043062\n",
       "D      13    0.031100\n",
       "E       9    0.021531\n",
       "F       8    0.019139\n",
       "A       7    0.016746\n",
       "G       1    0.002392"
      ]
     },
     "metadata": {},
     "output_type": "display_data"
    }
   ],
   "source": [
    "cabin_train = pd.DataFrame({'Number':train1['Cabin'].value_counts(),'Percentage':train1['Cabin'].value_counts()\n",
    "                            /train1.shape[0]})\n",
    "cabin_train['Survived'] = (train1['Cabin'][train1['Survived']==1]).value_counts()\n",
    "cabin_train['Survive_F'] = train1['Cabin'][train1['Sex'] == 'female'][train1['Survived']==1].value_counts()\n",
    "cabin_train['Survive_M'] = train1['Cabin'][train1['Sex'] == 'male'][train1['Survived']==1].value_counts()\n",
    "cabin_test = pd.DataFrame({'Number':test1['Cabin'].value_counts(),'Percentage':test1['Cabin'].value_counts()/\n",
    "                          test1.shape[0]})\n",
    "display(cabin_train,cabin_test)"
   ]
  },
  {
   "cell_type": "code",
   "execution_count": 44,
   "metadata": {},
   "outputs": [
    {
     "data": {
      "text/plain": [
       "<matplotlib.axes._subplots.AxesSubplot at 0x7fd18e82d550>"
      ]
     },
     "execution_count": 44,
     "metadata": {},
     "output_type": "execute_result"
    },
    {
     "data": {
      "image/png": "[encoded data removed]",
      "text/plain": [
       "<matplotlib.figure.Figure at 0x7fd18eb6be48>"
      ]
     },
     "metadata": {},
     "output_type": "display_data"
    }
   ],
   "source": [
    "sns.barplot(x = 'Cabin', y = 'Survived',hue='Sex', data = train1) "
   ]
  },
  {
   "cell_type": "code",
   "execution_count": 48,
   "metadata": {},
   "outputs": [
    {
     "name": "stdout",
     "output_type": "stream",
     "text": [
      "male      219\n",
      "female    108\n",
      "Name: Sex, dtype: int64\n",
      "male      470\n",
      "female    217\n",
      "Name: Sex, dtype: int64\n"
     ]
    }
   ],
   "source": [
    "print(test1['Sex'][test1['Cabin']=='N'].value_counts())\n",
    "print(train1['Sex'][train1['Cabin']=='N'].value_counts())"
   ]
  },
  {
   "cell_type": "markdown",
   "metadata": {},
   "source": [
    "### 3.Embarked"
   ]
  },
  {
   "cell_type": "code",
   "execution_count": 38,
   "metadata": {},
   "outputs": [
    {
     "name": "stdout",
     "output_type": "stream",
     "text": [
      "2\n",
      "0\n"
     ]
    }
   ],
   "source": [
    "print(sum(train1['Embarked'].isnull()))\n",
    "print(sum(test1['Embarked'].isnull()))"
   ]
  },
  {
   "cell_type": "code",
   "execution_count": 62,
   "metadata": {},
   "outputs": [
    {
     "data": {
      "text/plain": [
       "False"
      ]
     },
     "execution_count": 62,
     "metadata": {},
     "output_type": "execute_result"
    }
   ],
   "source": [
    "train1.drop(train1.index[train1['Embarked'].isnull()], axis = 0, inplace = True)\n",
    "train1['Embarked'].isnull().any()"
   ]
  },
  {
   "cell_type": "code",
   "execution_count": 63,
   "metadata": {},
   "outputs": [
    {
     "name": "stdout",
     "output_type": "stream",
     "text": [
      "category\n",
      "category\n"
     ]
    }
   ],
   "source": [
    "print(train1['Embarked'].dtypes)\n",
    "print(test1['Embarked'].dtypes)"
   ]
  },
  {
   "cell_type": "code",
   "execution_count": 64,
   "metadata": {},
   "outputs": [
    {
     "name": "stdout",
     "output_type": "stream",
     "text": [
      "S    644\n",
      "C    168\n",
      "Q     77\n",
      "Name: Embarked, dtype: int64\n",
      "S    270\n",
      "C    102\n",
      "Q     46\n",
      "Name: Embarked, dtype: int64\n"
     ]
    }
   ],
   "source": [
    "print(train1['Embarked'].value_counts())\n",
    "print(test['Embarked'].value_counts())"
   ]
  },
  {
   "cell_type": "code",
   "execution_count": 65,
   "metadata": {
    "_cell_guid": "731dec8b-b7ad-447c-aee0-f02054cb8f84",
    "_uuid": "07862a7e268fd4dba292cb5e08776d047a37aaaa"
   },
   "outputs": [
    {
     "data": {
      "text/plain": [
       "<matplotlib.axes._subplots.AxesSubplot at 0x7fd18e568518>"
      ]
     },
     "execution_count": 65,
     "metadata": {},
     "output_type": "execute_result"
    },
    {
     "data": {
      "image/png": "[encoded data removed]",
      "text/plain": [
       "<matplotlib.figure.Figure at 0x7fd18e63de80>"
      ]
     },
     "metadata": {},
     "output_type": "display_data"
    }
   ],
   "source": [
    "sns.barplot(x = \"Embarked\", y = \"Survived\", hue = \"Sex\",data = train)"
   ]
  },
  {
   "cell_type": "markdown",
   "metadata": {},
   "source": [
    "### 4.Ticket"
   ]
  },
  {
   "cell_type": "code",
   "execution_count": 66,
   "metadata": {},
   "outputs": [
    {
     "name": "stdout",
     "output_type": "stream",
     "text": [
      "0\n",
      "0\n"
     ]
    }
   ],
   "source": [
    "print(sum(train1['Ticket'].isnull()))\n",
    "print(sum(test1['Ticket'].isnull()))"
   ]
  },
  {
   "cell_type": "code",
   "execution_count": 67,
   "metadata": {},
   "outputs": [
    {
     "name": "stdout",
     "output_type": "stream",
     "text": [
      "category\n",
      "category\n"
     ]
    }
   ],
   "source": [
    "print(train1['Ticket'].dtypes)\n",
    "print(test1['Ticket'].dtypes)"
   ]
  },
  {
   "cell_type": "code",
   "execution_count": 84,
   "metadata": {},
   "outputs": [
    {
     "data": {
      "text/plain": [
       "0             A/5\n",
       "1              PC\n",
       "2        STON/O2.\n",
       "3          113803\n",
       "4          373450\n",
       "5          330877\n",
       "6           17463\n",
       "7          349909\n",
       "8          347742\n",
       "9          237736\n",
       "10             PP\n",
       "11         113783\n",
       "12           A/5.\n",
       "13         347082\n",
       "14         350406\n",
       "15         248706\n",
       "16         382652\n",
       "17         244373\n",
       "18         345763\n",
       "19           2649\n",
       "20         239865\n",
       "21         248698\n",
       "22         330923\n",
       "23         113788\n",
       "24         349909\n",
       "25         347077\n",
       "26           2631\n",
       "27          19950\n",
       "28         330959\n",
       "29         349216\n",
       "30             PC\n",
       "31             PC\n",
       "32         335677\n",
       "33           C.A.\n",
       "34             PC\n",
       "35         113789\n",
       "36           2677\n",
       "37          A./5.\n",
       "38         345764\n",
       "39           2651\n",
       "40           7546\n",
       "41          11668\n",
       "42         349253\n",
       "43       SC/Paris\n",
       "44         330958\n",
       "45      S.C./A.4.\n",
       "46         370371\n",
       "47          14311\n",
       "48           2662\n",
       "49         349237\n",
       "50        3101295\n",
       "51           A/4.\n",
       "52             PC\n",
       "53           2926\n",
       "54         113509\n",
       "55          19947\n",
       "56           C.A.\n",
       "57           2697\n",
       "58           C.A.\n",
       "59             CA\n",
       "60           2669\n",
       "62          36973\n",
       "63         347088\n",
       "64             PC\n",
       "65           2661\n",
       "66           C.A.\n",
       "67           S.P.\n",
       "68        3101281\n",
       "69         315151\n",
       "70           C.A.\n",
       "71             CA\n",
       "72         S.O.C.\n",
       "73           2680\n",
       "74           1601\n",
       "75         348123\n",
       "76         349208\n",
       "77         374746\n",
       "78         248738\n",
       "79         364516\n",
       "80         345767\n",
       "81         345779\n",
       "82         330932\n",
       "83         113059\n",
       "84           SO/C\n",
       "85        3101278\n",
       "86          W./C.\n",
       "87       SOTON/OQ\n",
       "88          19950\n",
       "89         343275\n",
       "90         343276\n",
       "91         347466\n",
       "92         W.E.P.\n",
       "93           C.A.\n",
       "94         364500\n",
       "95         374910\n",
       "96             PC\n",
       "97             PC\n",
       "98         231919\n",
       "99         244367\n",
       "100        349245\n",
       "101        349215\n",
       "102         35281\n",
       "103          7540\n",
       "104       3101276\n",
       "105        349207\n",
       "106        343120\n",
       "107        312991\n",
       "108        349249\n",
       "109        371110\n",
       "110        110465\n",
       "111          2665\n",
       "112        324669\n",
       "113          4136\n",
       "114          2627\n",
       "115        STON/O\n",
       "116        370369\n",
       "117         11668\n",
       "118            PC\n",
       "119        347082\n",
       "120        S.O.C.\n",
       "121           A4.\n",
       "122        237736\n",
       "123         27267\n",
       "124         35281\n",
       "125          2651\n",
       "126        370372\n",
       "127             C\n",
       "128          2668\n",
       "129        347061\n",
       "130        349241\n",
       "131    SOTON/O.Q.\n",
       "132          A/5.\n",
       "133        228414\n",
       "134          C.A.\n",
       "135      SC/PARIS\n",
       "136         11752\n",
       "137        113803\n",
       "138          7534\n",
       "139            PC\n",
       "140          2678\n",
       "141        347081\n",
       "142      STON/O2.\n",
       "143        365222\n",
       "144        231945\n",
       "145          C.A.\n",
       "146        350043\n",
       "147         W./C.\n",
       "148        230080\n",
       "149        244310\n",
       "150        S.O.P.\n",
       "151        113776\n",
       "152          A.5.\n",
       "153          A/5.\n",
       "154            Fa\n",
       "155            PC\n",
       "156         35851\n",
       "157      SOTON/OQ\n",
       "158        315037\n",
       "159           CA.\n",
       "160        371362\n",
       "161          C.A.\n",
       "162        347068\n",
       "163        315093\n",
       "164       3101295\n",
       "165        363291\n",
       "166        113505\n",
       "167        347088\n",
       "168            PC\n",
       "169          1601\n",
       "170        111240\n",
       "171        382652\n",
       "172        347742\n",
       "173        STON/O\n",
       "174         17764\n",
       "175        350404\n",
       "176          4133\n",
       "177            PC\n",
       "178        250653\n",
       "179          LINE\n",
       "180           CA.\n",
       "181      SC/PARIS\n",
       "182        347077\n",
       "183        230136\n",
       "184        315153\n",
       "185        113767\n",
       "186        370365\n",
       "187        111428\n",
       "188        364849\n",
       "189        349247\n",
       "190        234604\n",
       "191         28424\n",
       "192        350046\n",
       "193        230080\n",
       "194            PC\n",
       "195            PC\n",
       "196        368703\n",
       "197          4579\n",
       "198        370370\n",
       "199        248747\n",
       "200        345770\n",
       "          ...    \n",
       "690         17474\n",
       "691        349256\n",
       "692          1601\n",
       "693          2672\n",
       "694        113800\n",
       "695        248731\n",
       "696        363592\n",
       "697         35852\n",
       "698         17421\n",
       "699        348121\n",
       "700            PC\n",
       "701            PC\n",
       "702          2691\n",
       "703         36864\n",
       "704        350025\n",
       "705        250655\n",
       "706        223596\n",
       "707            PC\n",
       "708        113781\n",
       "709          2661\n",
       "710            PC\n",
       "711        113028\n",
       "712         19996\n",
       "713          7545\n",
       "714        250647\n",
       "715        348124\n",
       "716            PC\n",
       "717         34218\n",
       "718         36568\n",
       "719        347062\n",
       "720        248727\n",
       "721        350048\n",
       "722         12233\n",
       "723        250643\n",
       "724        113806\n",
       "725        315094\n",
       "726         31027\n",
       "727         36866\n",
       "728        236853\n",
       "729      STON/O2.\n",
       "730         24160\n",
       "731          2699\n",
       "732        239855\n",
       "733         28425\n",
       "734        233639\n",
       "735         54636\n",
       "736         W./C.\n",
       "737            PC\n",
       "738        349201\n",
       "739        349218\n",
       "740         16988\n",
       "741         19877\n",
       "742            PC\n",
       "743        376566\n",
       "744        STON/O\n",
       "745          WE/P\n",
       "746          C.A.\n",
       "747        250648\n",
       "748        113773\n",
       "749        335097\n",
       "750         29103\n",
       "751        392096\n",
       "752        345780\n",
       "753        349204\n",
       "754        220845\n",
       "755        250649\n",
       "756        350042\n",
       "757         29108\n",
       "758        363294\n",
       "759        110152\n",
       "760        358585\n",
       "761      SOTON/O2\n",
       "762          2663\n",
       "763        113760\n",
       "764        347074\n",
       "765         13502\n",
       "766        112379\n",
       "767        364850\n",
       "768        371110\n",
       "769          8471\n",
       "770        345781\n",
       "771        350047\n",
       "772     S.O./P.P.\n",
       "773          2674\n",
       "774         29105\n",
       "775        347078\n",
       "776        383121\n",
       "777        364516\n",
       "778         36865\n",
       "779         24160\n",
       "780          2687\n",
       "781         17474\n",
       "782        113501\n",
       "783         W./C.\n",
       "784    SOTON/O.Q.\n",
       "785        374887\n",
       "786       3101265\n",
       "787        382652\n",
       "788          C.A.\n",
       "789            PC\n",
       "790         12460\n",
       "791        239865\n",
       "792           CA.\n",
       "793            PC\n",
       "794        349203\n",
       "795         28213\n",
       "796         17465\n",
       "797        349244\n",
       "798          2685\n",
       "799        345773\n",
       "800        250647\n",
       "801          C.A.\n",
       "802        113760\n",
       "803          2625\n",
       "804        347089\n",
       "805        347063\n",
       "806        112050\n",
       "807        347087\n",
       "808        248723\n",
       "809        113806\n",
       "810          3474\n",
       "811           A/4\n",
       "812         28206\n",
       "813        347082\n",
       "814        364499\n",
       "815        112058\n",
       "816      STON/O2.\n",
       "817    S.C./PARIS\n",
       "818             C\n",
       "819        347088\n",
       "820         12749\n",
       "821        315098\n",
       "822         19972\n",
       "823        392096\n",
       "824       3101295\n",
       "825        368323\n",
       "826          1601\n",
       "827    S.C./PARIS\n",
       "828        367228\n",
       "830          2659\n",
       "831         29106\n",
       "832          2671\n",
       "833        347468\n",
       "834          2223\n",
       "835            PC\n",
       "836        315097\n",
       "837        392092\n",
       "838          1601\n",
       "839         11774\n",
       "840      SOTON/O2\n",
       "841     S.O./P.P.\n",
       "842        113798\n",
       "843          2683\n",
       "844        315090\n",
       "845          C.A.\n",
       "846           CA.\n",
       "847        349213\n",
       "848        248727\n",
       "849         17453\n",
       "850        347082\n",
       "851        347060\n",
       "852          2678\n",
       "853            PC\n",
       "854        244252\n",
       "855        392091\n",
       "856         36928\n",
       "857        113055\n",
       "858          2666\n",
       "859          2629\n",
       "860        350026\n",
       "861         28134\n",
       "862         17466\n",
       "863           CA.\n",
       "864        233866\n",
       "865        236852\n",
       "866      SC/PARIS\n",
       "867            PC\n",
       "868        345777\n",
       "869        347742\n",
       "870        349248\n",
       "871         11751\n",
       "872           695\n",
       "873        345765\n",
       "874          P/PP\n",
       "875          2667\n",
       "876          7534\n",
       "877        349212\n",
       "878        349217\n",
       "879         11767\n",
       "880        230433\n",
       "881        349257\n",
       "882          7552\n",
       "883    C.A./SOTON\n",
       "884      SOTON/OQ\n",
       "885        382652\n",
       "886        211536\n",
       "887        112053\n",
       "888         W./C.\n",
       "889        111369\n",
       "890        370376\n",
       "Name: Ticket, Length: 889, dtype: object"
      ]
     },
     "metadata": {},
     "output_type": "display_data"
    }
   ],
   "source": [
    "temp = train1['Ticket'].apply(lambda x: x.split(' ')[0])\n",
    "display(temp)"
   ]
  },
  {
   "cell_type": "markdown",
   "metadata": {},
   "source": [
    "### 5.Name"
   ]
  },
  {
   "cell_type": "code",
   "execution_count": 86,
   "metadata": {},
   "outputs": [
    {
     "name": "stdout",
     "output_type": "stream",
     "text": [
      "0\n",
      "0\n"
     ]
    }
   ],
   "source": [
    "print(sum(train1['Name'].isnull()))\n",
    "print(sum(test1['Name'].isnull()))"
   ]
  },
  {
   "cell_type": "code",
   "execution_count": 87,
   "metadata": {},
   "outputs": [
    {
     "name": "stdout",
     "output_type": "stream",
     "text": [
      "category category\n"
     ]
    }
   ],
   "source": [
    "print(train1['Name'].dtypes, test1['Name'].dtypes)"
   ]
  },
  {
   "cell_type": "code",
   "execution_count": 99,
   "metadata": {},
   "outputs": [
    {
     "data": {
      "text/html": [
       "<div>\n",
       "<style>\n",
       "    .dataframe thead tr:only-child th {\n",
       "        text-align: right;\n",
       "    }\n",
       "\n",
       "    .dataframe thead th {\n",
       "        text-align: left;\n",
       "    }\n",
       "\n",
       "    .dataframe tbody tr th {\n",
       "        vertical-align: top;\n",
       "    }\n",
       "</style>\n",
       "<table border=\"1\" class=\"dataframe\">\n",
       "  <thead>\n",
       "    <tr style=\"text-align: right;\">\n",
       "      <th></th>\n",
       "      <th>Name</th>\n",
       "      <th>Survived</th>\n",
       "    </tr>\n",
       "  </thead>\n",
       "  <tbody>\n",
       "    <tr>\n",
       "      <th>Mr.</th>\n",
       "      <td>502</td>\n",
       "      <td>79.0</td>\n",
       "    </tr>\n",
       "    <tr>\n",
       "      <th>Miss.</th>\n",
       "      <td>178</td>\n",
       "      <td>125.0</td>\n",
       "    </tr>\n",
       "    <tr>\n",
       "      <th>Mrs.</th>\n",
       "      <td>120</td>\n",
       "      <td>96.0</td>\n",
       "    </tr>\n",
       "    <tr>\n",
       "      <th>Master.</th>\n",
       "      <td>40</td>\n",
       "      <td>23.0</td>\n",
       "    </tr>\n",
       "    <tr>\n",
       "      <th>Dr.</th>\n",
       "      <td>7</td>\n",
       "      <td>3.0</td>\n",
       "    </tr>\n",
       "    <tr>\n",
       "      <th>Rev.</th>\n",
       "      <td>6</td>\n",
       "      <td>NaN</td>\n",
       "    </tr>\n",
       "    <tr>\n",
       "      <th>y</th>\n",
       "      <td>4</td>\n",
       "      <td>3.0</td>\n",
       "    </tr>\n",
       "    <tr>\n",
       "      <th>Planke,</th>\n",
       "      <td>3</td>\n",
       "      <td>NaN</td>\n",
       "    </tr>\n",
       "    <tr>\n",
       "      <th>Impe,</th>\n",
       "      <td>3</td>\n",
       "      <td>NaN</td>\n",
       "    </tr>\n",
       "    <tr>\n",
       "      <th>Mlle.</th>\n",
       "      <td>2</td>\n",
       "      <td>2.0</td>\n",
       "    </tr>\n",
       "    <tr>\n",
       "      <th>Gordon,</th>\n",
       "      <td>2</td>\n",
       "      <td>2.0</td>\n",
       "    </tr>\n",
       "    <tr>\n",
       "      <th>Major.</th>\n",
       "      <td>2</td>\n",
       "      <td>1.0</td>\n",
       "    </tr>\n",
       "    <tr>\n",
       "      <th>Col.</th>\n",
       "      <td>2</td>\n",
       "      <td>1.0</td>\n",
       "    </tr>\n",
       "    <tr>\n",
       "      <th>Ms.</th>\n",
       "      <td>1</td>\n",
       "      <td>1.0</td>\n",
       "    </tr>\n",
       "    <tr>\n",
       "      <th>Velde,</th>\n",
       "      <td>1</td>\n",
       "      <td>NaN</td>\n",
       "    </tr>\n",
       "    <tr>\n",
       "      <th>Carlo,</th>\n",
       "      <td>1</td>\n",
       "      <td>NaN</td>\n",
       "    </tr>\n",
       "    <tr>\n",
       "      <th>Mme.</th>\n",
       "      <td>1</td>\n",
       "      <td>1.0</td>\n",
       "    </tr>\n",
       "    <tr>\n",
       "      <th>the</th>\n",
       "      <td>1</td>\n",
       "      <td>1.0</td>\n",
       "    </tr>\n",
       "    <tr>\n",
       "      <th>Cruyssen,</th>\n",
       "      <td>1</td>\n",
       "      <td>NaN</td>\n",
       "    </tr>\n",
       "    <tr>\n",
       "      <th>Billiard,</th>\n",
       "      <td>1</td>\n",
       "      <td>NaN</td>\n",
       "    </tr>\n",
       "    <tr>\n",
       "      <th>Melkebeke,</th>\n",
       "      <td>1</td>\n",
       "      <td>NaN</td>\n",
       "    </tr>\n",
       "    <tr>\n",
       "      <th>Don.</th>\n",
       "      <td>1</td>\n",
       "      <td>NaN</td>\n",
       "    </tr>\n",
       "    <tr>\n",
       "      <th>Mulder,</th>\n",
       "      <td>1</td>\n",
       "      <td>1.0</td>\n",
       "    </tr>\n",
       "    <tr>\n",
       "      <th>Jonkheer.</th>\n",
       "      <td>1</td>\n",
       "      <td>NaN</td>\n",
       "    </tr>\n",
       "    <tr>\n",
       "      <th>Steen,</th>\n",
       "      <td>1</td>\n",
       "      <td>NaN</td>\n",
       "    </tr>\n",
       "    <tr>\n",
       "      <th>Shawah,</th>\n",
       "      <td>1</td>\n",
       "      <td>NaN</td>\n",
       "    </tr>\n",
       "    <tr>\n",
       "      <th>Walle,</th>\n",
       "      <td>1</td>\n",
       "      <td>NaN</td>\n",
       "    </tr>\n",
       "    <tr>\n",
       "      <th>der</th>\n",
       "      <td>1</td>\n",
       "      <td>NaN</td>\n",
       "    </tr>\n",
       "    <tr>\n",
       "      <th>Messemaeker,</th>\n",
       "      <td>1</td>\n",
       "      <td>1.0</td>\n",
       "    </tr>\n",
       "    <tr>\n",
       "      <th>Pelsmaeker,</th>\n",
       "      <td>1</td>\n",
       "      <td>NaN</td>\n",
       "    </tr>\n",
       "    <tr>\n",
       "      <th>Capt.</th>\n",
       "      <td>1</td>\n",
       "      <td>NaN</td>\n",
       "    </tr>\n",
       "  </tbody>\n",
       "</table>\n",
       "</div>"
      ],
      "text/plain": [
       "              Name  Survived\n",
       "Mr.            502      79.0\n",
       "Miss.          178     125.0\n",
       "Mrs.           120      96.0\n",
       "Master.         40      23.0\n",
       "Dr.              7       3.0\n",
       "Rev.             6       NaN\n",
       "y                4       3.0\n",
       "Planke,          3       NaN\n",
       "Impe,            3       NaN\n",
       "Mlle.            2       2.0\n",
       "Gordon,          2       2.0\n",
       "Major.           2       1.0\n",
       "Col.             2       1.0\n",
       "Ms.              1       1.0\n",
       "Velde,           1       NaN\n",
       "Carlo,           1       NaN\n",
       "Mme.             1       1.0\n",
       "the              1       1.0\n",
       "Cruyssen,        1       NaN\n",
       "Billiard,        1       NaN\n",
       "Melkebeke,       1       NaN\n",
       "Don.             1       NaN\n",
       "Mulder,          1       1.0\n",
       "Jonkheer.        1       NaN\n",
       "Steen,           1       NaN\n",
       "Shawah,          1       NaN\n",
       "Walle,           1       NaN\n",
       "der              1       NaN\n",
       "Messemaeker,     1       1.0\n",
       "Pelsmaeker,      1       NaN\n",
       "Capt.            1       NaN"
      ]
     },
     "metadata": {},
     "output_type": "display_data"
    },
    {
     "data": {
      "text/html": [
       "<div>\n",
       "<style>\n",
       "    .dataframe thead tr:only-child th {\n",
       "        text-align: right;\n",
       "    }\n",
       "\n",
       "    .dataframe thead th {\n",
       "        text-align: left;\n",
       "    }\n",
       "\n",
       "    .dataframe tbody tr th {\n",
       "        vertical-align: top;\n",
       "    }\n",
       "</style>\n",
       "<table border=\"1\" class=\"dataframe\">\n",
       "  <thead>\n",
       "    <tr style=\"text-align: right;\">\n",
       "      <th></th>\n",
       "      <th>Name</th>\n",
       "    </tr>\n",
       "  </thead>\n",
       "  <tbody>\n",
       "    <tr>\n",
       "      <th>Mr.</th>\n",
       "      <td>234</td>\n",
       "    </tr>\n",
       "    <tr>\n",
       "      <th>Miss.</th>\n",
       "      <td>77</td>\n",
       "    </tr>\n",
       "    <tr>\n",
       "      <th>Mrs.</th>\n",
       "      <td>70</td>\n",
       "    </tr>\n",
       "    <tr>\n",
       "      <th>Master.</th>\n",
       "      <td>19</td>\n",
       "    </tr>\n",
       "    <tr>\n",
       "      <th>y</th>\n",
       "      <td>4</td>\n",
       "    </tr>\n",
       "    <tr>\n",
       "      <th>Billiard,</th>\n",
       "      <td>2</td>\n",
       "    </tr>\n",
       "    <tr>\n",
       "      <th>Rev.</th>\n",
       "      <td>2</td>\n",
       "    </tr>\n",
       "    <tr>\n",
       "      <th>Col.</th>\n",
       "      <td>2</td>\n",
       "    </tr>\n",
       "    <tr>\n",
       "      <th>Carlo,</th>\n",
       "      <td>1</td>\n",
       "    </tr>\n",
       "    <tr>\n",
       "      <th>Messemaeker,</th>\n",
       "      <td>1</td>\n",
       "    </tr>\n",
       "    <tr>\n",
       "      <th>Palmquist,</th>\n",
       "      <td>1</td>\n",
       "    </tr>\n",
       "    <tr>\n",
       "      <th>Ms.</th>\n",
       "      <td>1</td>\n",
       "    </tr>\n",
       "    <tr>\n",
       "      <th>Planke,</th>\n",
       "      <td>1</td>\n",
       "    </tr>\n",
       "    <tr>\n",
       "      <th>Brito,</th>\n",
       "      <td>1</td>\n",
       "    </tr>\n",
       "    <tr>\n",
       "      <th>Dr.</th>\n",
       "      <td>1</td>\n",
       "    </tr>\n",
       "    <tr>\n",
       "      <th>Khalil,</th>\n",
       "      <td>1</td>\n",
       "    </tr>\n",
       "  </tbody>\n",
       "</table>\n",
       "</div>"
      ],
      "text/plain": [
       "              Name\n",
       "Mr.            234\n",
       "Miss.           77\n",
       "Mrs.            70\n",
       "Master.         19\n",
       "y                4\n",
       "Billiard,        2\n",
       "Rev.             2\n",
       "Col.             2\n",
       "Carlo,           1\n",
       "Messemaeker,     1\n",
       "Palmquist,       1\n",
       "Ms.              1\n",
       "Planke,          1\n",
       "Brito,           1\n",
       "Dr.              1\n",
       "Khalil,          1"
      ]
     },
     "metadata": {},
     "output_type": "display_data"
    }
   ],
   "source": [
    "name_train = pd.DataFrame(train1['Name'].apply(lambda x:x.split()[1]).value_counts())\n",
    "name_train['Survived'] = (train1['Name'].apply(lambda x:x.split()[1]))[train1['Survived'] == 1].value_counts()\n",
    "display(name_train)\n",
    "name_test = pd.DataFrame(test1['Name'].apply(lambda x:x.split()[1]).value_counts())\n",
    "display(name_test)"
   ]
  },
  {
   "cell_type": "markdown",
   "metadata": {},
   "source": [
    "### 6. Pclass"
   ]
  },
  {
   "cell_type": "code",
   "execution_count": 100,
   "metadata": {},
   "outputs": [
    {
     "name": "stdout",
     "output_type": "stream",
     "text": [
      "0\n",
      "0\n"
     ]
    }
   ],
   "source": [
    "print(sum(train1['Pclass'].isnull()))\n",
    "print(sum(test1['Pclass'].isnull()))"
   ]
  },
  {
   "cell_type": "code",
   "execution_count": 102,
   "metadata": {},
   "outputs": [
    {
     "name": "stdout",
     "output_type": "stream",
     "text": [
      "int64 int64\n"
     ]
    }
   ],
   "source": [
    "print(train1['Pclass'].dtypes, test1['Pclass'].dtypes)"
   ]
  },
  {
   "cell_type": "code",
   "execution_count": 105,
   "metadata": {},
   "outputs": [
    {
     "data": {
      "text/html": [
       "<div>\n",
       "<style>\n",
       "    .dataframe thead tr:only-child th {\n",
       "        text-align: right;\n",
       "    }\n",
       "\n",
       "    .dataframe thead th {\n",
       "        text-align: left;\n",
       "    }\n",
       "\n",
       "    .dataframe tbody tr th {\n",
       "        vertical-align: top;\n",
       "    }\n",
       "</style>\n",
       "<table border=\"1\" class=\"dataframe\">\n",
       "  <thead>\n",
       "    <tr style=\"text-align: right;\">\n",
       "      <th></th>\n",
       "      <th>Pclass</th>\n",
       "    </tr>\n",
       "  </thead>\n",
       "  <tbody>\n",
       "    <tr>\n",
       "      <th>3</th>\n",
       "      <td>491</td>\n",
       "    </tr>\n",
       "    <tr>\n",
       "      <th>1</th>\n",
       "      <td>214</td>\n",
       "    </tr>\n",
       "    <tr>\n",
       "      <th>2</th>\n",
       "      <td>184</td>\n",
       "    </tr>\n",
       "  </tbody>\n",
       "</table>\n",
       "</div>"
      ],
      "text/plain": [
       "   Pclass\n",
       "3     491\n",
       "1     214\n",
       "2     184"
      ]
     },
     "metadata": {},
     "output_type": "display_data"
    },
    {
     "data": {
      "text/html": [
       "<div>\n",
       "<style>\n",
       "    .dataframe thead tr:only-child th {\n",
       "        text-align: right;\n",
       "    }\n",
       "\n",
       "    .dataframe thead th {\n",
       "        text-align: left;\n",
       "    }\n",
       "\n",
       "    .dataframe tbody tr th {\n",
       "        vertical-align: top;\n",
       "    }\n",
       "</style>\n",
       "<table border=\"1\" class=\"dataframe\">\n",
       "  <thead>\n",
       "    <tr style=\"text-align: right;\">\n",
       "      <th></th>\n",
       "      <th>Pclass</th>\n",
       "    </tr>\n",
       "  </thead>\n",
       "  <tbody>\n",
       "    <tr>\n",
       "      <th>3</th>\n",
       "      <td>218</td>\n",
       "    </tr>\n",
       "    <tr>\n",
       "      <th>1</th>\n",
       "      <td>107</td>\n",
       "    </tr>\n",
       "    <tr>\n",
       "      <th>2</th>\n",
       "      <td>93</td>\n",
       "    </tr>\n",
       "  </tbody>\n",
       "</table>\n",
       "</div>"
      ],
      "text/plain": [
       "   Pclass\n",
       "3     218\n",
       "1     107\n",
       "2      93"
      ]
     },
     "metadata": {},
     "output_type": "display_data"
    }
   ],
   "source": [
    "pclass_train = pd.DataFrame(train1['Pclass'].value_counts())\n",
    "pclass_test = pd.DataFrame(test1['Pclass'].value_counts())\n",
    "display(pclass_train)\n",
    "display(pclass_test)"
   ]
  },
  {
   "cell_type": "code",
   "execution_count": 106,
   "metadata": {
    "_cell_guid": "15bec460-f2e3-45d5-9145-ac582d760992",
    "_uuid": "1414516d945de111303e277f4cec2863fb74e949"
   },
   "outputs": [
    {
     "data": {
      "text/plain": [
       "<matplotlib.axes._subplots.AxesSubplot at 0x7fd18cb07240>"
      ]
     },
     "execution_count": 106,
     "metadata": {},
     "output_type": "execute_result"
    },
    {
     "data": {
      "image/png": "[encoded data removed]",
      "text/plain": [
       "<matplotlib.figure.Figure at 0x7fd18caa7e48>"
      ]
     },
     "metadata": {},
     "output_type": "display_data"
    }
   ],
   "source": [
    "sns.barplot(x= \"Pclass\", y = \"Survived\", hue = \"Sex\", data = train)"
   ]
  },
  {
   "cell_type": "markdown",
   "metadata": {},
   "source": [
    "### 7.SibSp"
   ]
  },
  {
   "cell_type": "code",
   "execution_count": 107,
   "metadata": {},
   "outputs": [
    {
     "name": "stdout",
     "output_type": "stream",
     "text": [
      "0\n",
      "0\n"
     ]
    }
   ],
   "source": [
    "print(sum(train1['SibSp'].isnull()))\n",
    "print(sum(test1['SibSp'].isnull()))"
   ]
  },
  {
   "cell_type": "code",
   "execution_count": 109,
   "metadata": {},
   "outputs": [
    {
     "data": {
      "text/html": [
       "<div>\n",
       "<style>\n",
       "    .dataframe thead tr:only-child th {\n",
       "        text-align: right;\n",
       "    }\n",
       "\n",
       "    .dataframe thead th {\n",
       "        text-align: left;\n",
       "    }\n",
       "\n",
       "    .dataframe tbody tr th {\n",
       "        vertical-align: top;\n",
       "    }\n",
       "</style>\n",
       "<table border=\"1\" class=\"dataframe\">\n",
       "  <thead>\n",
       "    <tr style=\"text-align: right;\">\n",
       "      <th></th>\n",
       "      <th>Number</th>\n",
       "    </tr>\n",
       "  </thead>\n",
       "  <tbody>\n",
       "    <tr>\n",
       "      <th>0</th>\n",
       "      <td>606</td>\n",
       "    </tr>\n",
       "    <tr>\n",
       "      <th>1</th>\n",
       "      <td>209</td>\n",
       "    </tr>\n",
       "    <tr>\n",
       "      <th>2</th>\n",
       "      <td>28</td>\n",
       "    </tr>\n",
       "    <tr>\n",
       "      <th>4</th>\n",
       "      <td>18</td>\n",
       "    </tr>\n",
       "    <tr>\n",
       "      <th>3</th>\n",
       "      <td>16</td>\n",
       "    </tr>\n",
       "    <tr>\n",
       "      <th>8</th>\n",
       "      <td>7</td>\n",
       "    </tr>\n",
       "    <tr>\n",
       "      <th>5</th>\n",
       "      <td>5</td>\n",
       "    </tr>\n",
       "  </tbody>\n",
       "</table>\n",
       "</div>"
      ],
      "text/plain": [
       "   Number\n",
       "0     606\n",
       "1     209\n",
       "2      28\n",
       "4      18\n",
       "3      16\n",
       "8       7\n",
       "5       5"
      ]
     },
     "metadata": {},
     "output_type": "display_data"
    },
    {
     "data": {
      "text/html": [
       "<div>\n",
       "<style>\n",
       "    .dataframe thead tr:only-child th {\n",
       "        text-align: right;\n",
       "    }\n",
       "\n",
       "    .dataframe thead th {\n",
       "        text-align: left;\n",
       "    }\n",
       "\n",
       "    .dataframe tbody tr th {\n",
       "        vertical-align: top;\n",
       "    }\n",
       "</style>\n",
       "<table border=\"1\" class=\"dataframe\">\n",
       "  <thead>\n",
       "    <tr style=\"text-align: right;\">\n",
       "      <th></th>\n",
       "      <th>Number</th>\n",
       "    </tr>\n",
       "  </thead>\n",
       "  <tbody>\n",
       "    <tr>\n",
       "      <th>0</th>\n",
       "      <td>283</td>\n",
       "    </tr>\n",
       "    <tr>\n",
       "      <th>1</th>\n",
       "      <td>110</td>\n",
       "    </tr>\n",
       "    <tr>\n",
       "      <th>2</th>\n",
       "      <td>14</td>\n",
       "    </tr>\n",
       "    <tr>\n",
       "      <th>4</th>\n",
       "      <td>4</td>\n",
       "    </tr>\n",
       "    <tr>\n",
       "      <th>3</th>\n",
       "      <td>4</td>\n",
       "    </tr>\n",
       "    <tr>\n",
       "      <th>8</th>\n",
       "      <td>2</td>\n",
       "    </tr>\n",
       "    <tr>\n",
       "      <th>5</th>\n",
       "      <td>1</td>\n",
       "    </tr>\n",
       "  </tbody>\n",
       "</table>\n",
       "</div>"
      ],
      "text/plain": [
       "   Number\n",
       "0     283\n",
       "1     110\n",
       "2      14\n",
       "4       4\n",
       "3       4\n",
       "8       2\n",
       "5       1"
      ]
     },
     "metadata": {},
     "output_type": "display_data"
    }
   ],
   "source": [
    "sibsp_train = pd.DataFrame({\"Number\": train1['SibSp'].value_counts()})\n",
    "sibsp_test = pd.DataFrame({\"Number\": test1['SibSp'].value_counts()})\n",
    "display(sibsp_train)\n",
    "display(sibsp_test)"
   ]
  },
  {
   "cell_type": "code",
   "execution_count": 114,
   "metadata": {
    "_cell_guid": "508278bd-9952-425a-bfc7-7b1fc38d1b1e",
    "_uuid": "92ea51486bd1a2138259ba23ae613bbfc9ac775e"
   },
   "outputs": [
    {
     "data": {
      "text/plain": [
       "<matplotlib.axes._subplots.AxesSubplot at 0x7fd18c7e22e8>"
      ]
     },
     "execution_count": 114,
     "metadata": {},
     "output_type": "execute_result"
    },
    {
     "data": {
      "image/png": "[encoded data removed]",
      "text/plain": [
       "<matplotlib.figure.Figure at 0x7fd18c82dc18>"
      ]
     },
     "metadata": {},
     "output_type": "display_data"
    }
   ],
   "source": [
    "sns.barplot(x = 'SibSp', y = \"Survived\", hue='Sex', data = train)"
   ]
  },
  {
   "cell_type": "markdown",
   "metadata": {},
   "source": [
    "### 8.Parch"
   ]
  },
  {
   "cell_type": "code",
   "execution_count": 111,
   "metadata": {},
   "outputs": [
    {
     "name": "stdout",
     "output_type": "stream",
     "text": [
      "0\n",
      "0\n"
     ]
    }
   ],
   "source": [
    "print(sum(train1['Parch'].isnull()))\n",
    "print(sum(test1['Parch'].isnull()))"
   ]
  },
  {
   "cell_type": "code",
   "execution_count": 112,
   "metadata": {
    "scrolled": true
   },
   "outputs": [
    {
     "data": {
      "text/html": [
       "<div>\n",
       "<style>\n",
       "    .dataframe thead tr:only-child th {\n",
       "        text-align: right;\n",
       "    }\n",
       "\n",
       "    .dataframe thead th {\n",
       "        text-align: left;\n",
       "    }\n",
       "\n",
       "    .dataframe tbody tr th {\n",
       "        vertical-align: top;\n",
       "    }\n",
       "</style>\n",
       "<table border=\"1\" class=\"dataframe\">\n",
       "  <thead>\n",
       "    <tr style=\"text-align: right;\">\n",
       "      <th></th>\n",
       "      <th>Number</th>\n",
       "    </tr>\n",
       "  </thead>\n",
       "  <tbody>\n",
       "    <tr>\n",
       "      <th>0</th>\n",
       "      <td>676</td>\n",
       "    </tr>\n",
       "    <tr>\n",
       "      <th>1</th>\n",
       "      <td>118</td>\n",
       "    </tr>\n",
       "    <tr>\n",
       "      <th>2</th>\n",
       "      <td>80</td>\n",
       "    </tr>\n",
       "    <tr>\n",
       "      <th>5</th>\n",
       "      <td>5</td>\n",
       "    </tr>\n",
       "    <tr>\n",
       "      <th>3</th>\n",
       "      <td>5</td>\n",
       "    </tr>\n",
       "    <tr>\n",
       "      <th>4</th>\n",
       "      <td>4</td>\n",
       "    </tr>\n",
       "    <tr>\n",
       "      <th>6</th>\n",
       "      <td>1</td>\n",
       "    </tr>\n",
       "  </tbody>\n",
       "</table>\n",
       "</div>"
      ],
      "text/plain": [
       "   Number\n",
       "0     676\n",
       "1     118\n",
       "2      80\n",
       "5       5\n",
       "3       5\n",
       "4       4\n",
       "6       1"
      ]
     },
     "metadata": {},
     "output_type": "display_data"
    },
    {
     "data": {
      "text/html": [
       "<div>\n",
       "<style>\n",
       "    .dataframe thead tr:only-child th {\n",
       "        text-align: right;\n",
       "    }\n",
       "\n",
       "    .dataframe thead th {\n",
       "        text-align: left;\n",
       "    }\n",
       "\n",
       "    .dataframe tbody tr th {\n",
       "        vertical-align: top;\n",
       "    }\n",
       "</style>\n",
       "<table border=\"1\" class=\"dataframe\">\n",
       "  <thead>\n",
       "    <tr style=\"text-align: right;\">\n",
       "      <th></th>\n",
       "      <th>Number</th>\n",
       "    </tr>\n",
       "  </thead>\n",
       "  <tbody>\n",
       "    <tr>\n",
       "      <th>0</th>\n",
       "      <td>324</td>\n",
       "    </tr>\n",
       "    <tr>\n",
       "      <th>1</th>\n",
       "      <td>52</td>\n",
       "    </tr>\n",
       "    <tr>\n",
       "      <th>2</th>\n",
       "      <td>33</td>\n",
       "    </tr>\n",
       "    <tr>\n",
       "      <th>3</th>\n",
       "      <td>3</td>\n",
       "    </tr>\n",
       "    <tr>\n",
       "      <th>9</th>\n",
       "      <td>2</td>\n",
       "    </tr>\n",
       "    <tr>\n",
       "      <th>4</th>\n",
       "      <td>2</td>\n",
       "    </tr>\n",
       "    <tr>\n",
       "      <th>6</th>\n",
       "      <td>1</td>\n",
       "    </tr>\n",
       "    <tr>\n",
       "      <th>5</th>\n",
       "      <td>1</td>\n",
       "    </tr>\n",
       "  </tbody>\n",
       "</table>\n",
       "</div>"
      ],
      "text/plain": [
       "   Number\n",
       "0     324\n",
       "1      52\n",
       "2      33\n",
       "3       3\n",
       "9       2\n",
       "4       2\n",
       "6       1\n",
       "5       1"
      ]
     },
     "metadata": {},
     "output_type": "display_data"
    }
   ],
   "source": [
    "parch_train = pd.DataFrame({\"Number\": train1['Parch'].value_counts()})\n",
    "parch_test = pd.DataFrame({\"Number\": test1['Parch'].value_counts()})\n",
    "display(parch_train)\n",
    "display(parch_test)"
   ]
  },
  {
   "cell_type": "code",
   "execution_count": 113,
   "metadata": {
    "_cell_guid": "1eb93cbb-73e9-4234-94ab-daa15230722f",
    "_uuid": "90731c0a51d62a6d13f01440468ada60442e9761"
   },
   "outputs": [
    {
     "data": {
      "text/plain": [
       "<matplotlib.axes._subplots.AxesSubplot at 0x7fd18e4bd6a0>"
      ]
     },
     "execution_count": 113,
     "metadata": {},
     "output_type": "execute_result"
    },
    {
     "data": {
      "image/png": "[encoded data removed]",
      "text/plain": [
       "<matplotlib.figure.Figure at 0x7fd18e5e2b70>"
      ]
     },
     "metadata": {},
     "output_type": "display_data"
    }
   ],
   "source": [
    "sns.barplot(x = \"Parch\", y = \"Survived\", hue = 'Sex', data = train)"
   ]
  },
  {
   "cell_type": "markdown",
   "metadata": {},
   "source": [
    "### 9.Age"
   ]
  },
  {
   "cell_type": "code",
   "execution_count": 116,
   "metadata": {},
   "outputs": [
    {
     "name": "stdout",
     "output_type": "stream",
     "text": [
      "177\n",
      "86\n"
     ]
    }
   ],
   "source": [
    "print(sum(train1['Age'].isnull()))\n",
    "print(sum(test1['Age'].isnull()))"
   ]
  },
  {
   "cell_type": "code",
   "execution_count": 117,
   "metadata": {},
   "outputs": [
    {
     "name": "stdout",
     "output_type": "stream",
     "text": [
      "float64\n",
      "float64\n"
     ]
    }
   ],
   "source": [
    "print(train1['Age'].dtypes)\n",
    "print(test1['Age'].dtypes)"
   ]
  },
  {
   "cell_type": "code",
   "execution_count": 131,
   "metadata": {},
   "outputs": [
    {
     "data": {
      "text/html": [
       "<div>\n",
       "<style>\n",
       "    .dataframe thead tr:only-child th {\n",
       "        text-align: right;\n",
       "    }\n",
       "\n",
       "    .dataframe thead th {\n",
       "        text-align: left;\n",
       "    }\n",
       "\n",
       "    .dataframe tbody tr th {\n",
       "        vertical-align: top;\n",
       "    }\n",
       "</style>\n",
       "<table border=\"1\" class=\"dataframe\">\n",
       "  <thead>\n",
       "    <tr style=\"text-align: right;\">\n",
       "      <th></th>\n",
       "      <th>Number</th>\n",
       "    </tr>\n",
       "    <tr>\n",
       "      <th>Age</th>\n",
       "      <th></th>\n",
       "    </tr>\n",
       "  </thead>\n",
       "  <tbody>\n",
       "    <tr>\n",
       "      <th>0.42</th>\n",
       "      <td>1</td>\n",
       "    </tr>\n",
       "    <tr>\n",
       "      <th>20.50</th>\n",
       "      <td>1</td>\n",
       "    </tr>\n",
       "    <tr>\n",
       "      <th>24.50</th>\n",
       "      <td>1</td>\n",
       "    </tr>\n",
       "    <tr>\n",
       "      <th>0.67</th>\n",
       "      <td>1</td>\n",
       "    </tr>\n",
       "    <tr>\n",
       "      <th>14.50</th>\n",
       "      <td>1</td>\n",
       "    </tr>\n",
       "    <tr>\n",
       "      <th>0.92</th>\n",
       "      <td>1</td>\n",
       "    </tr>\n",
       "    <tr>\n",
       "      <th>74.00</th>\n",
       "      <td>1</td>\n",
       "    </tr>\n",
       "    <tr>\n",
       "      <th>34.50</th>\n",
       "      <td>1</td>\n",
       "    </tr>\n",
       "    <tr>\n",
       "      <th>23.50</th>\n",
       "      <td>1</td>\n",
       "    </tr>\n",
       "    <tr>\n",
       "      <th>12.00</th>\n",
       "      <td>1</td>\n",
       "    </tr>\n",
       "    <tr>\n",
       "      <th>36.50</th>\n",
       "      <td>1</td>\n",
       "    </tr>\n",
       "    <tr>\n",
       "      <th>53.00</th>\n",
       "      <td>1</td>\n",
       "    </tr>\n",
       "    <tr>\n",
       "      <th>55.50</th>\n",
       "      <td>1</td>\n",
       "    </tr>\n",
       "    <tr>\n",
       "      <th>70.50</th>\n",
       "      <td>1</td>\n",
       "    </tr>\n",
       "    <tr>\n",
       "      <th>66.00</th>\n",
       "      <td>1</td>\n",
       "    </tr>\n",
       "    <tr>\n",
       "      <th>80.00</th>\n",
       "      <td>1</td>\n",
       "    </tr>\n",
       "    <tr>\n",
       "      <th>55.00</th>\n",
       "      <td>2</td>\n",
       "    </tr>\n",
       "    <tr>\n",
       "      <th>28.50</th>\n",
       "      <td>2</td>\n",
       "    </tr>\n",
       "    <tr>\n",
       "      <th>71.00</th>\n",
       "      <td>2</td>\n",
       "    </tr>\n",
       "    <tr>\n",
       "      <th>59.00</th>\n",
       "      <td>2</td>\n",
       "    </tr>\n",
       "    <tr>\n",
       "      <th>0.83</th>\n",
       "      <td>2</td>\n",
       "    </tr>\n",
       "    <tr>\n",
       "      <th>30.50</th>\n",
       "      <td>2</td>\n",
       "    </tr>\n",
       "    <tr>\n",
       "      <th>70.00</th>\n",
       "      <td>2</td>\n",
       "    </tr>\n",
       "    <tr>\n",
       "      <th>63.00</th>\n",
       "      <td>2</td>\n",
       "    </tr>\n",
       "    <tr>\n",
       "      <th>0.75</th>\n",
       "      <td>2</td>\n",
       "    </tr>\n",
       "    <tr>\n",
       "      <th>13.00</th>\n",
       "      <td>2</td>\n",
       "    </tr>\n",
       "    <tr>\n",
       "      <th>10.00</th>\n",
       "      <td>2</td>\n",
       "    </tr>\n",
       "    <tr>\n",
       "      <th>64.00</th>\n",
       "      <td>2</td>\n",
       "    </tr>\n",
       "    <tr>\n",
       "      <th>40.50</th>\n",
       "      <td>2</td>\n",
       "    </tr>\n",
       "    <tr>\n",
       "      <th>32.50</th>\n",
       "      <td>2</td>\n",
       "    </tr>\n",
       "    <tr>\n",
       "      <th>45.50</th>\n",
       "      <td>2</td>\n",
       "    </tr>\n",
       "    <tr>\n",
       "      <th>57.00</th>\n",
       "      <td>2</td>\n",
       "    </tr>\n",
       "    <tr>\n",
       "      <th>46.00</th>\n",
       "      <td>3</td>\n",
       "    </tr>\n",
       "    <tr>\n",
       "      <th>65.00</th>\n",
       "      <td>3</td>\n",
       "    </tr>\n",
       "    <tr>\n",
       "      <th>6.00</th>\n",
       "      <td>3</td>\n",
       "    </tr>\n",
       "    <tr>\n",
       "      <th>61.00</th>\n",
       "      <td>3</td>\n",
       "    </tr>\n",
       "    <tr>\n",
       "      <th>62.00</th>\n",
       "      <td>3</td>\n",
       "    </tr>\n",
       "    <tr>\n",
       "      <th>7.00</th>\n",
       "      <td>3</td>\n",
       "    </tr>\n",
       "    <tr>\n",
       "      <th>56.00</th>\n",
       "      <td>4</td>\n",
       "    </tr>\n",
       "    <tr>\n",
       "      <th>8.00</th>\n",
       "      <td>4</td>\n",
       "    </tr>\n",
       "    <tr>\n",
       "      <th>60.00</th>\n",
       "      <td>4</td>\n",
       "    </tr>\n",
       "    <tr>\n",
       "      <th>5.00</th>\n",
       "      <td>4</td>\n",
       "    </tr>\n",
       "    <tr>\n",
       "      <th>11.00</th>\n",
       "      <td>4</td>\n",
       "    </tr>\n",
       "    <tr>\n",
       "      <th>58.00</th>\n",
       "      <td>5</td>\n",
       "    </tr>\n",
       "    <tr>\n",
       "      <th>15.00</th>\n",
       "      <td>5</td>\n",
       "    </tr>\n",
       "    <tr>\n",
       "      <th>43.00</th>\n",
       "      <td>5</td>\n",
       "    </tr>\n",
       "    <tr>\n",
       "      <th>14.00</th>\n",
       "      <td>6</td>\n",
       "    </tr>\n",
       "    <tr>\n",
       "      <th>3.00</th>\n",
       "      <td>6</td>\n",
       "    </tr>\n",
       "    <tr>\n",
       "      <th>37.00</th>\n",
       "      <td>6</td>\n",
       "    </tr>\n",
       "    <tr>\n",
       "      <th>49.00</th>\n",
       "      <td>6</td>\n",
       "    </tr>\n",
       "    <tr>\n",
       "      <th>41.00</th>\n",
       "      <td>6</td>\n",
       "    </tr>\n",
       "    <tr>\n",
       "      <th>52.00</th>\n",
       "      <td>6</td>\n",
       "    </tr>\n",
       "    <tr>\n",
       "      <th>1.00</th>\n",
       "      <td>7</td>\n",
       "    </tr>\n",
       "    <tr>\n",
       "      <th>51.00</th>\n",
       "      <td>7</td>\n",
       "    </tr>\n",
       "    <tr>\n",
       "      <th>54.00</th>\n",
       "      <td>8</td>\n",
       "    </tr>\n",
       "    <tr>\n",
       "      <th>9.00</th>\n",
       "      <td>8</td>\n",
       "    </tr>\n",
       "    <tr>\n",
       "      <th>47.00</th>\n",
       "      <td>9</td>\n",
       "    </tr>\n",
       "    <tr>\n",
       "      <th>48.00</th>\n",
       "      <td>9</td>\n",
       "    </tr>\n",
       "    <tr>\n",
       "      <th>44.00</th>\n",
       "      <td>9</td>\n",
       "    </tr>\n",
       "    <tr>\n",
       "      <th>38.00</th>\n",
       "      <td>10</td>\n",
       "    </tr>\n",
       "    <tr>\n",
       "      <th>4.00</th>\n",
       "      <td>10</td>\n",
       "    </tr>\n",
       "    <tr>\n",
       "      <th>2.00</th>\n",
       "      <td>10</td>\n",
       "    </tr>\n",
       "    <tr>\n",
       "      <th>50.00</th>\n",
       "      <td>10</td>\n",
       "    </tr>\n",
       "    <tr>\n",
       "      <th>45.00</th>\n",
       "      <td>12</td>\n",
       "    </tr>\n",
       "    <tr>\n",
       "      <th>17.00</th>\n",
       "      <td>13</td>\n",
       "    </tr>\n",
       "    <tr>\n",
       "      <th>40.00</th>\n",
       "      <td>13</td>\n",
       "    </tr>\n",
       "    <tr>\n",
       "      <th>42.00</th>\n",
       "      <td>13</td>\n",
       "    </tr>\n",
       "    <tr>\n",
       "      <th>39.00</th>\n",
       "      <td>14</td>\n",
       "    </tr>\n",
       "    <tr>\n",
       "      <th>23.00</th>\n",
       "      <td>15</td>\n",
       "    </tr>\n",
       "    <tr>\n",
       "      <th>20.00</th>\n",
       "      <td>15</td>\n",
       "    </tr>\n",
       "    <tr>\n",
       "      <th>34.00</th>\n",
       "      <td>15</td>\n",
       "    </tr>\n",
       "    <tr>\n",
       "      <th>33.00</th>\n",
       "      <td>15</td>\n",
       "    </tr>\n",
       "    <tr>\n",
       "      <th>31.00</th>\n",
       "      <td>17</td>\n",
       "    </tr>\n",
       "    <tr>\n",
       "      <th>16.00</th>\n",
       "      <td>17</td>\n",
       "    </tr>\n",
       "    <tr>\n",
       "      <th>27.00</th>\n",
       "      <td>18</td>\n",
       "    </tr>\n",
       "    <tr>\n",
       "      <th>32.00</th>\n",
       "      <td>18</td>\n",
       "    </tr>\n",
       "    <tr>\n",
       "      <th>35.00</th>\n",
       "      <td>18</td>\n",
       "    </tr>\n",
       "    <tr>\n",
       "      <th>26.00</th>\n",
       "      <td>18</td>\n",
       "    </tr>\n",
       "    <tr>\n",
       "      <th>29.00</th>\n",
       "      <td>20</td>\n",
       "    </tr>\n",
       "    <tr>\n",
       "      <th>36.00</th>\n",
       "      <td>22</td>\n",
       "    </tr>\n",
       "    <tr>\n",
       "      <th>25.00</th>\n",
       "      <td>23</td>\n",
       "    </tr>\n",
       "    <tr>\n",
       "      <th>21.00</th>\n",
       "      <td>24</td>\n",
       "    </tr>\n",
       "    <tr>\n",
       "      <th>19.00</th>\n",
       "      <td>25</td>\n",
       "    </tr>\n",
       "    <tr>\n",
       "      <th>30.00</th>\n",
       "      <td>25</td>\n",
       "    </tr>\n",
       "    <tr>\n",
       "      <th>28.00</th>\n",
       "      <td>25</td>\n",
       "    </tr>\n",
       "    <tr>\n",
       "      <th>18.00</th>\n",
       "      <td>26</td>\n",
       "    </tr>\n",
       "    <tr>\n",
       "      <th>22.00</th>\n",
       "      <td>27</td>\n",
       "    </tr>\n",
       "    <tr>\n",
       "      <th>24.00</th>\n",
       "      <td>30</td>\n",
       "    </tr>\n",
       "  </tbody>\n",
       "</table>\n",
       "</div>"
      ],
      "text/plain": [
       "       Number\n",
       "Age          \n",
       "0.42        1\n",
       "20.50       1\n",
       "24.50       1\n",
       "0.67        1\n",
       "14.50       1\n",
       "0.92        1\n",
       "74.00       1\n",
       "34.50       1\n",
       "23.50       1\n",
       "12.00       1\n",
       "36.50       1\n",
       "53.00       1\n",
       "55.50       1\n",
       "70.50       1\n",
       "66.00       1\n",
       "80.00       1\n",
       "55.00       2\n",
       "28.50       2\n",
       "71.00       2\n",
       "59.00       2\n",
       "0.83        2\n",
       "30.50       2\n",
       "70.00       2\n",
       "63.00       2\n",
       "0.75        2\n",
       "13.00       2\n",
       "10.00       2\n",
       "64.00       2\n",
       "40.50       2\n",
       "32.50       2\n",
       "45.50       2\n",
       "57.00       2\n",
       "46.00       3\n",
       "65.00       3\n",
       "6.00        3\n",
       "61.00       3\n",
       "62.00       3\n",
       "7.00        3\n",
       "56.00       4\n",
       "8.00        4\n",
       "60.00       4\n",
       "5.00        4\n",
       "11.00       4\n",
       "58.00       5\n",
       "15.00       5\n",
       "43.00       5\n",
       "14.00       6\n",
       "3.00        6\n",
       "37.00       6\n",
       "49.00       6\n",
       "41.00       6\n",
       "52.00       6\n",
       "1.00        7\n",
       "51.00       7\n",
       "54.00       8\n",
       "9.00        8\n",
       "47.00       9\n",
       "48.00       9\n",
       "44.00       9\n",
       "38.00      10\n",
       "4.00       10\n",
       "2.00       10\n",
       "50.00      10\n",
       "45.00      12\n",
       "17.00      13\n",
       "40.00      13\n",
       "42.00      13\n",
       "39.00      14\n",
       "23.00      15\n",
       "20.00      15\n",
       "34.00      15\n",
       "33.00      15\n",
       "31.00      17\n",
       "16.00      17\n",
       "27.00      18\n",
       "32.00      18\n",
       "35.00      18\n",
       "26.00      18\n",
       "29.00      20\n",
       "36.00      22\n",
       "25.00      23\n",
       "21.00      24\n",
       "19.00      25\n",
       "30.00      25\n",
       "28.00      25\n",
       "18.00      26\n",
       "22.00      27\n",
       "24.00      30"
      ]
     },
     "metadata": {},
     "output_type": "display_data"
    }
   ],
   "source": [
    "age_train = pd.DataFrame({'Number': train1['Age'].value_counts()})\n",
    "age_train['Age'] = age_train.index\n",
    "age_train.sort_values(by = 'Number', inplace = True)\n",
    "age_train.set_index('Age', inplace = True)\n",
    "display(age_train)"
   ]
  },
  {
   "cell_type": "code",
   "execution_count": null,
   "metadata": {
    "collapsed": true
   },
   "outputs": [],
   "source": [
    "train1.fillna(train1['Age'].median(), inplace = True)\n",
    "test1.fillna(test1['Age'].median(), inplace = True)"
   ]
  },
  {
   "cell_type": "markdown",
   "metadata": {},
   "source": [
    "### 10.Fare"
   ]
  },
  {
   "cell_type": "code",
   "execution_count": null,
   "metadata": {
    "collapsed": true
   },
   "outputs": [],
   "source": [
    "print(sum(train1['Fare'].isnull()))\n",
    "print(sum(te))"
   ]
  },
  {
   "cell_type": "markdown",
   "metadata": {
    "_cell_guid": "859507c0-dca0-4210-936e-85ce806844f6",
    "_uuid": "6d412713b1ca515f314ff754e394116fb1dfb2c0"
   },
   "source": [
    "###  Missing Data\n",
    "1. Training Data"
   ]
  },
  {
   "cell_type": "code",
   "execution_count": null,
   "metadata": {
    "_cell_guid": "b5dd031f-b05f-4d7e-bb33-d5012e7d6ecf",
    "_uuid": "aef9f0079dee4accebd8fd2b94d89cdd77820793"
   },
   "outputs": [],
   "source": [
    "missing = train.isnull().sum()\n",
    "missing = missing[missing>0]\n",
    "missing.sort_values(inplace = True, ascending = False)\n",
    "missing = pd.DataFrame(missing, columns=[\"Missing\"])\n",
    "display(missing)"
   ]
  },
  {
   "cell_type": "markdown",
   "metadata": {
    "_cell_guid": "487efc07-2a20-49cd-9f7a-4a48228def85",
    "_uuid": "c7dd3ca9ce6a26e06b6ea896135188bf8d420ab2"
   },
   "source": [
    " 2. Test Data"
   ]
  },
  {
   "cell_type": "code",
   "execution_count": null,
   "metadata": {
    "_cell_guid": "6d9af05e-02f7-4f85-82d2-82a2eb20ad87",
    "_uuid": "ee55de3131422b03359fdb0c607ff11e5e33335f"
   },
   "outputs": [],
   "source": [
    "missing1 = test.isnull().sum()\n",
    "missing1 = missing1[missing1>0]\n",
    "missing1.sort_values(inplace = True, ascending = False)\n",
    "missing1 = pd.DataFrame(missing1, columns = [\"Missing\"])\n",
    "display(missing1)"
   ]
  },
  {
   "cell_type": "markdown",
   "metadata": {
    "_cell_guid": "4b121dcd-d1b6-4ebb-9a44-f039a0becc0d",
    "_uuid": "05f68bcca11c63f33532257b7075f32f15c0d829"
   },
   "source": [
    "##### Handling Missing Data"
   ]
  },
  {
   "cell_type": "code",
   "execution_count": null,
   "metadata": {
    "_cell_guid": "67dcbb8e-a68c-4942-b26e-655903ad5e93",
    "_uuid": "e96faacc4c3567f9c57157966dbf1beb24fef020"
   },
   "outputs": [],
   "source": [
    "#Cabin\n",
    "train.fillna({'Cabin': \"None\"}, inplace = True)\n",
    "test.fillna({'Cabin': \"None\"}, inplace = True)\n",
    "\n",
    "\n",
    "#Age\n",
    "train.fillna({'Age': train[\"Age\"].mean()}, inplace =True)\n",
    "test.fillna({\"Age\": test[\"Age\"].mean()}, inplace = True)\n",
    "\n",
    "#Embarked\n",
    "train.fillna({'Embarked': train['Embarked'].mode()[0]}, inplace = True)\n",
    "\n",
    "#Fare\n",
    "test.fillna({'Fare': test['Fare'].mean()}, inplace = True)\n",
    "\n",
    "print(train.isnull().any().any())\n",
    "print(test.isnull().any().any())"
   ]
  },
  {
   "cell_type": "markdown",
   "metadata": {
    "_cell_guid": "7e6c1655-108c-4dcf-bd8f-f9b7f5cd6fd5",
    "_uuid": "86c32d389f94abf1a68086bd006b7ad500e1526e"
   },
   "source": [
    "1. We need to get dummy Variables for \"Pclass\", \"Sex\", \"Embarked\".\n",
    "1. We need to transform features \"Cabin\", \"Name\", \"Ticket\".\n",
    "\n",
    "\n",
    "### Feature Transformation\n"
   ]
  },
  {
   "cell_type": "code",
   "execution_count": null,
   "metadata": {
    "_cell_guid": "dabb8e34-0b91-4dbc-8370-7eb572843925",
    "_uuid": "2b2fae6a71aaf068ea267a65f86958b9b1ea2e22",
    "collapsed": true
   },
   "outputs": [],
   "source": [
    "def TransformCabin(df):\n",
    "    df['Cabin']= df['Cabin'].apply(lambda x: x[0])\n",
    "    return df\n",
    "\n",
    "TransformCabin(train)\n",
    "TransformCabin(test)\n",
    "\n",
    "ids = test[\"PassengerId\"]\n",
    "\n",
    "train.drop([\"Ticket\",\"PassengerId\"], axis = 1,inplace = True)\n",
    "test.drop([\"Ticket\",\"PassengerId\"], axis = 1, inplace = True)"
   ]
  },
  {
   "cell_type": "code",
   "execution_count": null,
   "metadata": {
    "_cell_guid": "1475cd80-5d0b-42df-8fad-106018a02b66",
    "_uuid": "61e30b573bc7bba6ea64a3464f809c0030869fa1"
   },
   "outputs": [],
   "source": [
    "print(train.isnull().any().any())\n",
    "train.head()"
   ]
  },
  {
   "cell_type": "code",
   "execution_count": null,
   "metadata": {
    "_cell_guid": "3ad0caf8-5464-4de9-900e-38eb721d2ae5",
    "_uuid": "105203014911f193c56e99ca74ad4209ccc2503f"
   },
   "outputs": [],
   "source": [
    "print(test.isnull().any().any())\n",
    "test.head()"
   ]
  },
  {
   "cell_type": "code",
   "execution_count": null,
   "metadata": {
    "_cell_guid": "0edf9954-593d-416f-b57a-cd5304c93279",
    "_uuid": "d235bb0a34d062c934ee187b3d48bd22da5d861b"
   },
   "outputs": [],
   "source": [
    "print(train.select_dtypes(exclude = ['object']).columns)\n",
    "print(test.select_dtypes(exclude = ['object']).columns)"
   ]
  },
  {
   "cell_type": "code",
   "execution_count": null,
   "metadata": {
    "_cell_guid": "2541f016-e476-4225-9c1b-732543ef6f64",
    "_uuid": "d56ef80034355a943ea9daad44d607b79e672244"
   },
   "outputs": [],
   "source": [
    "train.head()"
   ]
  },
  {
   "cell_type": "code",
   "execution_count": null,
   "metadata": {
    "collapsed": true
   },
   "outputs": [],
   "source": []
  },
  {
   "cell_type": "code",
   "execution_count": null,
   "metadata": {
    "_cell_guid": "9a617dab-ac4c-4389-bea5-4b9818d9fda8",
    "_uuid": "3155807ba3d2647a291e1ee9e8d86eb0caf820d6"
   },
   "outputs": [],
   "source": [
    "def SimplifyName(df):\n",
    "    df['Title'] = df['Name'].apply(lambda x: x.split(' ')[1])\n",
    "    df.drop([\"Name\"], axis = 1, inplace = True)\n",
    "    return df\n",
    "def SimplifyAge(df):\n",
    "    print(df['Age'].min(), df['Age'].max())\n",
    "    bins = (0, 5, 12, 18, 25, 35, 55, 70,120)\n",
    "    labels_name = [\"Baby\", \"child\", \"adult\", \"teenager\", \"young\", \"old1\", \"old2\",\n",
    "              \"veryold\"]\n",
    "    categories = pd.cut(df['Age'], bins, labels = labels_name)\n",
    "    df['Age'] = categories\n",
    "    return df\n",
    "def SimplifyFare(df):\n",
    "    print(df['Fare'].min(), df['Fare'].max())\n",
    "    bins = (-1.00 , 20,100.00, 300.00, 600.00)\n",
    "    labels_name = [\"General\", \"Sleeper\",\"SecondAC\",\"FirstAC\"]\n",
    "    categories = pd.cut(df['Fare'], bins, labels = labels_name)\n",
    "    df['Fare'] = categories\n",
    "    df['Fare'] = df['Fare'].astype('category')\n",
    "    df.replace({'Fare':{\"General\":1.0, \"Sleeper\":4.0, \"SecondAC\":9.0, \"FirstAC\": 16.0}}, inplace = True)\n",
    "    df['Fare'] = df['Fare'].astype(np.number)\n",
    "    return df\n",
    "    \n",
    "print(train['Fare'][[179,263]])\n",
    "train = SimplifyAge(train)\n",
    "test = SimplifyAge(test)\n",
    "train = SimplifyFare(train)\n",
    "test = SimplifyFare(test)\n",
    "train= SimplifyName(train)\n",
    "test = SimplifyName(test)\n",
    "\n",
    "print(train.isnull().sum(), test.isnull().sum())\n",
    "print(train.index[train['Fare'].isnull()])\n",
    "sns.barplot(x = \"Fare\", y = \"Survived\", data = train)"
   ]
  },
  {
   "cell_type": "code",
   "execution_count": null,
   "metadata": {
    "_cell_guid": "f9dc4b01-a050-4e31-90cc-a960633d3437",
    "_uuid": "c8e20b9a99e4f98c068f6ed177a80fc4ee51437f"
   },
   "outputs": [],
   "source": [
    "numeric_features = list(test.select_dtypes(exclude=['O','category']).columns)\n",
    "numeric_features_num = len(numeric_features)\n",
    "print(\"No of numeric Features: \",numeric_features_num,\"\\nNumeric Features:\", numeric_features)\n",
    "train['FamilySize'] = train['Parch'] + train['SibSp']\n",
    "test['FamilySize'] = test['Parch'] + test['SibSp']\n",
    "# train.replace({\"Pclass\":{1:3,3:1}}, inplace = True)\n",
    "# test.replace({\"Pclass\":{1:3,3:1}}, inplace = True)\n",
    "train['FamilySize'] = train['FamilySize'].astype('category')\n",
    "test['FamilySize'] = test['FamilySize'].astype('category')\n",
    "train.replace({\"Sex\":{\"male\":1, \"female\":2}}, inplace = True)\n",
    "test.replace({\"Sex\":{\"male\":1, \"female\":2}}, inplace = True)\n",
    "train[\"Sex\"] = train['Sex'].astype(np.number)\n",
    "test[\"Sex\"] = test['Sex'].astype(np.number)\n",
    "train.drop(['Parch', 'SibSp','Cabin'], axis = 1, inplace = True)\n",
    "test.drop(['Parch', 'SibSp', 'Cabin'], axis = 1, inplace = True)\n",
    "sns.barplot(x = \"FamilySize\", y =\"Survived\", data = train)\n",
    "\n",
    "display(train.head())\n",
    "def SimplifyFamilySize(df):\n",
    "    bins = (-1, 0, 1, 2, 3, 10)\n",
    "    labels_name = [\"VerySmall\", \"Small\", \"Medium\", \"Average\", \"Large\"]\n",
    "    categories = pd.cut(df['FamilySize'], bins, labels = labels_name)\n",
    "    df['FamilySize'] = categories\n",
    "    return df\n",
    "\n",
    "train = SimplifyFamilySize(train)\n",
    "test = SimplifyFamilySize(test)\n",
    "display(train.head())"
   ]
  },
  {
   "cell_type": "code",
   "execution_count": null,
   "metadata": {
    "_cell_guid": "4dbc6ccf-14b8-47d8-a468-644815a32443",
    "_uuid": "6ee9205395306bacd65d96521dc3f962174b54ea"
   },
   "outputs": [],
   "source": [
    "X = train[train['Sex']==1].drop([\"Survived\"], axis =1)\n",
    "y = train[train['Sex']==1][\"Survived\"]\n",
    "Test = test[test['Sex']==1]\n",
    "print(Test.shape)\n",
    "# X = train.drop([\"Survived\"], axis =1)\n",
    "# y = train[\"Survived\"]\n",
    "# Test = test\n",
    "# print(Test.shape)\n",
    "print(X.shape[0])\n",
    "data_combined = pd.concat([X, Test], ignore_index= True)\n",
    "display(data_combined.head())\n",
    "data_combined = pd.get_dummies(data_combined)\n",
    "display(data_combined.head())\n",
    "print(\"am\")"
   ]
  },
  {
   "cell_type": "code",
   "execution_count": null,
   "metadata": {
    "_cell_guid": "e38e4140-f537-49ce-92fc-28e3acdc7be0",
    "_uuid": "61f1aa037dab87fd6ce8a9100f3a41050a65c5fd"
   },
   "outputs": [],
   "source": [
    "print(data_combined.shape)\n",
    "data_combined[\"Sex_sq\"] = data_combined[\"Sex\"]**2\n",
    "# data_combined[\"Pclass_inv\"] = data_combined[\"Pclass\"]**2\n",
    "# data_combined.drop([\"Pclass\"], axis = 1, inplace = True)\n",
    "display(data_combined.ix[0:2,:])\n",
    "X = data_combined.ix[0:X.shape[0]-1,:]\n",
    "Test = data_combined.ix[X.shape[0]:, :]\n",
    "print(X.shape)\n",
    "print(Test.shape)"
   ]
  },
  {
   "cell_type": "code",
   "execution_count": null,
   "metadata": {
    "_cell_guid": "e0739c3c-8d29-4c2c-845f-b35c5e03d21f",
    "_uuid": "43c7a2b80ea6dd19a477e24bc0e48f298460c38a",
    "collapsed": true
   },
   "outputs": [],
   "source": [
    "from sklearn.model_selection import train_test_split\n",
    "X_train , X_test, y_train , y_test = train_test_split(X,y , test_size = 0.2, random_state = 0)"
   ]
  },
  {
   "cell_type": "code",
   "execution_count": null,
   "metadata": {
    "_cell_guid": "5a0cb514-7a02-472d-903d-332e2ccc936a",
    "_uuid": "18bb42df6769c397ef4b6d38bce86f2a084f8263"
   },
   "outputs": [],
   "source": [
    "print(X_train.shape)\n",
    "print(Test.shape)"
   ]
  },
  {
   "cell_type": "code",
   "execution_count": null,
   "metadata": {
    "_cell_guid": "38a3eff1-1ce8-4e61-a72b-9301bdc0f747",
    "_uuid": "340d2f307cc4ac1ec9f9a592668ba0783e16a56c"
   },
   "outputs": [],
   "source": [
    "from sklearn.linear_model import LogisticRegression\n",
    "\n",
    "regr = LogisticRegression()\n",
    "regr.fit(X_train, y_train)\n",
    "score1 = regr.score(X_train , y_train)\n",
    "score2 = regr.score(X_test, y_test)\n",
    "print(score1, score2)"
   ]
  },
  {
   "cell_type": "code",
   "execution_count": null,
   "metadata": {
    "_cell_guid": "8a6210ee-523e-4322-a187-7878cfc67108",
    "_uuid": "50c20017ae655c8354bc942fedc9722637ebe65a",
    "scrolled": false
   },
   "outputs": [],
   "source": [
    "from sklearn.cross_validation import KFold\n",
    "from sklearn.ensemble import RandomForestClassifier\n",
    "from sklearn.metrics import make_scorer, accuracy_score\n",
    "from sklearn.model_selection import GridSearchCV\n",
    "\n",
    "def run_kfold(clf):\n",
    "    kf = KFold(314, n_folds=10)\n",
    "    outcomes = []\n",
    "    fold = 0\n",
    "    for train_index, test_index in kf:\n",
    "        fold += 1\n",
    "        X_train, X_test = X.values[train_index], X.values[test_index]\n",
    "        y_train, y_test = y.values[train_index], y.values[test_index]\n",
    "        print(X_train.shape)\n",
    "        clf.fit(X_train, y_train)\n",
    "        predictions = clf.predict(X_test)\n",
    "        from sklearn.metrics import confusion_matrix\n",
    "        cm = confusion_matrix(y_test, clf.predict(X_test))\n",
    "        print(cm)\n",
    "        accuracy = accuracy_score(y_test, predictions)\n",
    "        outcomes.append(accuracy)\n",
    "        print(\"Fold {0} accuracy: {1}\".format(fold, accuracy))     \n",
    "    mean_outcome = np.mean(outcomes)\n",
    "    print(\"Mean Accuracy: {0}\".format(mean_outcome)) \n",
    "\n",
    "run_kfold(svc)"
   ]
  },
  {
   "cell_type": "code",
   "execution_count": null,
   "metadata": {
    "_cell_guid": "37715656-2c88-450b-8fcd-4420a625ec03",
    "_uuid": "bb2010bbd69f2d51e4ddc035fb5f836e36bb62ca",
    "collapsed": true
   },
   "outputs": [],
   "source": [
    "# Prediction = regr.predict(Test)\n",
    "# output = pd.DataFrame({ 'PassengerId' : ids, 'Survived': Prediction })\n",
    "# output.to_csv('predictions.csv', index = False)\n",
    "# output.head()"
   ]
  },
  {
   "cell_type": "code",
   "execution_count": null,
   "metadata": {
    "_cell_guid": "2e0f03d9-dec9-4466-bd39-bf2c64bd25ef",
    "_uuid": "f8e4b88283a4211da348f237f8570689019ac4e2"
   },
   "outputs": [],
   "source": [
    "#Support Vector Machine\n",
    "from sklearn.svm import SVC\n",
    "\n",
    "for x in [10]:\n",
    "    svc = SVC(kernel='rbf', C= 10)\n",
    "    svc.fit(X_train , y_train)\n",
    "    score1 = svc.score(X_train, y_train)\n",
    "    score2 = svc.score(X_test, y_test)\n",
    "    print(score1, score2)\n",
    "from sklearn.metrics import confusion_matrix\n",
    "cm = confusion_matrix(y_test, svc.predict(X_test))\n",
    "print(cm)"
   ]
  },
  {
   "cell_type": "code",
   "execution_count": null,
   "metadata": {
    "_cell_guid": "301d00cc-2b6e-4852-b632-b1fa71852f0f",
    "_uuid": "28f79c40bd8735be26e1d3aee69a2d7460419513",
    "collapsed": true
   },
   "outputs": [],
   "source": [
    "# Prediction = svc.predict(Test)\n",
    "# output_svc = pd.DataFrame({ 'PassengerId' : ids, 'Survived': Prediction })\n",
    "# output_svc.to_csv('predictions_svm.csv', index = False)\n",
    "# sum(output_svc['Survived'] == output['Survived'])"
   ]
  },
  {
   "cell_type": "markdown",
   "metadata": {},
   "source": [
    "##### Decision Tree"
   ]
  },
  {
   "cell_type": "code",
   "execution_count": null,
   "metadata": {},
   "outputs": [],
   "source": [
    "#Decision Tree\n",
    "from sklearn.tree import DecisionTreeClassifier\n",
    "for n in [2,12, 14, 6, 8, 10]:\n",
    "    clf = DecisionTreeClassifier(min_samples_split = 2, random_state = 0)\n",
    "    clf.fit(X_train , y_train)\n",
    "    score1 = clf.score(X_train, y_train)\n",
    "    score2 = clf.score(X_test, y_test)\n",
    "    print(score1, score2)\n",
    "from sklearn.metrics import confusion_matrix\n",
    "cm = confusion_matrix(y_test, clf.predict(X_test))\n",
    "print(cm)"
   ]
  },
  {
   "cell_type": "code",
   "execution_count": null,
   "metadata": {},
   "outputs": [],
   "source": [
    "Prediction = clf.predict(Test)\n",
    "output_clf = pd.DataFrame({'PassengerId': ids , 'Survived': Prediction})\n",
    "output_clf.to_csv('prediction_decision.csv', index = False)\n",
    "sum(output_clf['Survived'] != output_svc['Survived'])"
   ]
  }
 ],
 "metadata": {
  "kernelspec": {
   "display_name": "Python 3",
   "language": "python",
   "name": "python3"
  },
  "language_info": {
   "codemirror_mode": {
    "name": "ipython",
    "version": 3
   },
   "file_extension": ".py",
   "mimetype": "text/x-python",
   "name": "python",
   "nbconvert_exporter": "python",
   "pygments_lexer": "ipython3",
   "version": "3.6.2"
  }
 },
 "nbformat": 4,
 "nbformat_minor": 1
}
