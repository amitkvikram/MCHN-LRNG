{
 "cells": [
  {
   "cell_type": "code",
   "execution_count": null,
   "metadata": {
    "collapsed": true
   },
   "outputs": [],
   "source": [
    "# This Python 3 environment comes with many helpful analytics libraries installed\n",
    "# It is defined by the kaggle/python docker image: https://github.com/kaggle/docker-python\n",
    "# For example, here's several helpful packages to load in \n",
    "\n",
    "import numpy as np # linear algebra\n",
    "import pandas as pd # data processing, CSV file I/O (e.g. pd.read_csv)\n",
    "from sklearn.linear_model import RidgeCV, LinearRegression, LassoCV\n",
    "from scipy.stats import skew\n",
    "import matplotlib.pyplot as plt\n",
    "import seaborn as sns\n",
    "import scipy.stats as st\n",
    "from IPython.display import display, HTML\n",
    "import warnings\n",
    "warnings.filterwarnings('ignore')\n",
    "%matplotlib inline\n",
    "\n",
    "# Input data files are available in the \"../input/\" directory.\n",
    "# For example, running this (by clicking run or pressing Shift+Enter) will list the files in the input directory\n",
    "\n",
    "from subprocess import check_output\n",
    "# print(check_output([\"ls\", \"../input\"]).decode(\"utf8\"))\n",
    "pd.options.display.max_columns = 14\n",
    "train = pd.read_csv('train_2013.csv')\n",
    "test = pd.read_csv('test_2014.csv')\n",
    "submission = pd.read_csv('sampleSubmission.csv')\n",
    "# Any results you write to the current directory are saved as output."
   ]
  },
  {
   "cell_type": "code",
   "execution_count": null,
   "metadata": {
    "scrolled": false
   },
   "outputs": [],
   "source": [
    "pd.options.display.max_columns = 20\n",
    "train.tail()"
   ]
  },
  {
   "cell_type": "code",
   "execution_count": null,
   "metadata": {},
   "outputs": [],
   "source": [
    "test.head()"
   ]
  },
  {
   "cell_type": "code",
   "execution_count": null,
   "metadata": {},
   "outputs": [],
   "source": [
    "submission.head()"
   ]
  },
  {
   "cell_type": "code",
   "execution_count": null,
   "metadata": {},
   "outputs": [],
   "source": [
    "train.info()"
   ]
  },
  {
   "cell_type": "code",
   "execution_count": null,
   "metadata": {},
   "outputs": [],
   "source": [
    "train.describe()"
   ]
  },
  {
   "cell_type": "code",
   "execution_count": null,
   "metadata": {},
   "outputs": [],
   "source": [
    "train.shape"
   ]
  },
  {
   "cell_type": "code",
   "execution_count": null,
   "metadata": {},
   "outputs": [],
   "source": [
    "sns.distplot(train['Expected'].head(100))"
   ]
  },
  {
   "cell_type": "code",
   "execution_count": null,
   "metadata": {},
   "outputs": [],
   "source": [
    "train['Expected'].value_counts().sort_values(ascending=False)"
   ]
  },
  {
   "cell_type": "code",
   "execution_count": null,
   "metadata": {},
   "outputs": [],
   "source": [
    "print(train.shape)\n",
    "sum(train['Expected']>69)"
   ]
  },
  {
   "cell_type": "code",
   "execution_count": null,
   "metadata": {},
   "outputs": [],
   "source": [
    "train.isnull().any()"
   ]
  },
  {
   "cell_type": "code",
   "execution_count": null,
   "metadata": {
    "scrolled": true
   },
   "outputs": [],
   "source": [
    "test.isnull().any()"
   ]
  },
  {
   "cell_type": "code",
   "execution_count": null,
   "metadata": {
    "collapsed": true
   },
   "outputs": [],
   "source": [
    "train.drop(train.index[train['Expected']>69],axis = 0, inplace = True)"
   ]
  },
  {
   "cell_type": "code",
   "execution_count": null,
   "metadata": {
    "collapsed": true
   },
   "outputs": [],
   "source": [
    "train['Prediction'] = np.ceil(train['Expected'])\n",
    "train['Prediction'] = train['Prediction'].astype(np.int8)"
   ]
  },
  {
   "cell_type": "code",
   "execution_count": null,
   "metadata": {},
   "outputs": [],
   "source": [
    "pd.options.display.max_columns = 100\n",
    "train.head(n=40)"
   ]
  },
  {
   "cell_type": "code",
   "execution_count": null,
   "metadata": {
    "collapsed": true
   },
   "outputs": [],
   "source": [
    "# train['TimeToEnd1'] = train['TimeToEnd'].apply(lambda x:' '.\n",
    "#                                                join(list(map(lambda x: str(60.0-x),\n",
    "#                                                              list(map(float, x.split()))))))"
   ]
  },
  {
   "cell_type": "code",
   "execution_count": null,
   "metadata": {
    "collapsed": true
   },
   "outputs": [],
   "source": [
    "test['num_observation'] = test['TimeToEnd'].apply(lambda x:len(x.split()))"
   ]
  },
  {
   "cell_type": "code",
   "execution_count": null,
   "metadata": {},
   "outputs": [],
   "source": [
    "train['num_observation'] = train['TimeToEnd'].apply(lambda x:len(x.split()))\n",
    "train.head(n=1)"
   ]
  },
  {
   "cell_type": "markdown",
   "metadata": {},
   "source": [
    "#### Feature Engineering on features RR1, RR2, RR3"
   ]
  },
  {
   "cell_type": "code",
   "execution_count": null,
   "metadata": {
    "collapsed": true
   },
   "outputs": [],
   "source": [
    "train['RR1'] = train['RR1'].apply(lambda x:' '.join(list(map(str,list(map(lambda x:0 if x <0 else x, \n",
    "                                                             list(map(float, x.split()))))))))"
   ]
  },
  {
   "cell_type": "code",
   "execution_count": null,
   "metadata": {
    "collapsed": true
   },
   "outputs": [],
   "source": [
    "train['RR2'] = train['RR2'].apply(lambda x:' '.join(list(map(str,list(map(lambda x:0 if x <0 else x, \n",
    "                                                             list(map(float, x.split()))))))))"
   ]
  },
  {
   "cell_type": "code",
   "execution_count": null,
   "metadata": {
    "collapsed": true
   },
   "outputs": [],
   "source": [
    "train['RR3'] = train['RR3'].apply(lambda x:' '.join(list(map(str,list(map(lambda x:0 if x <0 else x, \n",
    "                                                             list(map(float, x.split()))))))))"
   ]
  },
  {
   "cell_type": "code",
   "execution_count": null,
   "metadata": {
    "collapsed": true
   },
   "outputs": [],
   "source": [
    "test['RR1'] = test['RR1'].apply(lambda x:' '.join(list(map(str,list(map(lambda x:0 if x <0 else x, \n",
    "                                                             list(map(float, x.split()))))))))"
   ]
  },
  {
   "cell_type": "code",
   "execution_count": null,
   "metadata": {
    "collapsed": true
   },
   "outputs": [],
   "source": [
    "test['RR2'] = test['RR2'].apply(lambda x:' '.join(list(map(str,list(map(lambda x:0 if x <0 else x, \n",
    "                                                             list(map(float, x.split()))))))))"
   ]
  },
  {
   "cell_type": "code",
   "execution_count": null,
   "metadata": {
    "collapsed": true
   },
   "outputs": [],
   "source": [
    "test['RR3'] = test['RR3'].apply(lambda x:' '.join(list(map(str,list(map(lambda x:0 if x <0 else x, \n",
    "                                                             list(map(float, x.split()))))))))"
   ]
  },
  {
   "cell_type": "code",
   "execution_count": null,
   "metadata": {
    "collapsed": true
   },
   "outputs": [],
   "source": [
    "train['RR1_mean'] = train['RR1'].apply(lambda x:np.mean(list(map(float, x.split()))))"
   ]
  },
  {
   "cell_type": "code",
   "execution_count": null,
   "metadata": {
    "collapsed": true
   },
   "outputs": [],
   "source": [
    "train['RR2_mean'] = train['RR2'].apply(lambda x:np.mean(list(map(float, x.split()))))"
   ]
  },
  {
   "cell_type": "code",
   "execution_count": null,
   "metadata": {
    "collapsed": true
   },
   "outputs": [],
   "source": [
    "train['RR3_mean'] = train['RR3'].apply(lambda x:np.mean(list(map(float, x.split()))))"
   ]
  },
  {
   "cell_type": "code",
   "execution_count": null,
   "metadata": {
    "collapsed": true
   },
   "outputs": [],
   "source": [
    "test['RR1_mean'] = test['RR1'].apply(lambda x:np.mean(list(map(float, x.split()))))"
   ]
  },
  {
   "cell_type": "code",
   "execution_count": null,
   "metadata": {
    "collapsed": true
   },
   "outputs": [],
   "source": [
    "test['RR2_mean'] = test['RR2'].apply(lambda x:np.mean(list(map(float, x.split()))))"
   ]
  },
  {
   "cell_type": "code",
   "execution_count": null,
   "metadata": {
    "collapsed": true
   },
   "outputs": [],
   "source": [
    "test['RR3_mean'] = test['RR3'].apply(lambda x:np.mean(list(map(float, x.split()))))"
   ]
  },
  {
   "cell_type": "code",
   "execution_count": null,
   "metadata": {
    "collapsed": true
   },
   "outputs": [],
   "source": [
    "train['RR_mean'] = (train['RR1_mean']+train['RR2_mean']+train['RR3_mean'])/3\n",
    "test['RR_mean'] = (test['RR1_mean'] + test['RR2_mean'] + test['RR3_mean'])/3"
   ]
  },
  {
   "cell_type": "code",
   "execution_count": null,
   "metadata": {
    "collapsed": true
   },
   "outputs": [],
   "source": [
    "train.drop(train.index[train['RR_mean']>300], inplace = True)"
   ]
  },
  {
   "cell_type": "code",
   "execution_count": null,
   "metadata": {},
   "outputs": [],
   "source": [
    "sns.set(rc={'figure.figsize':(13.7,6.27)})\n",
    "# sns.barplot(x = train['Prediction'], y = train['RR1_mean'])\n",
    "sns.distplot(train['Prediction'],bins = 1,hist = True)"
   ]
  },
  {
   "cell_type": "code",
   "execution_count": null,
   "metadata": {},
   "outputs": [],
   "source": [
    "sns.set(rc={'figure.figsize':(11.7,8.27)})\n",
    "sns.regplot(x = train['RR_mean'], y = train['Expected'], fit_reg = False)"
   ]
  },
  {
   "cell_type": "markdown",
   "metadata": {},
   "source": [
    "#### RadarQualityIndex"
   ]
  },
  {
   "cell_type": "code",
   "execution_count": null,
   "metadata": {
    "collapsed": true
   },
   "outputs": [],
   "source": [
    "test['RadarQualityIndex'] = test['RadarQualityIndex'].apply(lambda x:' '.join(list(map(str,list(map(lambda x:1 if x >1.0 else 0.0 if x<0.0 else x, \n",
    "                                                             list(map(float, x.split()))))))))"
   ]
  },
  {
   "cell_type": "code",
   "execution_count": null,
   "metadata": {
    "collapsed": true
   },
   "outputs": [],
   "source": [
    "train['RadarQualityIndex'] = train['RadarQualityIndex'].apply(lambda x:' '.join(list(map(str,list(map(lambda x:0 if x >1.0 else 0.0 if x<0.0 else x, \n",
    "                                                             list(map(float, x.split()))))))))"
   ]
  },
  {
   "cell_type": "code",
   "execution_count": null,
   "metadata": {
    "collapsed": true
   },
   "outputs": [],
   "source": [
    "train['RadarQualityIndex_mean'] = train['RadarQualityIndex'].apply(lambda x:np.mean(list(map(float, x.split()))))"
   ]
  },
  {
   "cell_type": "code",
   "execution_count": null,
   "metadata": {
    "collapsed": true
   },
   "outputs": [],
   "source": [
    "test['RadarQualityIndex_mean'] = test['RadarQualityIndex'].apply(lambda x:np.mean(list(map(float, x.split()))))"
   ]
  },
  {
   "cell_type": "code",
   "execution_count": null,
   "metadata": {},
   "outputs": [],
   "source": [
    "train.tail(n=40)"
   ]
  },
  {
   "cell_type": "code",
   "execution_count": null,
   "metadata": {},
   "outputs": [],
   "source": [
    "sns.regplot(x = train['RadarQualityIndex_mean'], y = train['Expected'], fit_reg = False)"
   ]
  },
  {
   "cell_type": "code",
   "execution_count": null,
   "metadata": {},
   "outputs": [],
   "source": [
    "g = sns.boxplot(x =train['Prediction'], y = train['RR1_mean'])\n",
    "g.set"
   ]
  },
  {
   "cell_type": "code",
   "execution_count": null,
   "metadata": {},
   "outputs": [],
   "source": [
    "sns.boxplot(x =train['Prediction'], y = train['RR_mean'])"
   ]
  },
  {
   "cell_type": "code",
   "execution_count": null,
   "metadata": {},
   "outputs": [],
   "source": [
    "pd.options.display.max_rows = 200\n",
    "train[['RR1_mean','RR_mean','Expected','num_observation','MassWeightedMean','TimeToEnd']].head(n = 100)"
   ]
  },
  {
   "cell_type": "code",
   "execution_count": null,
   "metadata": {
    "collapsed": true
   },
   "outputs": [],
   "source": [
    "# plt.scatter(x = train['RR3_mean'], y = train['Expected'])\n",
    "# plt.show()"
   ]
  },
  {
   "cell_type": "code",
   "execution_count": null,
   "metadata": {
    "collapsed": true
   },
   "outputs": [],
   "source": [
    "# corrmat = train[['Expected','RR1_mean', 'RR2_mean','RR3_mean']].corr()\n",
    "# display(corrmat)\n",
    "# corrmat.sort_values(\"Expected\",inplace = True, ascending = False)\n",
    "# sns.heatmap(corrmat, vmax=.8, square=True)"
   ]
  },
  {
   "cell_type": "markdown",
   "metadata": {},
   "source": [
    "#### LogWaterVolume"
   ]
  },
  {
   "cell_type": "code",
   "execution_count": null,
   "metadata": {
    "collapsed": true
   },
   "outputs": [],
   "source": [
    "train['LogWaterVolume'] = train['LogWaterVolume'].apply(lambda x:str(x))\n",
    "train['LogWaterVolume'] = train['LogWaterVolume'].apply(lambda x:' '.join(list(map(str, list\n",
    "                                                                          (map(lambda x:\n",
    "                                                                              0 if np.isnan(x) else x,\n",
    "                                                                              list(map(float, x.split()))))))))"
   ]
  },
  {
   "cell_type": "code",
   "execution_count": null,
   "metadata": {
    "collapsed": true
   },
   "outputs": [],
   "source": [
    "test['LogWaterVolume'] = test['LogWaterVolume'].apply(lambda x:str(x))\n",
    "test['LogWaterVolume'] = test['LogWaterVolume'].apply(lambda x:' '.join(list(map(str, list\n",
    "                                                                          (map(lambda x:\n",
    "                                                                               0 if np.isnan(x) else x,\n",
    "                                                                              list(map(float, x.split()))))))))"
   ]
  },
  {
   "cell_type": "code",
   "execution_count": null,
   "metadata": {
    "collapsed": true,
    "scrolled": true
   },
   "outputs": [],
   "source": [
    "train['LogWaterVolume_mean'] = train['LogWaterVolume'].apply(lambda x:(np.mean(list(map(float,\n",
    "                                                                                              x.split())))))"
   ]
  },
  {
   "cell_type": "code",
   "execution_count": 90,
   "metadata": {
    "collapsed": true
   },
   "outputs": [],
   "source": [
    "test['LogWaterVolume_mean'] = test['LogWaterVolume'].apply(lambda x:(np.mean(list(map(float, \n",
    "                                                                                            x.split())))))"
   ]
  },
  {
   "cell_type": "markdown",
   "metadata": {},
   "source": [
    "#### ReflectivityQC"
   ]
  },
  {
   "cell_type": "code",
   "execution_count": 49,
   "metadata": {
    "collapsed": true
   },
   "outputs": [],
   "source": [
    "train['ReflectivityQC'] = train['ReflectivityQC'].apply(\n",
    "    lambda x: ' '.join(map(str, list(map(lambda x:0 if x<0 else x, list(map(float, x.split())))))))"
   ]
  },
  {
   "cell_type": "code",
   "execution_count": 50,
   "metadata": {
    "collapsed": true
   },
   "outputs": [],
   "source": [
    "test['ReflectivityQC'] = test['ReflectivityQC'].apply(\n",
    "    lambda x: ' '.join(map(str, list(map(lambda x:0 if x<0 else x, list(map(float, x.split())))))))"
   ]
  },
  {
   "cell_type": "code",
   "execution_count": 51,
   "metadata": {
    "collapsed": true
   },
   "outputs": [],
   "source": [
    "train['ReflectivityQC_mean'] = train['ReflectivityQC'].apply(lambda x: np.mean(list(map(float, x.split()))))"
   ]
  },
  {
   "cell_type": "code",
   "execution_count": 52,
   "metadata": {
    "collapsed": true
   },
   "outputs": [],
   "source": [
    "test['ReflectivityQC_mean'] = test['ReflectivityQC'].apply(lambda x: np.mean(list(map(float, x.split()))))"
   ]
  },
  {
   "cell_type": "code",
   "execution_count": 53,
   "metadata": {},
   "outputs": [
    {
     "data": {
      "text/html": [
       "<div>\n",
       "<style>\n",
       "    .dataframe thead tr:only-child th {\n",
       "        text-align: right;\n",
       "    }\n",
       "\n",
       "    .dataframe thead th {\n",
       "        text-align: left;\n",
       "    }\n",
       "\n",
       "    .dataframe tbody tr th {\n",
       "        vertical-align: top;\n",
       "    }\n",
       "</style>\n",
       "<table border=\"1\" class=\"dataframe\">\n",
       "  <thead>\n",
       "    <tr style=\"text-align: right;\">\n",
       "      <th></th>\n",
       "      <th>Id</th>\n",
       "      <th>TimeToEnd</th>\n",
       "      <th>DistanceToRadar</th>\n",
       "      <th>Composite</th>\n",
       "      <th>HybridScan</th>\n",
       "      <th>HydrometeorType</th>\n",
       "      <th>Kdp</th>\n",
       "      <th>RR1</th>\n",
       "      <th>RR2</th>\n",
       "      <th>RR3</th>\n",
       "      <th>RadarQualityIndex</th>\n",
       "      <th>Reflectivity</th>\n",
       "      <th>ReflectivityQC</th>\n",
       "      <th>RhoHV</th>\n",
       "      <th>Velocity</th>\n",
       "      <th>Zdr</th>\n",
       "      <th>LogWaterVolume</th>\n",
       "      <th>MassWeightedMean</th>\n",
       "      <th>MassWeightedSD</th>\n",
       "      <th>Expected</th>\n",
       "      <th>Prediction</th>\n",
       "      <th>num_observation</th>\n",
       "      <th>RR1_mean</th>\n",
       "      <th>RR2_mean</th>\n",
       "      <th>RR3_mean</th>\n",
       "      <th>RR_mean</th>\n",
       "      <th>RadarQualityIndex_mean</th>\n",
       "      <th>LogWaterVolume_mean</th>\n",
       "      <th>ReflectivityQC_mean</th>\n",
       "    </tr>\n",
       "  </thead>\n",
       "  <tbody>\n",
       "    <tr>\n",
       "      <th>0</th>\n",
       "      <td>1</td>\n",
       "      <td>56.0 37.0 31.0 25.0 19.0 13.0 7.0 2.0</td>\n",
       "      <td>30.0 30.0 30.0 30.0 30.0 30.0 30.0 30.0</td>\n",
       "      <td>-99900.0 -99900.0 -99900.0 -99900.0 -99900.0 -...</td>\n",
       "      <td>-99900.0 -99900.0 -99900.0 -99900.0 -99900.0 -...</td>\n",
       "      <td>8.0 8.0 8.0 8.0 8.0 8.0 8.0 8.0</td>\n",
       "      <td>0.0 0.0 0.0 0.0 0.0 0.0 0.0 0.0</td>\n",
       "      <td>0.0 0.0 0.0 0.0 0.0 0.0 0.0 0.0</td>\n",
       "      <td>0 0 0 0 0 0 0 0</td>\n",
       "      <td>0 0 0 0 0 0 0 0</td>\n",
       "      <td>0.006246 0.0200476 0.0113924 0.217157 0.028566...</td>\n",
       "      <td>13.0 17.5 14.0 8.5 7.0 11.0 9.0 9.0</td>\n",
       "      <td>0 0 0 0 0 0 0 0</td>\n",
       "      <td>0.865 0.841667 0.765 0.985 0.768333 0.491667 0...</td>\n",
       "      <td>-99901.0 -99901.0 -99901.0 -99901.0 -99901.0 -...</td>\n",
       "      <td>7.9375 4.5 4.1875 5.5625 3.375 7.0625 5.3125 6...</td>\n",
       "      <td>-100000 -100000 -100000 -100000 -100000 -10000...</td>\n",
       "      <td>nan nan nan nan nan nan nan nan</td>\n",
       "      <td>nan nan nan nan nan nan nan nan</td>\n",
       "      <td>0.0</td>\n",
       "      <td>0</td>\n",
       "      <td>8</td>\n",
       "      <td>0.0</td>\n",
       "      <td>0.0</td>\n",
       "      <td>0.0</td>\n",
       "      <td>0.0</td>\n",
       "      <td>0.056994</td>\n",
       "      <td>0.0</td>\n",
       "      <td>0.0</td>\n",
       "    </tr>\n",
       "    <tr>\n",
       "      <th>1</th>\n",
       "      <td>2</td>\n",
       "      <td>58.0 48.0 38.0 29.0 19.0 9.0</td>\n",
       "      <td>77.0 77.0 77.0 77.0 77.0 77.0</td>\n",
       "      <td>-99900.0 -99900.0 -99900.0 -99900.0 -99900.0 -...</td>\n",
       "      <td>-99900.0 -99900.0 -99900.0 -99900.0 -99900.0 -...</td>\n",
       "      <td>8.0 8.0 8.0 8.0 8.0 8.0</td>\n",
       "      <td>0.0 0.0 0.0 0.0 0.0 0.0</td>\n",
       "      <td>0.0 0.0 0.0 0.0 0.0 0.0</td>\n",
       "      <td>0 0 0 0 0 0</td>\n",
       "      <td>0 0 0 0 0 0</td>\n",
       "      <td>0 0 0 0 0 0</td>\n",
       "      <td>15.0 18.5 10.5 3.0 0.5 -3.0</td>\n",
       "      <td>0 0 0 0 0 0</td>\n",
       "      <td>0.635 0.851667 0.891667 0.638333 0.791667 0.73...</td>\n",
       "      <td>-4.0 -3.0 -2.0 -0.5 -4.0 3.0</td>\n",
       "      <td>2.6875 3.0 2.375 6.25 3.125 6.0625</td>\n",
       "      <td>-100000 -100000 -100000 -100000 -100000 -100000</td>\n",
       "      <td>nan nan nan nan nan nan</td>\n",
       "      <td>nan nan nan nan nan nan</td>\n",
       "      <td>0.0</td>\n",
       "      <td>0</td>\n",
       "      <td>6</td>\n",
       "      <td>0.0</td>\n",
       "      <td>0.0</td>\n",
       "      <td>0.0</td>\n",
       "      <td>0.0</td>\n",
       "      <td>0.000000</td>\n",
       "      <td>0.0</td>\n",
       "      <td>0.0</td>\n",
       "    </tr>\n",
       "  </tbody>\n",
       "</table>\n",
       "</div>"
      ],
      "text/plain": [
       "   Id                              TimeToEnd  \\\n",
       "0   1  56.0 37.0 31.0 25.0 19.0 13.0 7.0 2.0   \n",
       "1   2           58.0 48.0 38.0 29.0 19.0 9.0   \n",
       "\n",
       "                           DistanceToRadar  \\\n",
       "0  30.0 30.0 30.0 30.0 30.0 30.0 30.0 30.0   \n",
       "1            77.0 77.0 77.0 77.0 77.0 77.0   \n",
       "\n",
       "                                           Composite  \\\n",
       "0  -99900.0 -99900.0 -99900.0 -99900.0 -99900.0 -...   \n",
       "1  -99900.0 -99900.0 -99900.0 -99900.0 -99900.0 -...   \n",
       "\n",
       "                                          HybridScan  \\\n",
       "0  -99900.0 -99900.0 -99900.0 -99900.0 -99900.0 -...   \n",
       "1  -99900.0 -99900.0 -99900.0 -99900.0 -99900.0 -...   \n",
       "\n",
       "                   HydrometeorType                              Kdp  \\\n",
       "0  8.0 8.0 8.0 8.0 8.0 8.0 8.0 8.0  0.0 0.0 0.0 0.0 0.0 0.0 0.0 0.0   \n",
       "1          8.0 8.0 8.0 8.0 8.0 8.0          0.0 0.0 0.0 0.0 0.0 0.0   \n",
       "\n",
       "                               RR1              RR2              RR3  \\\n",
       "0  0.0 0.0 0.0 0.0 0.0 0.0 0.0 0.0  0 0 0 0 0 0 0 0  0 0 0 0 0 0 0 0   \n",
       "1          0.0 0.0 0.0 0.0 0.0 0.0      0 0 0 0 0 0      0 0 0 0 0 0   \n",
       "\n",
       "                                   RadarQualityIndex  \\\n",
       "0  0.006246 0.0200476 0.0113924 0.217157 0.028566...   \n",
       "1                                        0 0 0 0 0 0   \n",
       "\n",
       "                          Reflectivity   ReflectivityQC  \\\n",
       "0  13.0 17.5 14.0 8.5 7.0 11.0 9.0 9.0  0 0 0 0 0 0 0 0   \n",
       "1          15.0 18.5 10.5 3.0 0.5 -3.0      0 0 0 0 0 0   \n",
       "\n",
       "                                               RhoHV  \\\n",
       "0  0.865 0.841667 0.765 0.985 0.768333 0.491667 0...   \n",
       "1  0.635 0.851667 0.891667 0.638333 0.791667 0.73...   \n",
       "\n",
       "                                            Velocity  \\\n",
       "0  -99901.0 -99901.0 -99901.0 -99901.0 -99901.0 -...   \n",
       "1                       -4.0 -3.0 -2.0 -0.5 -4.0 3.0   \n",
       "\n",
       "                                                 Zdr  \\\n",
       "0  7.9375 4.5 4.1875 5.5625 3.375 7.0625 5.3125 6...   \n",
       "1                 2.6875 3.0 2.375 6.25 3.125 6.0625   \n",
       "\n",
       "                                      LogWaterVolume  \\\n",
       "0  -100000 -100000 -100000 -100000 -100000 -10000...   \n",
       "1    -100000 -100000 -100000 -100000 -100000 -100000   \n",
       "\n",
       "                  MassWeightedMean                   MassWeightedSD  Expected  \\\n",
       "0  nan nan nan nan nan nan nan nan  nan nan nan nan nan nan nan nan       0.0   \n",
       "1          nan nan nan nan nan nan          nan nan nan nan nan nan       0.0   \n",
       "\n",
       "   Prediction  num_observation  RR1_mean  RR2_mean  RR3_mean  RR_mean  \\\n",
       "0           0                8       0.0       0.0       0.0      0.0   \n",
       "1           0                6       0.0       0.0       0.0      0.0   \n",
       "\n",
       "   RadarQualityIndex_mean  LogWaterVolume_mean  ReflectivityQC_mean  \n",
       "0                0.056994                  0.0                  0.0  \n",
       "1                0.000000                  0.0                  0.0  "
      ]
     },
     "execution_count": 53,
     "metadata": {},
     "output_type": "execute_result"
    }
   ],
   "source": [
    "train.head(n = 2)"
   ]
  },
  {
   "cell_type": "code",
   "execution_count": 92,
   "metadata": {},
   "outputs": [
    {
     "data": {
      "text/plain": [
       "<matplotlib.axes._subplots.AxesSubplot at 0x7f991bf69b00>"
      ]
     },
     "execution_count": 92,
     "metadata": {},
     "output_type": "execute_result"
    },
    {
     "data": {
      "image/png": "[encoded data removed]",
      "text/plain": [
       "<matplotlib.figure.Figure at 0x7f991c940978>"
      ]
     },
     "metadata": {},
     "output_type": "display_data"
    }
   ],
   "source": [
    "sns.boxplot( y = train['LogWaterVolume_mean'], x = train['Prediction'])"
   ]
  },
  {
   "cell_type": "markdown",
   "metadata": {},
   "source": [
    "#### Removing Outliers"
   ]
  },
  {
   "cell_type": "code",
   "execution_count": 55,
   "metadata": {
    "collapsed": true
   },
   "outputs": [],
   "source": [
    "# Removing Outlier in Logwater_mean\n",
    "train.drop(train.index[train['LogWaterVolume_mean']>0.0075], inplace =True)"
   ]
  },
  {
   "cell_type": "code",
   "execution_count": 56,
   "metadata": {},
   "outputs": [
    {
     "data": {
      "text/plain": [
       "0.000000e+00    1081231\n",
       "9.788135e-07         35\n",
       "7.264895e-07         31\n",
       "9.418848e-07         30\n",
       "1.198357e-06         29\n",
       "1.299869e-06         29\n",
       "8.175407e-07         29\n",
       "6.843190e-07         28\n",
       "5.161168e-07         27\n",
       "5.825364e-07         27\n",
       "2.758016e-06         25\n",
       "2.146298e-06         25\n",
       "1.210380e-06         24\n",
       "4.498752e-07         24\n",
       "1.308902e-06         24\n",
       "1.171766e-06         23\n",
       "1.640566e-06         23\n",
       "7.846749e-07         22\n",
       "3.844792e-06         22\n",
       "3.561261e-06         21\n",
       "9.252720e-07         21\n",
       "8.264902e-07         21\n",
       "2.030234e-06         20\n",
       "4.085281e-07         20\n",
       "7.636151e-07         20\n",
       "2.423092e-06         20\n",
       "4.116570e-06         20\n",
       "2.674971e-06         20\n",
       "1.899398e-06         20\n",
       "1.002091e-06         19\n",
       "                 ...   \n",
       "8.438829e-07          1\n",
       "7.267793e-06          1\n",
       "9.862263e-06          1\n",
       "8.588737e-06          1\n",
       "9.410893e-06          1\n",
       "3.298207e-05          1\n",
       "7.743883e-07          1\n",
       "2.267390e-05          1\n",
       "2.662681e-06          1\n",
       "3.336476e-05          1\n",
       "4.336412e-06          1\n",
       "5.098235e-05          1\n",
       "6.212804e-07          1\n",
       "2.127185e-05          1\n",
       "1.238827e-06          1\n",
       "8.831992e-07          1\n",
       "1.088319e-07          1\n",
       "1.111110e-05          1\n",
       "4.410005e-06          1\n",
       "1.869740e-06          1\n",
       "6.276931e-06          1\n",
       "8.836917e-06          1\n",
       "1.132681e-04          1\n",
       "1.246561e-05          1\n",
       "1.894060e-06          1\n",
       "3.201397e-05          1\n",
       "1.158514e-05          1\n",
       "1.575251e-06          1\n",
       "3.413353e-05          1\n",
       "6.244528e-06          1\n",
       "Name: LogWaterVolume_mean, Length: 34194, dtype: int64"
      ]
     },
     "execution_count": 56,
     "metadata": {},
     "output_type": "execute_result"
    }
   ],
   "source": [
    "train['LogWaterVolume_mean'].value_counts()"
   ]
  },
  {
   "cell_type": "code",
   "execution_count": 57,
   "metadata": {},
   "outputs": [
    {
     "data": {
      "text/plain": [
       "<matplotlib.axes._subplots.AxesSubplot at 0x7f994a1486a0>"
      ]
     },
     "execution_count": 57,
     "metadata": {},
     "output_type": "execute_result"
    },
    {
     "data": {
      "image/png": "[encoded data removed]",
      "text/plain": [
       "<matplotlib.figure.Figure at 0x7f99e248c400>"
      ]
     },
     "metadata": {},
     "output_type": "display_data"
    }
   ],
   "source": [
    "sns.regplot(x = train['LogWaterVolume_mean'], y = train['Expected'], fit_reg=False)"
   ]
  },
  {
   "cell_type": "markdown",
   "metadata": {},
   "source": [
    "### Preparing Training and Test Data"
   ]
  },
  {
   "cell_type": "code",
   "execution_count": 57,
   "metadata": {},
   "outputs": [
    {
     "data": {
      "text/plain": [
       "(1121083, 8)"
      ]
     },
     "execution_count": 57,
     "metadata": {},
     "output_type": "execute_result"
    }
   ],
   "source": [
    "X = train[['RadarQualityIndex_mean','LogWaterVolume_mean', 'RR_mean'\n",
    "           ,'ReflectivityQC_mean','num_observation']]\n",
    "X.shape"
   ]
  },
  {
   "cell_type": "code",
   "execution_count": 58,
   "metadata": {},
   "outputs": [
    {
     "data": {
      "text/plain": [
       "0     0\n",
       "1     0\n",
       "2     0\n",
       "3     0\n",
       "4     0\n",
       "5     0\n",
       "6     0\n",
       "7     6\n",
       "8     0\n",
       "9     0\n",
       "10    2\n",
       "11    0\n",
       "12    0\n",
       "13    0\n",
       "14    0\n",
       "15    0\n",
       "16    0\n",
       "17    0\n",
       "18    0\n",
       "19    0\n",
       "Name: Prediction, dtype: int8"
      ]
     },
     "execution_count": 58,
     "metadata": {},
     "output_type": "execute_result"
    }
   ],
   "source": [
    "y = train['Prediction']\n",
    "y.head(n=20)"
   ]
  },
  {
   "cell_type": "code",
   "execution_count": 59,
   "metadata": {},
   "outputs": [
    {
     "data": {
      "text/plain": [
       "Id                        False\n",
       "TimeToEnd                 False\n",
       "DistanceToRadar           False\n",
       "Composite                 False\n",
       "HybridScan                False\n",
       "HydrometeorType           False\n",
       "Kdp                       False\n",
       "RR1                       False\n",
       "RR2                       False\n",
       "RR3                       False\n",
       "RadarQualityIndex         False\n",
       "Reflectivity              False\n",
       "ReflectivityQC            False\n",
       "RhoHV                     False\n",
       "Velocity                  False\n",
       "Zdr                       False\n",
       "LogWaterVolume            False\n",
       "MassWeightedMean           True\n",
       "MassWeightedSD             True\n",
       "num_observation           False\n",
       "RR1_mean                  False\n",
       "RR2_mean                  False\n",
       "RR3_mean                  False\n",
       "RR_mean                   False\n",
       "RadarQualityIndex_mean    False\n",
       "LogWaterVolume_mean       False\n",
       "ReflectivityQC_mean       False\n",
       "dtype: bool"
      ]
     },
     "execution_count": 59,
     "metadata": {},
     "output_type": "execute_result"
    }
   ],
   "source": [
    "test.isnull().any()"
   ]
  },
  {
   "cell_type": "code",
   "execution_count": 60,
   "metadata": {},
   "outputs": [
    {
     "data": {
      "text/plain": [
       "Id                        False\n",
       "TimeToEnd                 False\n",
       "DistanceToRadar           False\n",
       "Composite                 False\n",
       "HybridScan                False\n",
       "HydrometeorType           False\n",
       "Kdp                       False\n",
       "RR1                       False\n",
       "RR2                       False\n",
       "RR3                       False\n",
       "RadarQualityIndex         False\n",
       "Reflectivity              False\n",
       "ReflectivityQC            False\n",
       "RhoHV                     False\n",
       "Velocity                  False\n",
       "Zdr                       False\n",
       "LogWaterVolume            False\n",
       "MassWeightedMean           True\n",
       "MassWeightedSD             True\n",
       "Expected                  False\n",
       "Prediction                False\n",
       "num_observation           False\n",
       "RR1_mean                  False\n",
       "RR2_mean                  False\n",
       "RR3_mean                  False\n",
       "RR_mean                   False\n",
       "RadarQualityIndex_mean    False\n",
       "LogWaterVolume_mean       False\n",
       "ReflectivityQC_mean       False\n",
       "dtype: bool"
      ]
     },
     "execution_count": 60,
     "metadata": {},
     "output_type": "execute_result"
    }
   ],
   "source": [
    "train.isnull().any()"
   ]
  },
  {
   "cell_type": "code",
   "execution_count": 61,
   "metadata": {},
   "outputs": [
    {
     "data": {
      "text/html": [
       "<div>\n",
       "<style>\n",
       "    .dataframe thead tr:only-child th {\n",
       "        text-align: right;\n",
       "    }\n",
       "\n",
       "    .dataframe thead th {\n",
       "        text-align: left;\n",
       "    }\n",
       "\n",
       "    .dataframe tbody tr th {\n",
       "        vertical-align: top;\n",
       "    }\n",
       "</style>\n",
       "<table border=\"1\" class=\"dataframe\">\n",
       "  <thead>\n",
       "    <tr style=\"text-align: right;\">\n",
       "      <th></th>\n",
       "      <th>RR1_mean</th>\n",
       "      <th>RR2_mean</th>\n",
       "      <th>RR3_mean</th>\n",
       "      <th>RadarQualityIndex_mean</th>\n",
       "      <th>LogWaterVolume_mean</th>\n",
       "      <th>RR_mean</th>\n",
       "      <th>ReflectivityQC_mean</th>\n",
       "      <th>num_observation</th>\n",
       "    </tr>\n",
       "  </thead>\n",
       "  <tbody>\n",
       "    <tr>\n",
       "      <th>0</th>\n",
       "      <td>0.029185</td>\n",
       "      <td>0.030598</td>\n",
       "      <td>0.011673</td>\n",
       "      <td>0.838384</td>\n",
       "      <td>0.0</td>\n",
       "      <td>0.071456</td>\n",
       "      <td>12.404762</td>\n",
       "      <td>21</td>\n",
       "    </tr>\n",
       "    <tr>\n",
       "      <th>1</th>\n",
       "      <td>0.000000</td>\n",
       "      <td>0.000000</td>\n",
       "      <td>0.000000</td>\n",
       "      <td>1.000000</td>\n",
       "      <td>0.0</td>\n",
       "      <td>0.000000</td>\n",
       "      <td>0.000000</td>\n",
       "      <td>1</td>\n",
       "    </tr>\n",
       "  </tbody>\n",
       "</table>\n",
       "</div>"
      ],
      "text/plain": [
       "   RR1_mean  RR2_mean  RR3_mean  RadarQualityIndex_mean  LogWaterVolume_mean  \\\n",
       "0  0.029185  0.030598  0.011673                0.838384                  0.0   \n",
       "1  0.000000  0.000000  0.000000                1.000000                  0.0   \n",
       "\n",
       "    RR_mean  ReflectivityQC_mean  num_observation  \n",
       "0  0.071456            12.404762               21  \n",
       "1  0.000000             0.000000                1  "
      ]
     },
     "execution_count": 61,
     "metadata": {},
     "output_type": "execute_result"
    }
   ],
   "source": [
    "Test = test[['RR1_mean','RR2_mean','RR3_mean','RadarQualityIndex_mean','LogWaterVolume_mean', 'RR_mean'\n",
    "           ,'ReflectivityQC_mean','num_observation']]\n",
    "Test.head(n=2)"
   ]
  },
  {
   "cell_type": "markdown",
   "metadata": {},
   "source": [
    "### Training Model"
   ]
  },
  {
   "cell_type": "code",
   "execution_count": 62,
   "metadata": {},
   "outputs": [
    {
     "data": {
      "text/plain": [
       "XGBClassifier(base_score=0.5, booster='gbtree', colsample_bylevel=1,\n",
       "       colsample_bytree=1, gamma=0, learning_rate=0.1, max_delta_step=0,\n",
       "       max_depth=3, min_child_weight=1, missing=None, n_estimators=100,\n",
       "       n_jobs=1, nthread=None, objective='multi:softprob', random_state=0,\n",
       "       reg_alpha=0, reg_lambda=1, scale_pos_weight=1, seed=None,\n",
       "       silent=True, subsample=1)"
      ]
     },
     "execution_count": 62,
     "metadata": {},
     "output_type": "execute_result"
    }
   ],
   "source": [
    "from sklearn.linear_model import LogisticRegression,SGDClassifier\n",
    "from sklearn import ensemble\n",
    "import xgboost as xgb\n",
    "from sklearn.svm import SVC\n",
    "xg = xgb.XGBClassifier()\n",
    "xg.fit(X, y)"
   ]
  },
  {
   "cell_type": "code",
   "execution_count": 63,
   "metadata": {},
   "outputs": [
    {
     "name": "stdout",
     "output_type": "stream",
     "text": [
      "0.883677658122\n"
     ]
    }
   ],
   "source": [
    "print(xg.score(X,y))"
   ]
  },
  {
   "cell_type": "code",
   "execution_count": 64,
   "metadata": {},
   "outputs": [
    {
     "name": "stdout",
     "output_type": "stream",
     "text": [
      "(630452, 69)\n",
      "(1121083,)\n",
      "(630452, 27)\n"
     ]
    }
   ],
   "source": [
    "output = xg.predict_proba(Test)\n",
    "print(output.shape)\n",
    "print(y.shape)\n",
    "print(test.shape)"
   ]
  },
  {
   "cell_type": "code",
   "execution_count": 65,
   "metadata": {
    "scrolled": true
   },
   "outputs": [
    {
     "data": {
      "text/html": [
       "<div>\n",
       "<style>\n",
       "    .dataframe thead tr:only-child th {\n",
       "        text-align: right;\n",
       "    }\n",
       "\n",
       "    .dataframe thead th {\n",
       "        text-align: left;\n",
       "    }\n",
       "\n",
       "    .dataframe tbody tr th {\n",
       "        vertical-align: top;\n",
       "    }\n",
       "</style>\n",
       "<table border=\"1\" class=\"dataframe\">\n",
       "  <thead>\n",
       "    <tr style=\"text-align: right;\">\n",
       "      <th></th>\n",
       "      <th>Predicted0</th>\n",
       "      <th>Predicted1</th>\n",
       "      <th>Predicted2</th>\n",
       "      <th>Predicted3</th>\n",
       "      <th>Predicted4</th>\n",
       "      <th>Predicted5</th>\n",
       "      <th>Predicted6</th>\n",
       "      <th>Predicted7</th>\n",
       "      <th>Predicted8</th>\n",
       "      <th>Predicted9</th>\n",
       "      <th>Predicted10</th>\n",
       "      <th>Predicted11</th>\n",
       "      <th>Predicted12</th>\n",
       "      <th>Predicted13</th>\n",
       "      <th>Predicted14</th>\n",
       "      <th>Predicted15</th>\n",
       "      <th>Predicted16</th>\n",
       "      <th>Predicted17</th>\n",
       "      <th>Predicted18</th>\n",
       "      <th>Predicted19</th>\n",
       "      <th>Predicted20</th>\n",
       "      <th>Predicted21</th>\n",
       "      <th>Predicted22</th>\n",
       "      <th>Predicted23</th>\n",
       "      <th>Predicted24</th>\n",
       "      <th>Predicted25</th>\n",
       "      <th>Predicted26</th>\n",
       "      <th>Predicted27</th>\n",
       "      <th>Predicted28</th>\n",
       "      <th>Predicted29</th>\n",
       "      <th>Predicted30</th>\n",
       "      <th>Predicted31</th>\n",
       "      <th>Predicted32</th>\n",
       "      <th>Predicted33</th>\n",
       "      <th>Predicted34</th>\n",
       "      <th>Predicted35</th>\n",
       "      <th>Predicted36</th>\n",
       "      <th>Predicted37</th>\n",
       "      <th>Predicted38</th>\n",
       "      <th>Predicted39</th>\n",
       "      <th>Predicted40</th>\n",
       "      <th>Predicted41</th>\n",
       "      <th>Predicted42</th>\n",
       "      <th>Predicted43</th>\n",
       "      <th>Predicted44</th>\n",
       "      <th>Predicted45</th>\n",
       "      <th>Predicted46</th>\n",
       "      <th>Predicted47</th>\n",
       "      <th>Predicted48</th>\n",
       "      <th>Predicted49</th>\n",
       "      <th>Predicted50</th>\n",
       "      <th>Predicted51</th>\n",
       "      <th>Predicted52</th>\n",
       "      <th>Predicted53</th>\n",
       "      <th>Predicted54</th>\n",
       "      <th>Predicted55</th>\n",
       "      <th>Predicted56</th>\n",
       "      <th>Predicted57</th>\n",
       "      <th>Predicted58</th>\n",
       "      <th>Predicted59</th>\n",
       "      <th>Predicted60</th>\n",
       "      <th>Predicted61</th>\n",
       "      <th>Predicted62</th>\n",
       "      <th>Predicted63</th>\n",
       "      <th>Predicted64</th>\n",
       "      <th>Predicted65</th>\n",
       "      <th>Predicted66</th>\n",
       "      <th>Predicted67</th>\n",
       "      <th>Predicted68</th>\n",
       "    </tr>\n",
       "  </thead>\n",
       "  <tbody>\n",
       "    <tr>\n",
       "      <th>630451</th>\n",
       "      <td>0.990308</td>\n",
       "      <td>0.996767</td>\n",
       "      <td>0.997323</td>\n",
       "      <td>0.99763</td>\n",
       "      <td>0.997847</td>\n",
       "      <td>0.998094</td>\n",
       "      <td>0.998281</td>\n",
       "      <td>0.998422</td>\n",
       "      <td>0.998509</td>\n",
       "      <td>0.998557</td>\n",
       "      <td>0.998599</td>\n",
       "      <td>0.998628</td>\n",
       "      <td>0.998659</td>\n",
       "      <td>0.99869</td>\n",
       "      <td>0.998794</td>\n",
       "      <td>0.998826</td>\n",
       "      <td>0.998852</td>\n",
       "      <td>0.998872</td>\n",
       "      <td>0.998893</td>\n",
       "      <td>0.998918</td>\n",
       "      <td>0.998932</td>\n",
       "      <td>0.998949</td>\n",
       "      <td>0.998964</td>\n",
       "      <td>0.99898</td>\n",
       "      <td>0.999102</td>\n",
       "      <td>0.99912</td>\n",
       "      <td>0.999139</td>\n",
       "      <td>0.999153</td>\n",
       "      <td>0.999186</td>\n",
       "      <td>0.999221</td>\n",
       "      <td>0.999234</td>\n",
       "      <td>0.99925</td>\n",
       "      <td>0.999263</td>\n",
       "      <td>0.999275</td>\n",
       "      <td>0.999299</td>\n",
       "      <td>0.999312</td>\n",
       "      <td>0.999358</td>\n",
       "      <td>0.999377</td>\n",
       "      <td>0.999392</td>\n",
       "      <td>0.99942</td>\n",
       "      <td>0.999438</td>\n",
       "      <td>0.999452</td>\n",
       "      <td>0.999464</td>\n",
       "      <td>0.999489</td>\n",
       "      <td>0.999507</td>\n",
       "      <td>0.999518</td>\n",
       "      <td>0.99953</td>\n",
       "      <td>0.999542</td>\n",
       "      <td>0.999656</td>\n",
       "      <td>0.999669</td>\n",
       "      <td>0.999681</td>\n",
       "      <td>0.999693</td>\n",
       "      <td>0.999705</td>\n",
       "      <td>0.999716</td>\n",
       "      <td>0.999728</td>\n",
       "      <td>0.99974</td>\n",
       "      <td>0.999752</td>\n",
       "      <td>0.99987</td>\n",
       "      <td>0.999882</td>\n",
       "      <td>0.999893</td>\n",
       "      <td>0.999905</td>\n",
       "      <td>0.999919</td>\n",
       "      <td>0.99993</td>\n",
       "      <td>0.999942</td>\n",
       "      <td>0.999954</td>\n",
       "      <td>0.999965</td>\n",
       "      <td>0.999977</td>\n",
       "      <td>0.999988</td>\n",
       "      <td>1.0</td>\n",
       "    </tr>\n",
       "  </tbody>\n",
       "</table>\n",
       "</div>"
      ],
      "text/plain": [
       "        Predicted0  Predicted1  Predicted2  Predicted3  Predicted4  \\\n",
       "630451    0.990308    0.996767    0.997323     0.99763    0.997847   \n",
       "\n",
       "        Predicted5  Predicted6  Predicted7  Predicted8  Predicted9  \\\n",
       "630451    0.998094    0.998281    0.998422    0.998509    0.998557   \n",
       "\n",
       "        Predicted10  Predicted11  Predicted12  Predicted13  Predicted14  \\\n",
       "630451     0.998599     0.998628     0.998659      0.99869     0.998794   \n",
       "\n",
       "        Predicted15  Predicted16  Predicted17  Predicted18  Predicted19  \\\n",
       "630451     0.998826     0.998852     0.998872     0.998893     0.998918   \n",
       "\n",
       "        Predicted20  Predicted21  Predicted22  Predicted23  Predicted24  \\\n",
       "630451     0.998932     0.998949     0.998964      0.99898     0.999102   \n",
       "\n",
       "        Predicted25  Predicted26  Predicted27  Predicted28  Predicted29  \\\n",
       "630451      0.99912     0.999139     0.999153     0.999186     0.999221   \n",
       "\n",
       "        Predicted30  Predicted31  Predicted32  Predicted33  Predicted34  \\\n",
       "630451     0.999234      0.99925     0.999263     0.999275     0.999299   \n",
       "\n",
       "        Predicted35  Predicted36  Predicted37  Predicted38  Predicted39  \\\n",
       "630451     0.999312     0.999358     0.999377     0.999392      0.99942   \n",
       "\n",
       "        Predicted40  Predicted41  Predicted42  Predicted43  Predicted44  \\\n",
       "630451     0.999438     0.999452     0.999464     0.999489     0.999507   \n",
       "\n",
       "        Predicted45  Predicted46  Predicted47  Predicted48  Predicted49  \\\n",
       "630451     0.999518      0.99953     0.999542     0.999656     0.999669   \n",
       "\n",
       "        Predicted50  Predicted51  Predicted52  Predicted53  Predicted54  \\\n",
       "630451     0.999681     0.999693     0.999705     0.999716     0.999728   \n",
       "\n",
       "        Predicted55  Predicted56  Predicted57  Predicted58  Predicted59  \\\n",
       "630451      0.99974     0.999752      0.99987     0.999882     0.999893   \n",
       "\n",
       "        Predicted60  Predicted61  Predicted62  Predicted63  Predicted64  \\\n",
       "630451     0.999905     0.999919      0.99993     0.999942     0.999954   \n",
       "\n",
       "        Predicted65  Predicted66  Predicted67  Predicted68  \n",
       "630451     0.999965     0.999977     0.999988          1.0  "
      ]
     },
     "metadata": {},
     "output_type": "display_data"
    }
   ],
   "source": [
    "output1 = (pd.DataFrame(output)).copy()\n",
    "s= 'Predicted'\n",
    "col = []\n",
    "for i in range(0,69):\n",
    "    col.append(s+str(i))\n",
    "output1.columns = col\n",
    "for i in range(1,69):\n",
    "    output1[s+str(i)] += output1[s+str(i-1)]\n",
    "display(output1.tail(n =1))\n",
    "# print(output)"
   ]
  },
  {
   "cell_type": "code",
   "execution_count": 66,
   "metadata": {
    "collapsed": true
   },
   "outputs": [],
   "source": [
    "output1['Predicted69'] = output1['Predicted68']"
   ]
  },
  {
   "cell_type": "code",
   "execution_count": 67,
   "metadata": {
    "collapsed": true
   },
   "outputs": [],
   "source": [
    "output1['Predicted68'] = output1['Predicted67']"
   ]
  },
  {
   "cell_type": "code",
   "execution_count": 68,
   "metadata": {},
   "outputs": [
    {
     "data": {
      "text/html": [
       "<div>\n",
       "<style>\n",
       "    .dataframe thead tr:only-child th {\n",
       "        text-align: right;\n",
       "    }\n",
       "\n",
       "    .dataframe thead th {\n",
       "        text-align: left;\n",
       "    }\n",
       "\n",
       "    .dataframe tbody tr th {\n",
       "        vertical-align: top;\n",
       "    }\n",
       "</style>\n",
       "<table border=\"1\" class=\"dataframe\">\n",
       "  <thead>\n",
       "    <tr style=\"text-align: right;\">\n",
       "      <th></th>\n",
       "      <th>Predicted0</th>\n",
       "      <th>Predicted1</th>\n",
       "      <th>Predicted2</th>\n",
       "      <th>Predicted3</th>\n",
       "      <th>Predicted4</th>\n",
       "      <th>Predicted5</th>\n",
       "      <th>Predicted6</th>\n",
       "      <th>Predicted7</th>\n",
       "      <th>Predicted8</th>\n",
       "      <th>Predicted9</th>\n",
       "      <th>Predicted10</th>\n",
       "      <th>Predicted11</th>\n",
       "      <th>Predicted12</th>\n",
       "      <th>Predicted13</th>\n",
       "      <th>Predicted14</th>\n",
       "      <th>Predicted15</th>\n",
       "      <th>Predicted16</th>\n",
       "      <th>Predicted17</th>\n",
       "      <th>Predicted18</th>\n",
       "      <th>Predicted19</th>\n",
       "      <th>Predicted20</th>\n",
       "      <th>Predicted21</th>\n",
       "      <th>Predicted22</th>\n",
       "      <th>Predicted23</th>\n",
       "      <th>Predicted24</th>\n",
       "      <th>Predicted25</th>\n",
       "      <th>Predicted26</th>\n",
       "      <th>Predicted27</th>\n",
       "      <th>Predicted28</th>\n",
       "      <th>Predicted29</th>\n",
       "      <th>Predicted30</th>\n",
       "      <th>Predicted31</th>\n",
       "      <th>Predicted32</th>\n",
       "      <th>Predicted33</th>\n",
       "      <th>Predicted34</th>\n",
       "      <th>Predicted35</th>\n",
       "      <th>Predicted36</th>\n",
       "      <th>Predicted37</th>\n",
       "      <th>Predicted38</th>\n",
       "      <th>Predicted39</th>\n",
       "      <th>Predicted40</th>\n",
       "      <th>Predicted41</th>\n",
       "      <th>Predicted42</th>\n",
       "      <th>Predicted43</th>\n",
       "      <th>Predicted44</th>\n",
       "      <th>Predicted45</th>\n",
       "      <th>Predicted46</th>\n",
       "      <th>Predicted47</th>\n",
       "      <th>Predicted48</th>\n",
       "      <th>Predicted49</th>\n",
       "      <th>Predicted50</th>\n",
       "      <th>Predicted51</th>\n",
       "      <th>Predicted52</th>\n",
       "      <th>Predicted53</th>\n",
       "      <th>Predicted54</th>\n",
       "      <th>Predicted55</th>\n",
       "      <th>Predicted56</th>\n",
       "      <th>Predicted57</th>\n",
       "      <th>Predicted58</th>\n",
       "      <th>Predicted59</th>\n",
       "      <th>Predicted60</th>\n",
       "      <th>Predicted61</th>\n",
       "      <th>Predicted62</th>\n",
       "      <th>Predicted63</th>\n",
       "      <th>Predicted64</th>\n",
       "      <th>Predicted65</th>\n",
       "      <th>Predicted66</th>\n",
       "      <th>Predicted67</th>\n",
       "      <th>Predicted68</th>\n",
       "      <th>Predicted69</th>\n",
       "    </tr>\n",
       "  </thead>\n",
       "  <tbody>\n",
       "    <tr>\n",
       "      <th>630451</th>\n",
       "      <td>0.990308</td>\n",
       "      <td>0.996767</td>\n",
       "      <td>0.997323</td>\n",
       "      <td>0.99763</td>\n",
       "      <td>0.997847</td>\n",
       "      <td>0.998094</td>\n",
       "      <td>0.998281</td>\n",
       "      <td>0.998422</td>\n",
       "      <td>0.998509</td>\n",
       "      <td>0.998557</td>\n",
       "      <td>0.998599</td>\n",
       "      <td>0.998628</td>\n",
       "      <td>0.998659</td>\n",
       "      <td>0.99869</td>\n",
       "      <td>0.998794</td>\n",
       "      <td>0.998826</td>\n",
       "      <td>0.998852</td>\n",
       "      <td>0.998872</td>\n",
       "      <td>0.998893</td>\n",
       "      <td>0.998918</td>\n",
       "      <td>0.998932</td>\n",
       "      <td>0.998949</td>\n",
       "      <td>0.998964</td>\n",
       "      <td>0.99898</td>\n",
       "      <td>0.999102</td>\n",
       "      <td>0.99912</td>\n",
       "      <td>0.999139</td>\n",
       "      <td>0.999153</td>\n",
       "      <td>0.999186</td>\n",
       "      <td>0.999221</td>\n",
       "      <td>0.999234</td>\n",
       "      <td>0.99925</td>\n",
       "      <td>0.999263</td>\n",
       "      <td>0.999275</td>\n",
       "      <td>0.999299</td>\n",
       "      <td>0.999312</td>\n",
       "      <td>0.999358</td>\n",
       "      <td>0.999377</td>\n",
       "      <td>0.999392</td>\n",
       "      <td>0.99942</td>\n",
       "      <td>0.999438</td>\n",
       "      <td>0.999452</td>\n",
       "      <td>0.999464</td>\n",
       "      <td>0.999489</td>\n",
       "      <td>0.999507</td>\n",
       "      <td>0.999518</td>\n",
       "      <td>0.99953</td>\n",
       "      <td>0.999542</td>\n",
       "      <td>0.999656</td>\n",
       "      <td>0.999669</td>\n",
       "      <td>0.999681</td>\n",
       "      <td>0.999693</td>\n",
       "      <td>0.999705</td>\n",
       "      <td>0.999716</td>\n",
       "      <td>0.999728</td>\n",
       "      <td>0.99974</td>\n",
       "      <td>0.999752</td>\n",
       "      <td>0.99987</td>\n",
       "      <td>0.999882</td>\n",
       "      <td>0.999893</td>\n",
       "      <td>0.999905</td>\n",
       "      <td>0.999919</td>\n",
       "      <td>0.99993</td>\n",
       "      <td>0.999942</td>\n",
       "      <td>0.999954</td>\n",
       "      <td>0.999965</td>\n",
       "      <td>0.999977</td>\n",
       "      <td>0.999988</td>\n",
       "      <td>0.999988</td>\n",
       "      <td>1.0</td>\n",
       "    </tr>\n",
       "  </tbody>\n",
       "</table>\n",
       "</div>"
      ],
      "text/plain": [
       "        Predicted0  Predicted1  Predicted2  Predicted3  Predicted4  \\\n",
       "630451    0.990308    0.996767    0.997323     0.99763    0.997847   \n",
       "\n",
       "        Predicted5  Predicted6  Predicted7  Predicted8  Predicted9  \\\n",
       "630451    0.998094    0.998281    0.998422    0.998509    0.998557   \n",
       "\n",
       "        Predicted10  Predicted11  Predicted12  Predicted13  Predicted14  \\\n",
       "630451     0.998599     0.998628     0.998659      0.99869     0.998794   \n",
       "\n",
       "        Predicted15  Predicted16  Predicted17  Predicted18  Predicted19  \\\n",
       "630451     0.998826     0.998852     0.998872     0.998893     0.998918   \n",
       "\n",
       "        Predicted20  Predicted21  Predicted22  Predicted23  Predicted24  \\\n",
       "630451     0.998932     0.998949     0.998964      0.99898     0.999102   \n",
       "\n",
       "        Predicted25  Predicted26  Predicted27  Predicted28  Predicted29  \\\n",
       "630451      0.99912     0.999139     0.999153     0.999186     0.999221   \n",
       "\n",
       "        Predicted30  Predicted31  Predicted32  Predicted33  Predicted34  \\\n",
       "630451     0.999234      0.99925     0.999263     0.999275     0.999299   \n",
       "\n",
       "        Predicted35  Predicted36  Predicted37  Predicted38  Predicted39  \\\n",
       "630451     0.999312     0.999358     0.999377     0.999392      0.99942   \n",
       "\n",
       "        Predicted40  Predicted41  Predicted42  Predicted43  Predicted44  \\\n",
       "630451     0.999438     0.999452     0.999464     0.999489     0.999507   \n",
       "\n",
       "        Predicted45  Predicted46  Predicted47  Predicted48  Predicted49  \\\n",
       "630451     0.999518      0.99953     0.999542     0.999656     0.999669   \n",
       "\n",
       "        Predicted50  Predicted51  Predicted52  Predicted53  Predicted54  \\\n",
       "630451     0.999681     0.999693     0.999705     0.999716     0.999728   \n",
       "\n",
       "        Predicted55  Predicted56  Predicted57  Predicted58  Predicted59  \\\n",
       "630451      0.99974     0.999752      0.99987     0.999882     0.999893   \n",
       "\n",
       "        Predicted60  Predicted61  Predicted62  Predicted63  Predicted64  \\\n",
       "630451     0.999905     0.999919      0.99993     0.999942     0.999954   \n",
       "\n",
       "        Predicted65  Predicted66  Predicted67  Predicted68  Predicted69  \n",
       "630451     0.999965     0.999977     0.999988     0.999988          1.0  "
      ]
     },
     "execution_count": 68,
     "metadata": {},
     "output_type": "execute_result"
    }
   ],
   "source": [
    "output1.tail(n=1)"
   ]
  },
  {
   "cell_type": "code",
   "execution_count": 69,
   "metadata": {
    "collapsed": true
   },
   "outputs": [],
   "source": [
    "output1.insert(0, column='Id',value = submission['Id'])"
   ]
  },
  {
   "cell_type": "code",
   "execution_count": 70,
   "metadata": {},
   "outputs": [
    {
     "name": "stdout",
     "output_type": "stream",
     "text": [
      "(630452, 71)\n",
      "(630452, 71)\n"
     ]
    }
   ],
   "source": [
    "print(output1.shape)\n",
    "print(submission.shape)"
   ]
  },
  {
   "cell_type": "code",
   "execution_count": 71,
   "metadata": {},
   "outputs": [
    {
     "data": {
      "text/plain": [
       "Series([], Name: Predicted68, dtype: float32)"
      ]
     },
     "execution_count": 71,
     "metadata": {},
     "output_type": "execute_result"
    }
   ],
   "source": [
    "output1['Predicted68'][output1['Predicted68']>1.0] = 1\n",
    "output1['Predicted68'][output1['Predicted68']>1.0]"
   ]
  },
  {
   "cell_type": "code",
   "execution_count": 72,
   "metadata": {},
   "outputs": [
    {
     "data": {
      "text/plain": [
       "Series([], Name: Predicted69, dtype: float32)"
      ]
     },
     "execution_count": 72,
     "metadata": {},
     "output_type": "execute_result"
    }
   ],
   "source": [
    "output1['Predicted69'][output1['Predicted69']>1.0] = 1\n",
    "output1['Predicted69'][output1['Predicted69']>1.0]"
   ]
  },
  {
   "cell_type": "code",
   "execution_count": 73,
   "metadata": {
    "collapsed": true
   },
   "outputs": [],
   "source": [
    "output1.to_csv(\"prediction_xg.csv\",index=False)"
   ]
  },
  {
   "cell_type": "code",
   "execution_count": 74,
   "metadata": {},
   "outputs": [
    {
     "name": "stdout",
     "output_type": "stream",
     "text": [
      "[ 0  1  2  3  4  5  6  7  8  9 10 11 12 13 14 15 16 17 18 19 20 21 22 23 24\n",
      " 25 26 27 28 29 30 31 32 33 34 35 36 37 38 39 40 41 42 43 44 45 46 47 48 49\n",
      " 50 51 52 53 54 55 56 57 58 59 60 61 62 63 64 65 66 67 69]\n"
     ]
    }
   ],
   "source": [
    "print(np.sort(y.unique()))"
   ]
  }
 ],
 "metadata": {
  "kernelspec": {
   "display_name": "Python 3",
   "language": "python",
   "name": "python3"
  },
  "language_info": {
   "codemirror_mode": {
    "name": "ipython",
    "version": 3
   },
   "file_extension": ".py",
   "mimetype": "text/x-python",
   "name": "python",
   "nbconvert_exporter": "python",
   "pygments_lexer": "ipython3",
   "version": "3.6.2"
  }
 },
 "nbformat": 4,
 "nbformat_minor": 2
}
