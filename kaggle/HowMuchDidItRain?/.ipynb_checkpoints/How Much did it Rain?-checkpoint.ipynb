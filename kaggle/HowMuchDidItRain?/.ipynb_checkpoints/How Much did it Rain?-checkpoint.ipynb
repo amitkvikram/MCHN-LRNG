{
 "cells": [
  {
   "cell_type": "code",
   "execution_count": null,
   "metadata": {
    "collapsed": true
   },
   "outputs": [],
   "source": [
    "# This Python 3 environment comes with many helpful analytics libraries installed\n",
    "# It is defined by the kaggle/python docker image: https://github.com/kaggle/docker-python\n",
    "# For example, here's several helpful packages to load in \n",
    "\n",
    "import numpy as np # linear algebra\n",
    "import pandas as pd # data processing, CSV file I/O (e.g. pd.read_csv)\n",
    "from sklearn.linear_model import RidgeCV, LinearRegression, LassoCV\n",
    "from scipy.stats import skew\n",
    "import matplotlib.pyplot as plt\n",
    "import seaborn as sns\n",
    "import scipy.stats as st\n",
    "from IPython.display import display, HTML\n",
    "import warnings\n",
    "warnings.filterwarnings('ignore')\n",
    "%matplotlib inline\n",
    "\n",
    "# Input data files are available in the \"../input/\" directory.\n",
    "# For example, running this (by clicking run or pressing Shift+Enter) will list the files in the input directory\n",
    "\n",
    "from subprocess import check_output\n",
    "# print(check_output([\"ls\", \"../input\"]).decode(\"utf8\"))\n",
    "pd.options.display.max_columns = 14\n",
    "train = pd.read_csv('train_2013.csv')\n",
    "test = pd.read_csv('test_2014.csv')\n",
    "submission = pd.read_csv('sampleSubmission.csv')\n",
    "# Any results you write to the current directory are saved as output."
   ]
  },
  {
   "cell_type": "code",
   "execution_count": null,
   "metadata": {},
   "outputs": [],
   "source": [
    "pd.options.display.max_columns = 40\n",
    "train.tail(n=30)"
   ]
  },
  {
   "cell_type": "code",
   "execution_count": null,
   "metadata": {
    "scrolled": true
   },
   "outputs": [],
   "source": [
    "test.head()"
   ]
  },
  {
   "cell_type": "code",
   "execution_count": null,
   "metadata": {},
   "outputs": [],
   "source": [
    "submission.head()"
   ]
  },
  {
   "cell_type": "code",
   "execution_count": null,
   "metadata": {},
   "outputs": [],
   "source": [
    "train.info()"
   ]
  },
  {
   "cell_type": "code",
   "execution_count": null,
   "metadata": {},
   "outputs": [],
   "source": [
    "train.describe()"
   ]
  },
  {
   "cell_type": "code",
   "execution_count": null,
   "metadata": {},
   "outputs": [],
   "source": [
    "train.shape"
   ]
  },
  {
   "cell_type": "code",
   "execution_count": null,
   "metadata": {},
   "outputs": [],
   "source": [
    "sns.distplot(train['Expected'].head(100))"
   ]
  },
  {
   "cell_type": "code",
   "execution_count": null,
   "metadata": {},
   "outputs": [],
   "source": [
    "train['Expected'].value_counts().sort_values(ascending=False)"
   ]
  },
  {
   "cell_type": "code",
   "execution_count": null,
   "metadata": {},
   "outputs": [],
   "source": [
    "print(train.shape)\n",
    "sum(train['Expected']>69)"
   ]
  },
  {
   "cell_type": "code",
   "execution_count": null,
   "metadata": {},
   "outputs": [],
   "source": [
    "train.isnull().any()"
   ]
  },
  {
   "cell_type": "code",
   "execution_count": null,
   "metadata": {
    "scrolled": true
   },
   "outputs": [],
   "source": [
    "test.isnull().any()"
   ]
  },
  {
   "cell_type": "code",
   "execution_count": null,
   "metadata": {
    "collapsed": true
   },
   "outputs": [],
   "source": [
    "train.drop(train.index[train['Expected']>69],axis = 0, inplace = True)"
   ]
  },
  {
   "cell_type": "code",
   "execution_count": null,
   "metadata": {
    "collapsed": true
   },
   "outputs": [],
   "source": [
    "train['Prediction'] = np.ceil(train['Expected'])\n",
    "train['Prediction'] = train['Prediction'].astype(np.int8)"
   ]
  },
  {
   "cell_type": "code",
   "execution_count": null,
   "metadata": {},
   "outputs": [],
   "source": [
    "pd.options.display.max_columns = 100\n",
    "train.head(n=4)"
   ]
  },
  {
   "cell_type": "code",
   "execution_count": null,
   "metadata": {
    "collapsed": true
   },
   "outputs": [],
   "source": [
    "# train['TimeToEnd1'] = train['TimeToEnd'].apply(lambda x:' '.\n",
    "#                                                join(list(map(lambda x: str(60.0-x),\n",
    "#                                                              list(map(float, x.split()))))))"
   ]
  },
  {
   "cell_type": "code",
   "execution_count": null,
   "metadata": {
    "collapsed": true
   },
   "outputs": [],
   "source": [
    "test['num_observation'] = test['TimeToEnd'].apply(lambda x:len(x.split())+1)"
   ]
  },
  {
   "cell_type": "code",
   "execution_count": null,
   "metadata": {},
   "outputs": [],
   "source": [
    "train['num_observation'] = train['TimeToEnd'].apply(lambda x:len(x.split())+1)\n",
    "train.head(n=1)"
   ]
  },
  {
   "cell_type": "markdown",
   "metadata": {},
   "source": [
    "#### Feature Engineering on features RR1, RR2, RR3"
   ]
  },
  {
   "cell_type": "code",
   "execution_count": null,
   "metadata": {
    "collapsed": true
   },
   "outputs": [],
   "source": [
    "train['RR1'] = train['RR1'].apply(\n",
    "    lambda x:' '.join(list(map(str,list(map(\n",
    "        lambda x:0 if (x==-99903 or x==-99901 or x==-99000) else x,list(map(float, x.split()))))))))"
   ]
  },
  {
   "cell_type": "code",
   "execution_count": null,
   "metadata": {
    "collapsed": true
   },
   "outputs": [],
   "source": [
    "train['RR2'] = train['RR2'].apply(\n",
    "    lambda x:' '.join(list(map(str,list(map(\n",
    "        lambda x:0 if (x==-99903 or x==-99901 or x==-99000) else x,list(map(float, x.split()))))))))"
   ]
  },
  {
   "cell_type": "code",
   "execution_count": null,
   "metadata": {
    "collapsed": true
   },
   "outputs": [],
   "source": [
    "train['RR3'] = train['RR3'].apply(\n",
    "    lambda x:' '.join(list(map(str,list(map(\n",
    "        lambda x:0 if (x==-99903 or x==-99901 or x==-99000) else x,list(map(float, x.split()))))))))"
   ]
  },
  {
   "cell_type": "code",
   "execution_count": null,
   "metadata": {
    "collapsed": true
   },
   "outputs": [],
   "source": [
    "test['RR1'] = test['RR1'].apply(\n",
    "    lambda x:' '.join(list(map(str,list(map(\n",
    "        lambda x:0 if (x==-99903 or x==-99901 or x==-99000) else x,list(map(float, x.split()))))))))"
   ]
  },
  {
   "cell_type": "code",
   "execution_count": null,
   "metadata": {
    "collapsed": true
   },
   "outputs": [],
   "source": [
    "test['RR2'] = test['RR2'].apply(\n",
    "    lambda x:' '.join(list(map(str,list(map(\n",
    "        lambda x:0 if (x==-99903 or x==-99901 or x==-99000) else x,list(map(float, x.split()))))))))"
   ]
  },
  {
   "cell_type": "code",
   "execution_count": null,
   "metadata": {
    "collapsed": true
   },
   "outputs": [],
   "source": [
    "test['RR3'] = test['RR3'].apply(\n",
    "    lambda x:' '.join(list(map(str,list(map(\n",
    "        lambda x:0 if (x==-99903 or x==-99901 or x==-99000) else x,list(map(float, x.split()))))))))"
   ]
  },
  {
   "cell_type": "code",
   "execution_count": null,
   "metadata": {
    "collapsed": true
   },
   "outputs": [],
   "source": [
    "train['RR1_mean'] = train['RR1'].apply(lambda x:np.mean(list(map(float, x.split()))))"
   ]
  },
  {
   "cell_type": "code",
   "execution_count": null,
   "metadata": {
    "collapsed": true
   },
   "outputs": [],
   "source": [
    "train['RR2_mean'] = train['RR2'].apply(lambda x:np.mean(list(map(float, x.split()))))"
   ]
  },
  {
   "cell_type": "code",
   "execution_count": null,
   "metadata": {
    "collapsed": true
   },
   "outputs": [],
   "source": [
    "train['RR3_mean'] = train['RR3'].apply(lambda x:np.mean(list(map(float, x.split()))))"
   ]
  },
  {
   "cell_type": "code",
   "execution_count": null,
   "metadata": {
    "collapsed": true
   },
   "outputs": [],
   "source": [
    "test['RR1_mean'] = test['RR1'].apply(lambda x:np.mean(list(map(float, x.split()))))"
   ]
  },
  {
   "cell_type": "code",
   "execution_count": null,
   "metadata": {
    "collapsed": true
   },
   "outputs": [],
   "source": [
    "test['RR2_mean'] = test['RR2'].apply(lambda x:np.mean(list(map(float, x.split()))))"
   ]
  },
  {
   "cell_type": "code",
   "execution_count": null,
   "metadata": {
    "collapsed": true
   },
   "outputs": [],
   "source": [
    "test['RR3_mean'] = test['RR3'].apply(lambda x:np.mean(list(map(float, x.split()))))"
   ]
  },
  {
   "cell_type": "code",
   "execution_count": null,
   "metadata": {
    "collapsed": true
   },
   "outputs": [],
   "source": [
    "train['RR_mean'] = (train['RR1_mean']+train['RR2_mean']+train['RR3_mean'])/3\n",
    "test['RR_mean'] = (test['RR1_mean'] + test['RR2_mean'] + test['RR3_mean'])/3"
   ]
  },
  {
   "cell_type": "code",
   "execution_count": null,
   "metadata": {
    "collapsed": true
   },
   "outputs": [],
   "source": [
    "train.drop(train.index[train['RR_mean']>300], inplace = True)"
   ]
  },
  {
   "cell_type": "code",
   "execution_count": null,
   "metadata": {},
   "outputs": [],
   "source": [
    "sns.set(rc={'figure.figsize':(13.7,6.27)})\n",
    "# sns.barplot(x = train['Prediction'], y = train['RR1_mean'])\n",
    "# sns.distplot(train['Prediction'],bins = 1,hist = True)"
   ]
  },
  {
   "cell_type": "code",
   "execution_count": null,
   "metadata": {},
   "outputs": [],
   "source": [
    "sns.set(rc={'figure.figsize':(11.7,8.27)})\n",
    "# sns.regplot(x = train['RR_mean'], y = train['Expected'], fit_reg = False)"
   ]
  },
  {
   "cell_type": "markdown",
   "metadata": {},
   "source": [
    "#### RadarQualityIndex"
   ]
  },
  {
   "cell_type": "code",
   "execution_count": null,
   "metadata": {
    "collapsed": true
   },
   "outputs": [],
   "source": [
    "test['RadarQualityIndex'] = test['RadarQualityIndex'].apply(\n",
    "    lambda x:' '.join(list(map(str,list(map(lambda x:0 if x ==999.0 else x, list(map(float, x.split()))))))))"
   ]
  },
  {
   "cell_type": "code",
   "execution_count": null,
   "metadata": {
    "collapsed": true
   },
   "outputs": [],
   "source": [
    "train['RadarQualityIndex'] = train['RadarQualityIndex'].apply(\n",
    "    lambda x:' '.join(list(map(str,list(map(lambda x:0 if x ==999.0 else x,list(map(float, x.split()))))))))"
   ]
  },
  {
   "cell_type": "code",
   "execution_count": null,
   "metadata": {
    "collapsed": true
   },
   "outputs": [],
   "source": [
    "train['RadarQualityIndex_mean'] = train['RadarQualityIndex'].apply(\n",
    "    lambda x:np.mean(list(map(float, x.split()))))"
   ]
  },
  {
   "cell_type": "code",
   "execution_count": null,
   "metadata": {
    "collapsed": true
   },
   "outputs": [],
   "source": [
    "test['RadarQualityIndex_mean'] = test['RadarQualityIndex'].apply(\n",
    "    lambda x:np.mean(list(map(float, x.split()))))"
   ]
  },
  {
   "cell_type": "code",
   "execution_count": null,
   "metadata": {},
   "outputs": [],
   "source": [
    "train.tail(n=40)"
   ]
  },
  {
   "cell_type": "code",
   "execution_count": null,
   "metadata": {},
   "outputs": [],
   "source": [
    "# sns.regplot(x = train['RadarQualityIndex_mean'], y = train['Expected'], fit_reg = False)"
   ]
  },
  {
   "cell_type": "code",
   "execution_count": null,
   "metadata": {},
   "outputs": [],
   "source": [
    "# g = sns.boxplot(x =train['Prediction'], y = train['RR1_mean'])\n",
    "# g.set"
   ]
  },
  {
   "cell_type": "code",
   "execution_count": null,
   "metadata": {},
   "outputs": [],
   "source": [
    "# sns.boxplot(x =train['Prediction'], y = train['RR_mean'])"
   ]
  },
  {
   "cell_type": "code",
   "execution_count": null,
   "metadata": {
    "collapsed": true
   },
   "outputs": [],
   "source": [
    "# plt.scatter(x = train['RR3_mean'], y = train['Expected'])\n",
    "# plt.show()"
   ]
  },
  {
   "cell_type": "code",
   "execution_count": null,
   "metadata": {},
   "outputs": [],
   "source": [
    "# corrmat = train[['Expected','RR1_mean', 'RR2_mean','RR3_mean','Rain']].corr()\n",
    "# display(corrmat)\n",
    "# corrmat.sort_values(\"Expected\",inplace = True, ascending = False)\n",
    "# sns.heatmap(corrmat, vmax=.8, square=True)"
   ]
  },
  {
   "cell_type": "markdown",
   "metadata": {},
   "source": [
    "#### LogWaterVolume"
   ]
  },
  {
   "cell_type": "code",
   "execution_count": null,
   "metadata": {
    "collapsed": true
   },
   "outputs": [],
   "source": [
    "train['LogWaterVolume'] = train['LogWaterVolume'].apply(lambda x:str(x))\n",
    "train['LogWaterVolume'] = train['LogWaterVolume'].apply(lambda x:' '.join(list(map(str, list\n",
    "                                                                          (map(lambda x:\n",
    "                                                                              0 if np.isnan(x) else x,\n",
    "                                                                              list(map(float, x.split()))))))))"
   ]
  },
  {
   "cell_type": "code",
   "execution_count": null,
   "metadata": {
    "collapsed": true
   },
   "outputs": [],
   "source": [
    "test['LogWaterVolume'] = test['LogWaterVolume'].apply(lambda x:str(x))\n",
    "test['LogWaterVolume'] = test['LogWaterVolume'].apply(lambda x:' '.join(list(map(str, list\n",
    "                                                                          (map(lambda x:\n",
    "                                                                               0 if np.isnan(x) else x,\n",
    "                                                                              list(map(float, x.split()))))))))"
   ]
  },
  {
   "cell_type": "code",
   "execution_count": null,
   "metadata": {
    "collapsed": true,
    "scrolled": true
   },
   "outputs": [],
   "source": [
    "train['LogWaterVolume_mean'] = train['LogWaterVolume'].apply(lambda x:np.exp(np.mean(list(map(float,\n",
    "                                                                                              x.split())))))"
   ]
  },
  {
   "cell_type": "code",
   "execution_count": null,
   "metadata": {
    "collapsed": true
   },
   "outputs": [],
   "source": [
    "test['LogWaterVolume_mean'] = test['LogWaterVolume'].apply(lambda x:(np.mean(list(map(float, \n",
    "                                                                                            x.split())))))"
   ]
  },
  {
   "cell_type": "markdown",
   "metadata": {},
   "source": [
    "#### ReflectivityQC"
   ]
  },
  {
   "cell_type": "code",
   "execution_count": null,
   "metadata": {
    "collapsed": true
   },
   "outputs": [],
   "source": [
    "train['Rain'] = train['num_observation']*train['RR_mean']\n",
    "test['Rain'] = test['num_observation']*test['RR_mean']"
   ]
  },
  {
   "cell_type": "code",
   "execution_count": null,
   "metadata": {},
   "outputs": [],
   "source": [
    "# sns.set(rc ={'figure.figsize':(13.7,8.27) })\n",
    "# sns.barplot(x = train['Prediction'], y = train['RadarQualityIndex_mean'], )"
   ]
  },
  {
   "cell_type": "code",
   "execution_count": null,
   "metadata": {},
   "outputs": [],
   "source": [
    "# # sns.set(rc ={'figure.figsize':(13.7,6.27) })\n",
    "# sns.boxplot(x = train['Prediction'], y = train['Rain'], )"
   ]
  },
  {
   "cell_type": "code",
   "execution_count": null,
   "metadata": {},
   "outputs": [],
   "source": [
    "train['ReflectivityQC'] = train['ReflectivityQC'].apply(\n",
    "    lambda x: ' '.join(map(str, list(map(lambda x:0 if (x==-99903 or x==-99901 or x==-99000) \n",
    "                                         else x, list(map(float, x.split())))))))"
   ]
  },
  {
   "cell_type": "code",
   "execution_count": null,
   "metadata": {
    "collapsed": true
   },
   "outputs": [],
   "source": [
    "test['ReflectivityQC'] = test['ReflectivityQC'].apply(\n",
    "    lambda x: ' '.join(map(str, list(map(lambda x:0 if (x==-99903 or x==-99901 or x==-99000)\n",
    "                                         else x, list(map(float, x.split())))))))"
   ]
  },
  {
   "cell_type": "code",
   "execution_count": null,
   "metadata": {
    "collapsed": true
   },
   "outputs": [],
   "source": [
    "train['ReflectivityQC_mean'] = train['ReflectivityQC'].apply(lambda x: np.mean(list(map(float, x.split()))))"
   ]
  },
  {
   "cell_type": "code",
   "execution_count": null,
   "metadata": {
    "collapsed": true
   },
   "outputs": [],
   "source": [
    "test['ReflectivityQC_mean'] = test['ReflectivityQC'].apply(lambda x: np.mean(list(map(float, x.split()))))"
   ]
  },
  {
   "cell_type": "code",
   "execution_count": null,
   "metadata": {},
   "outputs": [],
   "source": [
    "train.head(n = 2)"
   ]
  },
  {
   "cell_type": "code",
   "execution_count": null,
   "metadata": {},
   "outputs": [],
   "source": [
    "sns.set(rc={'figure.figsize':(13.7,6.27)})\n",
    "# sns.regplot( y = train['LogWaterVolume_mean'], x = train['Prediction'],fit_reg= False)"
   ]
  },
  {
   "cell_type": "markdown",
   "metadata": {},
   "source": [
    "#### Removing Outliers"
   ]
  },
  {
   "cell_type": "code",
   "execution_count": null,
   "metadata": {
    "collapsed": true
   },
   "outputs": [],
   "source": [
    "# Removing Outlier in Logwater_mean\n",
    "# train.drop(train.index[train['LogWaterVolume_mean']>0.0075], inplace =True)"
   ]
  },
  {
   "cell_type": "code",
   "execution_count": null,
   "metadata": {
    "collapsed": true
   },
   "outputs": [],
   "source": [
    "# train['LogWaterVolume_mean'].value_counts()"
   ]
  },
  {
   "cell_type": "markdown",
   "metadata": {},
   "source": [
    "### Preparing Training and Test Data"
   ]
  },
  {
   "cell_type": "code",
   "execution_count": null,
   "metadata": {},
   "outputs": [],
   "source": [
    "X = train[['RR1_mean','RR2_mean','RadarQualityIndex_mean'\n",
    "           ,'ReflectivityQC_mean','num_observation']]\n",
    "X.shape"
   ]
  },
  {
   "cell_type": "code",
   "execution_count": null,
   "metadata": {},
   "outputs": [],
   "source": [
    "y = train['Prediction']\n",
    "y.head(n=20)"
   ]
  },
  {
   "cell_type": "code",
   "execution_count": null,
   "metadata": {},
   "outputs": [],
   "source": [
    "test.isnull().any()"
   ]
  },
  {
   "cell_type": "code",
   "execution_count": null,
   "metadata": {
    "scrolled": true
   },
   "outputs": [],
   "source": [
    "train.isnull().any()"
   ]
  },
  {
   "cell_type": "code",
   "execution_count": null,
   "metadata": {},
   "outputs": [],
   "source": [
    "sns.barplot(x = train['Prediction'], y= train['LogWaterVolume_mean'])"
   ]
  },
  {
   "cell_type": "code",
   "execution_count": null,
   "metadata": {},
   "outputs": [],
   "source": [
    "Test = test[['RR1_mean','RR2_mean','RadarQualityIndex_mean'\n",
    "           ,'ReflectivityQC_mean','num_observation']]\n",
    "Test.head(n=2)"
   ]
  },
  {
   "cell_type": "markdown",
   "metadata": {},
   "source": [
    "### Training Model"
   ]
  },
  {
   "cell_type": "code",
   "execution_count": null,
   "metadata": {},
   "outputs": [],
   "source": [
    "from sklearn.linear_model import LogisticRegression,SGDClassifier\n",
    "from sklearn import ensemble\n",
    "import xgboost as xgb\n",
    "from sklearn.svm import SVC\n",
    "xg = xgb.XGBClassifier()\n",
    "xg.fit(X, y)"
   ]
  },
  {
   "cell_type": "code",
   "execution_count": null,
   "metadata": {},
   "outputs": [],
   "source": [
    "print(xg.score(X,y))"
   ]
  },
  {
   "cell_type": "code",
   "execution_count": null,
   "metadata": {},
   "outputs": [],
   "source": [
    "output = xg.predict_proba(Test)\n",
    "print(output.shape)\n",
    "print(y.shape)\n",
    "print(test.shape)"
   ]
  },
  {
   "cell_type": "code",
   "execution_count": null,
   "metadata": {
    "scrolled": true
   },
   "outputs": [],
   "source": [
    "output1 = (pd.DataFrame(output)).copy()\n",
    "s= 'Predicted'\n",
    "col = []\n",
    "for i in range(0,69):\n",
    "    col.append(s+str(i))\n",
    "output1.columns = col\n",
    "for i in range(1,69):\n",
    "    output1[s+str(i)] += output1[s+str(i-1)]\n",
    "display(output1.tail(n =1))\n",
    "# print(output)"
   ]
  },
  {
   "cell_type": "code",
   "execution_count": null,
   "metadata": {
    "collapsed": true
   },
   "outputs": [],
   "source": [
    "output1['Predicted69'] = output1['Predicted68']"
   ]
  },
  {
   "cell_type": "code",
   "execution_count": null,
   "metadata": {
    "collapsed": true
   },
   "outputs": [],
   "source": [
    "output1['Predicted68'] = output1['Predicted67']"
   ]
  },
  {
   "cell_type": "code",
   "execution_count": null,
   "metadata": {},
   "outputs": [],
   "source": [
    "output1.tail(n=1)"
   ]
  },
  {
   "cell_type": "code",
   "execution_count": null,
   "metadata": {
    "collapsed": true
   },
   "outputs": [],
   "source": [
    "output1.insert(0, column='Id',value = submission['Id'])"
   ]
  },
  {
   "cell_type": "code",
   "execution_count": null,
   "metadata": {},
   "outputs": [],
   "source": [
    "print(output1.shape)\n",
    "print(submission.shape)"
   ]
  },
  {
   "cell_type": "code",
   "execution_count": null,
   "metadata": {},
   "outputs": [],
   "source": [
    "output1['Predicted68'][output1['Predicted68']>1.0] = 1\n",
    "output1['Predicted68'][output1['Predicted68']>1.0]"
   ]
  },
  {
   "cell_type": "code",
   "execution_count": null,
   "metadata": {},
   "outputs": [],
   "source": [
    "output1['Predicted69'][output1['Predicted69']>1.0] = 1\n",
    "output1['Predicted69'][output1['Predicted69']>1.0]"
   ]
  },
  {
   "cell_type": "code",
   "execution_count": null,
   "metadata": {
    "collapsed": true
   },
   "outputs": [],
   "source": [
    "output1.to_csv(\"prediction_xg.csv\",index=False)"
   ]
  },
  {
   "cell_type": "code",
   "execution_count": null,
   "metadata": {},
   "outputs": [],
   "source": [
    "print(np.sort(y.unique()))"
   ]
  }
 ],
 "metadata": {
  "kernelspec": {
   "display_name": "Python 3",
   "language": "python",
   "name": "python3"
  },
  "language_info": {
   "codemirror_mode": {
    "name": "ipython",
    "version": 3
   },
   "file_extension": ".py",
   "mimetype": "text/x-python",
   "name": "python",
   "nbconvert_exporter": "python",
   "pygments_lexer": "ipython3",
   "version": "3.6.2"
  }
 },
 "nbformat": 4,
 "nbformat_minor": 2
}
