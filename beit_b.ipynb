{
  "nbformat": 4,
  "nbformat_minor": 0,
  "metadata": {
    "kernelspec": {
      "language": "python",
      "display_name": "Python 3",
      "name": "python3"
    },
    "language_info": {
      "name": "python",
      "version": "3.7.10",
      "mimetype": "text/x-python",
      "codemirror_mode": {
        "name": "ipython",
        "version": 3
      },
      "pygments_lexer": "ipython3",
      "nbconvert_exporter": "python",
      "file_extension": ".py"
    },
    "colab": {
      "name": "beit-b.ipynb",
      "provenance": [],
      "collapsed_sections": []
    },
    "accelerator": "GPU",
    "widgets": {
      "application/vnd.jupyter.widget-state+json": {
        "8edeff32e1f04d648656234442f61e6f": {
          "model_module": "@jupyter-widgets/controls",
          "model_name": "HBoxModel",
          "model_module_version": "1.5.0",
          "state": {
            "_view_name": "HBoxView",
            "_dom_classes": [],
            "_model_name": "HBoxModel",
            "_view_module": "@jupyter-widgets/controls",
            "_model_module_version": "1.5.0",
            "_view_count": null,
            "_view_module_version": "1.5.0",
            "box_style": "",
            "layout": "IPY_MODEL_f7fd8ea5e920481e8921c40ec044f3bc",
            "_model_module": "@jupyter-widgets/controls",
            "children": [
              "IPY_MODEL_46643a8911b8418ba3b73832ea87f2d0",
              "IPY_MODEL_d096b9da74bb4b4fbe01930f972d6172",
              "IPY_MODEL_e381788e83b049e39f4facb376a42e00"
            ]
          }
        },
        "f7fd8ea5e920481e8921c40ec044f3bc": {
          "model_module": "@jupyter-widgets/base",
          "model_name": "LayoutModel",
          "model_module_version": "1.2.0",
          "state": {
            "_view_name": "LayoutView",
            "grid_template_rows": null,
            "right": null,
            "justify_content": null,
            "_view_module": "@jupyter-widgets/base",
            "overflow": null,
            "_model_module_version": "1.2.0",
            "_view_count": null,
            "flex_flow": null,
            "width": null,
            "min_width": null,
            "border": null,
            "align_items": null,
            "bottom": null,
            "_model_module": "@jupyter-widgets/base",
            "top": null,
            "grid_column": null,
            "overflow_y": null,
            "overflow_x": null,
            "grid_auto_flow": null,
            "grid_area": null,
            "grid_template_columns": null,
            "flex": null,
            "_model_name": "LayoutModel",
            "justify_items": null,
            "grid_row": null,
            "max_height": null,
            "align_content": null,
            "visibility": null,
            "align_self": null,
            "height": null,
            "min_height": null,
            "padding": null,
            "grid_auto_rows": null,
            "grid_gap": null,
            "max_width": null,
            "order": null,
            "_view_module_version": "1.2.0",
            "grid_template_areas": null,
            "object_position": null,
            "object_fit": null,
            "grid_auto_columns": null,
            "margin": null,
            "display": null,
            "left": null
          }
        },
        "46643a8911b8418ba3b73832ea87f2d0": {
          "model_module": "@jupyter-widgets/controls",
          "model_name": "HTMLModel",
          "model_module_version": "1.5.0",
          "state": {
            "_view_name": "HTMLView",
            "style": "IPY_MODEL_86514e8e7b2541a6a6e98bf8ae9426a3",
            "_dom_classes": [],
            "description": "",
            "_model_name": "HTMLModel",
            "placeholder": "​",
            "_view_module": "@jupyter-widgets/controls",
            "_model_module_version": "1.5.0",
            "value": "Downloading: 100%",
            "_view_count": null,
            "_view_module_version": "1.5.0",
            "description_tooltip": null,
            "_model_module": "@jupyter-widgets/controls",
            "layout": "IPY_MODEL_05b5c3f0af7d42cb8038f4902e1a1b8f"
          }
        },
        "d096b9da74bb4b4fbe01930f972d6172": {
          "model_module": "@jupyter-widgets/controls",
          "model_name": "FloatProgressModel",
          "model_module_version": "1.5.0",
          "state": {
            "_view_name": "ProgressView",
            "style": "IPY_MODEL_7360b1d2614f4b5e9c163cb77652004b",
            "_dom_classes": [],
            "description": "",
            "_model_name": "FloatProgressModel",
            "bar_style": "success",
            "max": 276,
            "_view_module": "@jupyter-widgets/controls",
            "_model_module_version": "1.5.0",
            "value": 276,
            "_view_count": null,
            "_view_module_version": "1.5.0",
            "orientation": "horizontal",
            "min": 0,
            "description_tooltip": null,
            "_model_module": "@jupyter-widgets/controls",
            "layout": "IPY_MODEL_f3978a5ddd624766913d48d356c02140"
          }
        },
        "e381788e83b049e39f4facb376a42e00": {
          "model_module": "@jupyter-widgets/controls",
          "model_name": "HTMLModel",
          "model_module_version": "1.5.0",
          "state": {
            "_view_name": "HTMLView",
            "style": "IPY_MODEL_874c70d6404c4ac691c17ad596ac98be",
            "_dom_classes": [],
            "description": "",
            "_model_name": "HTMLModel",
            "placeholder": "​",
            "_view_module": "@jupyter-widgets/controls",
            "_model_module_version": "1.5.0",
            "value": " 276/276 [00:00&lt;00:00, 5.60kB/s]",
            "_view_count": null,
            "_view_module_version": "1.5.0",
            "description_tooltip": null,
            "_model_module": "@jupyter-widgets/controls",
            "layout": "IPY_MODEL_3fa05e653f8747c58b07e46523edd49c"
          }
        },
        "86514e8e7b2541a6a6e98bf8ae9426a3": {
          "model_module": "@jupyter-widgets/controls",
          "model_name": "DescriptionStyleModel",
          "model_module_version": "1.5.0",
          "state": {
            "_view_name": "StyleView",
            "_model_name": "DescriptionStyleModel",
            "description_width": "",
            "_view_module": "@jupyter-widgets/base",
            "_model_module_version": "1.5.0",
            "_view_count": null,
            "_view_module_version": "1.2.0",
            "_model_module": "@jupyter-widgets/controls"
          }
        },
        "05b5c3f0af7d42cb8038f4902e1a1b8f": {
          "model_module": "@jupyter-widgets/base",
          "model_name": "LayoutModel",
          "model_module_version": "1.2.0",
          "state": {
            "_view_name": "LayoutView",
            "grid_template_rows": null,
            "right": null,
            "justify_content": null,
            "_view_module": "@jupyter-widgets/base",
            "overflow": null,
            "_model_module_version": "1.2.0",
            "_view_count": null,
            "flex_flow": null,
            "width": null,
            "min_width": null,
            "border": null,
            "align_items": null,
            "bottom": null,
            "_model_module": "@jupyter-widgets/base",
            "top": null,
            "grid_column": null,
            "overflow_y": null,
            "overflow_x": null,
            "grid_auto_flow": null,
            "grid_area": null,
            "grid_template_columns": null,
            "flex": null,
            "_model_name": "LayoutModel",
            "justify_items": null,
            "grid_row": null,
            "max_height": null,
            "align_content": null,
            "visibility": null,
            "align_self": null,
            "height": null,
            "min_height": null,
            "padding": null,
            "grid_auto_rows": null,
            "grid_gap": null,
            "max_width": null,
            "order": null,
            "_view_module_version": "1.2.0",
            "grid_template_areas": null,
            "object_position": null,
            "object_fit": null,
            "grid_auto_columns": null,
            "margin": null,
            "display": null,
            "left": null
          }
        },
        "7360b1d2614f4b5e9c163cb77652004b": {
          "model_module": "@jupyter-widgets/controls",
          "model_name": "ProgressStyleModel",
          "model_module_version": "1.5.0",
          "state": {
            "_view_name": "StyleView",
            "_model_name": "ProgressStyleModel",
            "description_width": "",
            "_view_module": "@jupyter-widgets/base",
            "_model_module_version": "1.5.0",
            "_view_count": null,
            "_view_module_version": "1.2.0",
            "bar_color": null,
            "_model_module": "@jupyter-widgets/controls"
          }
        },
        "f3978a5ddd624766913d48d356c02140": {
          "model_module": "@jupyter-widgets/base",
          "model_name": "LayoutModel",
          "model_module_version": "1.2.0",
          "state": {
            "_view_name": "LayoutView",
            "grid_template_rows": null,
            "right": null,
            "justify_content": null,
            "_view_module": "@jupyter-widgets/base",
            "overflow": null,
            "_model_module_version": "1.2.0",
            "_view_count": null,
            "flex_flow": null,
            "width": null,
            "min_width": null,
            "border": null,
            "align_items": null,
            "bottom": null,
            "_model_module": "@jupyter-widgets/base",
            "top": null,
            "grid_column": null,
            "overflow_y": null,
            "overflow_x": null,
            "grid_auto_flow": null,
            "grid_area": null,
            "grid_template_columns": null,
            "flex": null,
            "_model_name": "LayoutModel",
            "justify_items": null,
            "grid_row": null,
            "max_height": null,
            "align_content": null,
            "visibility": null,
            "align_self": null,
            "height": null,
            "min_height": null,
            "padding": null,
            "grid_auto_rows": null,
            "grid_gap": null,
            "max_width": null,
            "order": null,
            "_view_module_version": "1.2.0",
            "grid_template_areas": null,
            "object_position": null,
            "object_fit": null,
            "grid_auto_columns": null,
            "margin": null,
            "display": null,
            "left": null
          }
        },
        "874c70d6404c4ac691c17ad596ac98be": {
          "model_module": "@jupyter-widgets/controls",
          "model_name": "DescriptionStyleModel",
          "model_module_version": "1.5.0",
          "state": {
            "_view_name": "StyleView",
            "_model_name": "DescriptionStyleModel",
            "description_width": "",
            "_view_module": "@jupyter-widgets/base",
            "_model_module_version": "1.5.0",
            "_view_count": null,
            "_view_module_version": "1.2.0",
            "_model_module": "@jupyter-widgets/controls"
          }
        },
        "3fa05e653f8747c58b07e46523edd49c": {
          "model_module": "@jupyter-widgets/base",
          "model_name": "LayoutModel",
          "model_module_version": "1.2.0",
          "state": {
            "_view_name": "LayoutView",
            "grid_template_rows": null,
            "right": null,
            "justify_content": null,
            "_view_module": "@jupyter-widgets/base",
            "overflow": null,
            "_model_module_version": "1.2.0",
            "_view_count": null,
            "flex_flow": null,
            "width": null,
            "min_width": null,
            "border": null,
            "align_items": null,
            "bottom": null,
            "_model_module": "@jupyter-widgets/base",
            "top": null,
            "grid_column": null,
            "overflow_y": null,
            "overflow_x": null,
            "grid_auto_flow": null,
            "grid_area": null,
            "grid_template_columns": null,
            "flex": null,
            "_model_name": "LayoutModel",
            "justify_items": null,
            "grid_row": null,
            "max_height": null,
            "align_content": null,
            "visibility": null,
            "align_self": null,
            "height": null,
            "min_height": null,
            "padding": null,
            "grid_auto_rows": null,
            "grid_gap": null,
            "max_width": null,
            "order": null,
            "_view_module_version": "1.2.0",
            "grid_template_areas": null,
            "object_position": null,
            "object_fit": null,
            "grid_auto_columns": null,
            "margin": null,
            "display": null,
            "left": null
          }
        },
        "9f5faebbde5b4b388c45558b1062f245": {
          "model_module": "@jupyter-widgets/controls",
          "model_name": "HBoxModel",
          "model_module_version": "1.5.0",
          "state": {
            "_view_name": "HBoxView",
            "_dom_classes": [],
            "_model_name": "HBoxModel",
            "_view_module": "@jupyter-widgets/controls",
            "_model_module_version": "1.5.0",
            "_view_count": null,
            "_view_module_version": "1.5.0",
            "box_style": "",
            "layout": "IPY_MODEL_1cb56e5189a042998a94d72b81fd55fe",
            "_model_module": "@jupyter-widgets/controls",
            "children": [
              "IPY_MODEL_c5d9d0f333274132b4102f8019d99871",
              "IPY_MODEL_57909bcee5c342b792c0acbf2a196d9d",
              "IPY_MODEL_e2c2e681b6d94a68ab6b37e698f02725"
            ]
          }
        },
        "1cb56e5189a042998a94d72b81fd55fe": {
          "model_module": "@jupyter-widgets/base",
          "model_name": "LayoutModel",
          "model_module_version": "1.2.0",
          "state": {
            "_view_name": "LayoutView",
            "grid_template_rows": null,
            "right": null,
            "justify_content": null,
            "_view_module": "@jupyter-widgets/base",
            "overflow": null,
            "_model_module_version": "1.2.0",
            "_view_count": null,
            "flex_flow": null,
            "width": null,
            "min_width": null,
            "border": null,
            "align_items": null,
            "bottom": null,
            "_model_module": "@jupyter-widgets/base",
            "top": null,
            "grid_column": null,
            "overflow_y": null,
            "overflow_x": null,
            "grid_auto_flow": null,
            "grid_area": null,
            "grid_template_columns": null,
            "flex": null,
            "_model_name": "LayoutModel",
            "justify_items": null,
            "grid_row": null,
            "max_height": null,
            "align_content": null,
            "visibility": null,
            "align_self": null,
            "height": null,
            "min_height": null,
            "padding": null,
            "grid_auto_rows": null,
            "grid_gap": null,
            "max_width": null,
            "order": null,
            "_view_module_version": "1.2.0",
            "grid_template_areas": null,
            "object_position": null,
            "object_fit": null,
            "grid_auto_columns": null,
            "margin": null,
            "display": null,
            "left": null
          }
        },
        "c5d9d0f333274132b4102f8019d99871": {
          "model_module": "@jupyter-widgets/controls",
          "model_name": "HTMLModel",
          "model_module_version": "1.5.0",
          "state": {
            "_view_name": "HTMLView",
            "style": "IPY_MODEL_cab5e49035c04c549e6bad1a41c38c8f",
            "_dom_classes": [],
            "description": "",
            "_model_name": "HTMLModel",
            "placeholder": "​",
            "_view_module": "@jupyter-widgets/controls",
            "_model_module_version": "1.5.0",
            "value": "",
            "_view_count": null,
            "_view_module_version": "1.5.0",
            "description_tooltip": null,
            "_model_module": "@jupyter-widgets/controls",
            "layout": "IPY_MODEL_a2b2fd284dcc43bda263bb4140fbf850"
          }
        },
        "57909bcee5c342b792c0acbf2a196d9d": {
          "model_module": "@jupyter-widgets/controls",
          "model_name": "FloatProgressModel",
          "model_module_version": "1.5.0",
          "state": {
            "_view_name": "ProgressView",
            "style": "IPY_MODEL_f7cc609e861f43f49b85128101039113",
            "_dom_classes": [],
            "description": "",
            "_model_name": "FloatProgressModel",
            "bar_style": "success",
            "max": 169001437,
            "_view_module": "@jupyter-widgets/controls",
            "_model_module_version": "1.5.0",
            "value": 169001437,
            "_view_count": null,
            "_view_module_version": "1.5.0",
            "orientation": "horizontal",
            "min": 0,
            "description_tooltip": null,
            "_model_module": "@jupyter-widgets/controls",
            "layout": "IPY_MODEL_684e3b2f3b1d44aa8682db1872250e4b"
          }
        },
        "e2c2e681b6d94a68ab6b37e698f02725": {
          "model_module": "@jupyter-widgets/controls",
          "model_name": "HTMLModel",
          "model_module_version": "1.5.0",
          "state": {
            "_view_name": "HTMLView",
            "style": "IPY_MODEL_9e273c822e034e7cb331fc953229c17a",
            "_dom_classes": [],
            "description": "",
            "_model_name": "HTMLModel",
            "placeholder": "​",
            "_view_module": "@jupyter-widgets/controls",
            "_model_module_version": "1.5.0",
            "value": " 169001984/? [00:12&lt;00:00, 15936894.10it/s]",
            "_view_count": null,
            "_view_module_version": "1.5.0",
            "description_tooltip": null,
            "_model_module": "@jupyter-widgets/controls",
            "layout": "IPY_MODEL_d62b0b26eefd446485bd4f5ffa7120ea"
          }
        },
        "cab5e49035c04c549e6bad1a41c38c8f": {
          "model_module": "@jupyter-widgets/controls",
          "model_name": "DescriptionStyleModel",
          "model_module_version": "1.5.0",
          "state": {
            "_view_name": "StyleView",
            "_model_name": "DescriptionStyleModel",
            "description_width": "",
            "_view_module": "@jupyter-widgets/base",
            "_model_module_version": "1.5.0",
            "_view_count": null,
            "_view_module_version": "1.2.0",
            "_model_module": "@jupyter-widgets/controls"
          }
        },
        "a2b2fd284dcc43bda263bb4140fbf850": {
          "model_module": "@jupyter-widgets/base",
          "model_name": "LayoutModel",
          "model_module_version": "1.2.0",
          "state": {
            "_view_name": "LayoutView",
            "grid_template_rows": null,
            "right": null,
            "justify_content": null,
            "_view_module": "@jupyter-widgets/base",
            "overflow": null,
            "_model_module_version": "1.2.0",
            "_view_count": null,
            "flex_flow": null,
            "width": null,
            "min_width": null,
            "border": null,
            "align_items": null,
            "bottom": null,
            "_model_module": "@jupyter-widgets/base",
            "top": null,
            "grid_column": null,
            "overflow_y": null,
            "overflow_x": null,
            "grid_auto_flow": null,
            "grid_area": null,
            "grid_template_columns": null,
            "flex": null,
            "_model_name": "LayoutModel",
            "justify_items": null,
            "grid_row": null,
            "max_height": null,
            "align_content": null,
            "visibility": null,
            "align_self": null,
            "height": null,
            "min_height": null,
            "padding": null,
            "grid_auto_rows": null,
            "grid_gap": null,
            "max_width": null,
            "order": null,
            "_view_module_version": "1.2.0",
            "grid_template_areas": null,
            "object_position": null,
            "object_fit": null,
            "grid_auto_columns": null,
            "margin": null,
            "display": null,
            "left": null
          }
        },
        "f7cc609e861f43f49b85128101039113": {
          "model_module": "@jupyter-widgets/controls",
          "model_name": "ProgressStyleModel",
          "model_module_version": "1.5.0",
          "state": {
            "_view_name": "StyleView",
            "_model_name": "ProgressStyleModel",
            "description_width": "",
            "_view_module": "@jupyter-widgets/base",
            "_model_module_version": "1.5.0",
            "_view_count": null,
            "_view_module_version": "1.2.0",
            "bar_color": null,
            "_model_module": "@jupyter-widgets/controls"
          }
        },
        "684e3b2f3b1d44aa8682db1872250e4b": {
          "model_module": "@jupyter-widgets/base",
          "model_name": "LayoutModel",
          "model_module_version": "1.2.0",
          "state": {
            "_view_name": "LayoutView",
            "grid_template_rows": null,
            "right": null,
            "justify_content": null,
            "_view_module": "@jupyter-widgets/base",
            "overflow": null,
            "_model_module_version": "1.2.0",
            "_view_count": null,
            "flex_flow": null,
            "width": null,
            "min_width": null,
            "border": null,
            "align_items": null,
            "bottom": null,
            "_model_module": "@jupyter-widgets/base",
            "top": null,
            "grid_column": null,
            "overflow_y": null,
            "overflow_x": null,
            "grid_auto_flow": null,
            "grid_area": null,
            "grid_template_columns": null,
            "flex": null,
            "_model_name": "LayoutModel",
            "justify_items": null,
            "grid_row": null,
            "max_height": null,
            "align_content": null,
            "visibility": null,
            "align_self": null,
            "height": null,
            "min_height": null,
            "padding": null,
            "grid_auto_rows": null,
            "grid_gap": null,
            "max_width": null,
            "order": null,
            "_view_module_version": "1.2.0",
            "grid_template_areas": null,
            "object_position": null,
            "object_fit": null,
            "grid_auto_columns": null,
            "margin": null,
            "display": null,
            "left": null
          }
        },
        "9e273c822e034e7cb331fc953229c17a": {
          "model_module": "@jupyter-widgets/controls",
          "model_name": "DescriptionStyleModel",
          "model_module_version": "1.5.0",
          "state": {
            "_view_name": "StyleView",
            "_model_name": "DescriptionStyleModel",
            "description_width": "",
            "_view_module": "@jupyter-widgets/base",
            "_model_module_version": "1.5.0",
            "_view_count": null,
            "_view_module_version": "1.2.0",
            "_model_module": "@jupyter-widgets/controls"
          }
        },
        "d62b0b26eefd446485bd4f5ffa7120ea": {
          "model_module": "@jupyter-widgets/base",
          "model_name": "LayoutModel",
          "model_module_version": "1.2.0",
          "state": {
            "_view_name": "LayoutView",
            "grid_template_rows": null,
            "right": null,
            "justify_content": null,
            "_view_module": "@jupyter-widgets/base",
            "overflow": null,
            "_model_module_version": "1.2.0",
            "_view_count": null,
            "flex_flow": null,
            "width": null,
            "min_width": null,
            "border": null,
            "align_items": null,
            "bottom": null,
            "_model_module": "@jupyter-widgets/base",
            "top": null,
            "grid_column": null,
            "overflow_y": null,
            "overflow_x": null,
            "grid_auto_flow": null,
            "grid_area": null,
            "grid_template_columns": null,
            "flex": null,
            "_model_name": "LayoutModel",
            "justify_items": null,
            "grid_row": null,
            "max_height": null,
            "align_content": null,
            "visibility": null,
            "align_self": null,
            "height": null,
            "min_height": null,
            "padding": null,
            "grid_auto_rows": null,
            "grid_gap": null,
            "max_width": null,
            "order": null,
            "_view_module_version": "1.2.0",
            "grid_template_areas": null,
            "object_position": null,
            "object_fit": null,
            "grid_auto_columns": null,
            "margin": null,
            "display": null,
            "left": null
          }
        }
      }
    }
  },
  "cells": [
    {
      "cell_type": "markdown",
      "metadata": {
        "id": "8zvr8fWbelSn"
      },
      "source": [
        "Import Libraries"
      ]
    },
    {
      "cell_type": "code",
      "metadata": {
        "id": "_yp6ExD5gzLI",
        "execution": {
          "iopub.status.busy": "2021-10-21T20:40:50.540140Z",
          "iopub.execute_input": "2021-10-21T20:40:50.540491Z",
          "iopub.status.idle": "2021-10-21T20:41:01.944622Z",
          "shell.execute_reply.started": "2021-10-21T20:40:50.540399Z",
          "shell.execute_reply": "2021-10-21T20:41:01.943790Z"
        },
        "trusted": true,
        "colab": {
          "base_uri": "https://localhost:8080/"
        },
        "outputId": "7e414d66-3f30-4d23-d649-bbed400fc268"
      },
      "source": [
        "# !pip uninstall transformers -y\n",
        "!pip install transformers"
      ],
      "execution_count": 1,
      "outputs": [
        {
          "output_type": "stream",
          "name": "stdout",
          "text": [
            "Collecting transformers\n",
            "  Downloading transformers-4.11.3-py3-none-any.whl (2.9 MB)\n",
            "\u001b[K     |████████████████████████████████| 2.9 MB 4.2 MB/s \n",
            "\u001b[?25hCollecting sacremoses\n",
            "  Downloading sacremoses-0.0.46-py3-none-any.whl (895 kB)\n",
            "\u001b[K     |████████████████████████████████| 895 kB 38.4 MB/s \n",
            "\u001b[?25hRequirement already satisfied: regex!=2019.12.17 in /usr/local/lib/python3.7/dist-packages (from transformers) (2019.12.20)\n",
            "Requirement already satisfied: packaging>=20.0 in /usr/local/lib/python3.7/dist-packages (from transformers) (21.0)\n",
            "Requirement already satisfied: requests in /usr/local/lib/python3.7/dist-packages (from transformers) (2.23.0)\n",
            "Collecting pyyaml>=5.1\n",
            "  Downloading PyYAML-6.0-cp37-cp37m-manylinux_2_5_x86_64.manylinux1_x86_64.manylinux_2_12_x86_64.manylinux2010_x86_64.whl (596 kB)\n",
            "\u001b[K     |████████████████████████████████| 596 kB 48.3 MB/s \n",
            "\u001b[?25hRequirement already satisfied: numpy>=1.17 in /usr/local/lib/python3.7/dist-packages (from transformers) (1.19.5)\n",
            "Collecting tokenizers<0.11,>=0.10.1\n",
            "  Downloading tokenizers-0.10.3-cp37-cp37m-manylinux_2_5_x86_64.manylinux1_x86_64.manylinux_2_12_x86_64.manylinux2010_x86_64.whl (3.3 MB)\n",
            "\u001b[K     |████████████████████████████████| 3.3 MB 32.6 MB/s \n",
            "\u001b[?25hRequirement already satisfied: filelock in /usr/local/lib/python3.7/dist-packages (from transformers) (3.3.0)\n",
            "Requirement already satisfied: importlib-metadata in /usr/local/lib/python3.7/dist-packages (from transformers) (4.8.1)\n",
            "Requirement already satisfied: tqdm>=4.27 in /usr/local/lib/python3.7/dist-packages (from transformers) (4.62.3)\n",
            "Collecting huggingface-hub>=0.0.17\n",
            "  Downloading huggingface_hub-0.0.19-py3-none-any.whl (56 kB)\n",
            "\u001b[K     |████████████████████████████████| 56 kB 4.7 MB/s \n",
            "\u001b[?25hRequirement already satisfied: typing-extensions in /usr/local/lib/python3.7/dist-packages (from huggingface-hub>=0.0.17->transformers) (3.7.4.3)\n",
            "Requirement already satisfied: pyparsing>=2.0.2 in /usr/local/lib/python3.7/dist-packages (from packaging>=20.0->transformers) (2.4.7)\n",
            "Requirement already satisfied: zipp>=0.5 in /usr/local/lib/python3.7/dist-packages (from importlib-metadata->transformers) (3.6.0)\n",
            "Requirement already satisfied: certifi>=2017.4.17 in /usr/local/lib/python3.7/dist-packages (from requests->transformers) (2021.5.30)\n",
            "Requirement already satisfied: idna<3,>=2.5 in /usr/local/lib/python3.7/dist-packages (from requests->transformers) (2.10)\n",
            "Requirement already satisfied: chardet<4,>=3.0.2 in /usr/local/lib/python3.7/dist-packages (from requests->transformers) (3.0.4)\n",
            "Requirement already satisfied: urllib3!=1.25.0,!=1.25.1,<1.26,>=1.21.1 in /usr/local/lib/python3.7/dist-packages (from requests->transformers) (1.24.3)\n",
            "Requirement already satisfied: click in /usr/local/lib/python3.7/dist-packages (from sacremoses->transformers) (7.1.2)\n",
            "Requirement already satisfied: six in /usr/local/lib/python3.7/dist-packages (from sacremoses->transformers) (1.15.0)\n",
            "Requirement already satisfied: joblib in /usr/local/lib/python3.7/dist-packages (from sacremoses->transformers) (1.0.1)\n",
            "Installing collected packages: pyyaml, tokenizers, sacremoses, huggingface-hub, transformers\n",
            "  Attempting uninstall: pyyaml\n",
            "    Found existing installation: PyYAML 3.13\n",
            "    Uninstalling PyYAML-3.13:\n",
            "      Successfully uninstalled PyYAML-3.13\n",
            "Successfully installed huggingface-hub-0.0.19 pyyaml-6.0 sacremoses-0.0.46 tokenizers-0.10.3 transformers-4.11.3\n"
          ]
        }
      ]
    },
    {
      "cell_type": "code",
      "metadata": {
        "id": "swIecpepdKT-",
        "execution": {
          "iopub.status.busy": "2021-10-21T21:47:43.507639Z",
          "iopub.execute_input": "2021-10-21T21:47:43.508378Z",
          "iopub.status.idle": "2021-10-21T21:47:43.514416Z",
          "shell.execute_reply.started": "2021-10-21T21:47:43.508338Z",
          "shell.execute_reply": "2021-10-21T21:47:43.513658Z"
        },
        "trusted": true
      },
      "source": [
        "import torch\n",
        "import torchvision\n",
        "import torch.nn as nn\n",
        "import torch.nn.functional as F\n",
        "import numpy as np\n",
        "import sklearn\n",
        "from torchvision.datasets import CIFAR10, CIFAR100\n",
        "from torchvision.transforms import ToTensor, Compose, Resize, Normalize\n",
        "from torchvision.utils import make_grid\n",
        "from torch.utils.data.dataloader import DataLoader\n",
        "from transformers import BeitModel, BeitConfig, BeitFeatureExtractor, BeitForImageClassification\n",
        "from torch.utils.data import random_split\n",
        "from tqdm import tqdm\n",
        "import sys\n",
        "import torch.nn.functional as F\n",
        "import time"
      ],
      "execution_count": 2,
      "outputs": []
    },
    {
      "cell_type": "code",
      "metadata": {
        "colab": {
          "base_uri": "https://localhost:8080/",
          "height": 35
        },
        "id": "hnZfsjnxQKjM",
        "outputId": "1438e4ff-ecd7-413f-a1be-03945a4d8f94"
      },
      "source": [
        "import transformers\n",
        "transformers.__version__"
      ],
      "execution_count": 3,
      "outputs": [
        {
          "output_type": "execute_result",
          "data": {
            "application/vnd.google.colaboratory.intrinsic+json": {
              "type": "string"
            },
            "text/plain": [
              "'4.11.3'"
            ]
          },
          "metadata": {},
          "execution_count": 3
        }
      ]
    },
    {
      "cell_type": "markdown",
      "metadata": {
        "id": "JzBUQBCnepo9"
      },
      "source": [
        "Download CIFAR100 dataset"
      ]
    },
    {
      "cell_type": "code",
      "metadata": {
        "id": "CLflL5TyeGQ_",
        "execution": {
          "iopub.status.busy": "2021-10-21T20:42:51.646119Z",
          "iopub.execute_input": "2021-10-21T20:42:51.646364Z",
          "iopub.status.idle": "2021-10-21T20:42:53.351761Z",
          "shell.execute_reply.started": "2021-10-21T20:42:51.646328Z",
          "shell.execute_reply": "2021-10-21T20:42:53.350999Z"
        },
        "trusted": true,
        "colab": {
          "base_uri": "https://localhost:8080/",
          "height": 115,
          "referenced_widgets": [
            "8edeff32e1f04d648656234442f61e6f",
            "f7fd8ea5e920481e8921c40ec044f3bc",
            "46643a8911b8418ba3b73832ea87f2d0",
            "d096b9da74bb4b4fbe01930f972d6172",
            "e381788e83b049e39f4facb376a42e00",
            "86514e8e7b2541a6a6e98bf8ae9426a3",
            "05b5c3f0af7d42cb8038f4902e1a1b8f",
            "7360b1d2614f4b5e9c163cb77652004b",
            "f3978a5ddd624766913d48d356c02140",
            "874c70d6404c4ac691c17ad596ac98be",
            "3fa05e653f8747c58b07e46523edd49c",
            "9f5faebbde5b4b388c45558b1062f245",
            "1cb56e5189a042998a94d72b81fd55fe",
            "c5d9d0f333274132b4102f8019d99871",
            "57909bcee5c342b792c0acbf2a196d9d",
            "e2c2e681b6d94a68ab6b37e698f02725",
            "cab5e49035c04c549e6bad1a41c38c8f",
            "a2b2fd284dcc43bda263bb4140fbf850",
            "f7cc609e861f43f49b85128101039113",
            "684e3b2f3b1d44aa8682db1872250e4b",
            "9e273c822e034e7cb331fc953229c17a",
            "d62b0b26eefd446485bd4f5ffa7120ea"
          ]
        },
        "outputId": "079ea6d9-192f-40ff-8376-bd1ef6945307"
      },
      "source": [
        "feature_extractor = BeitFeatureExtractor.from_pretrained('microsoft/beit-base-patch16-224-pt22k-ft22k')\n",
        "\n",
        "transform = Compose(\n",
        "    [ToTensor(),\n",
        "     Resize([224, 224]), \n",
        "     Normalize(feature_extractor.image_mean, feature_extractor.image_std)\n",
        "    ]\n",
        ")\n",
        "\n",
        "dataset = CIFAR100(root='data/', download=True, transform=transform)\n",
        "test_dataset = CIFAR100(root='data/', train=False, transform=transform)"
      ],
      "execution_count": 4,
      "outputs": [
        {
          "output_type": "display_data",
          "data": {
            "application/vnd.jupyter.widget-view+json": {
              "model_id": "8edeff32e1f04d648656234442f61e6f",
              "version_minor": 0,
              "version_major": 2
            },
            "text/plain": [
              "Downloading:   0%|          | 0.00/276 [00:00<?, ?B/s]"
            ]
          },
          "metadata": {}
        },
        {
          "output_type": "stream",
          "name": "stdout",
          "text": [
            "Downloading https://www.cs.toronto.edu/~kriz/cifar-100-python.tar.gz to data/cifar-100-python.tar.gz\n"
          ]
        },
        {
          "output_type": "display_data",
          "data": {
            "application/vnd.jupyter.widget-view+json": {
              "model_id": "9f5faebbde5b4b388c45558b1062f245",
              "version_minor": 0,
              "version_major": 2
            },
            "text/plain": [
              "  0%|          | 0/169001437 [00:00<?, ?it/s]"
            ]
          },
          "metadata": {}
        },
        {
          "output_type": "stream",
          "name": "stdout",
          "text": [
            "Extracting data/cifar-100-python.tar.gz to data/\n"
          ]
        }
      ]
    },
    {
      "cell_type": "markdown",
      "metadata": {
        "id": "bRVVlmMff6xV"
      },
      "source": [
        "Create DataLoader"
      ]
    },
    {
      "cell_type": "code",
      "metadata": {
        "id": "e5pdoo_Ox6Xz",
        "execution": {
          "iopub.status.busy": "2021-10-21T20:42:59.780730Z",
          "iopub.execute_input": "2021-10-21T20:42:59.781298Z",
          "iopub.status.idle": "2021-10-21T20:42:59.821299Z",
          "shell.execute_reply.started": "2021-10-21T20:42:59.781252Z",
          "shell.execute_reply": "2021-10-21T20:42:59.820436Z"
        },
        "trusted": true
      },
      "source": [
        "def get_default_device():\n",
        "    \"\"\"Get GPU if available, else CPU\"\"\"\n",
        "    if torch.cuda.is_available():\n",
        "        return torch.device('cuda')\n",
        "    else :\n",
        "        return torch.device('cpu')\n",
        "\n",
        "def to_device(data, device):\n",
        "    if isinstance(data, (list, tuple)):\n",
        "        return [to_device(x, device) for x in data]\n",
        "    return data.to(device, non_blocking = True)\n",
        "\n",
        "class DeviceDataLoader:\n",
        "    def __init__(self, dl, device):\n",
        "        self.dl = dl\n",
        "        self.device = device\n",
        "\n",
        "    def __iter__(self):\n",
        "        for b in self.dl:\n",
        "            yield to_device(b, self.device)\n",
        "\n",
        "    def __len__(self):\n",
        "        return len(self.dl) \n",
        "\n",
        "device = get_default_device()"
      ],
      "execution_count": 5,
      "outputs": []
    },
    {
      "cell_type": "code",
      "metadata": {
        "id": "cD383IeGpgBr",
        "execution": {
          "iopub.status.busy": "2021-10-21T20:43:02.611112Z",
          "iopub.execute_input": "2021-10-21T20:43:02.611382Z",
          "iopub.status.idle": "2021-10-21T20:43:02.620960Z",
          "shell.execute_reply.started": "2021-10-21T20:43:02.611351Z",
          "shell.execute_reply": "2021-10-21T20:43:02.620212Z"
        },
        "trusted": true,
        "colab": {
          "base_uri": "https://localhost:8080/"
        },
        "outputId": "f9345f50-aca0-4fcc-ff57-ac0454734c48"
      },
      "source": [
        "train_loader = DataLoader(dataset, batch_size=32, shuffle=True, num_workers=2, pin_memory=True)\n",
        "test_loader = DataLoader(test_dataset, batch_size=32, shuffle=False)\n",
        "train_loader = DeviceDataLoader(train_loader, device)\n",
        "test_loader = DeviceDataLoader(test_loader, device)\n",
        "len(train_loader), len(test_loader)"
      ],
      "execution_count": 6,
      "outputs": [
        {
          "output_type": "execute_result",
          "data": {
            "text/plain": [
              "(1563, 313)"
            ]
          },
          "metadata": {},
          "execution_count": 6
        }
      ]
    },
    {
      "cell_type": "markdown",
      "metadata": {
        "id": "jus67KaI-zGe"
      },
      "source": [
        "Create Model"
      ]
    },
    {
      "cell_type": "code",
      "metadata": {
        "id": "y8s_A05bzkjt",
        "execution": {
          "iopub.status.busy": "2021-10-21T22:01:11.051676Z",
          "iopub.execute_input": "2021-10-21T22:01:11.052125Z",
          "iopub.status.idle": "2021-10-21T22:01:11.079383Z",
          "shell.execute_reply.started": "2021-10-21T22:01:11.052085Z",
          "shell.execute_reply": "2021-10-21T22:01:11.078593Z"
        },
        "trusted": true
      },
      "source": [
        "def format_time_interval(t_diff):\n",
        "    \"\"\"\n",
        "    A function to convert time in seconds to format hh:mm:ss\n",
        "    \"\"\"\n",
        "    t_diff = int(t_diff)\n",
        "    l = []\n",
        "    while t_diff:\n",
        "        s = str(int(t_diff % 60))\n",
        "        if len(s) < 2: s = '0'+s\n",
        "        l.append(s)\n",
        "        t_diff = t_diff // 60\n",
        "    if len(l) < 2: l.append('00')\n",
        "    l.reverse()\n",
        "    s = ':'.join(l)\n",
        "    return s\n",
        "\n",
        "class Model(nn.Module):\n",
        "    \"\"\"Classfication model\"\"\"\n",
        "    def __init__(self, num_classes):\n",
        "        super().__init__()\n",
        "        self.num_classes = num_classes\n",
        "        self.beit_model = BeitModel.from_pretrained('microsoft/beit-base-patch16-224-pt22k-ft22k')\n",
        "        self.linear1 = nn.Linear(768, num_classes)\n",
        "\n",
        "    def freeze_base_model(self):\n",
        "        \"\"\"\n",
        "        method to freeze the layers of BEiT-model.\n",
        "        This is used for transfer learning.\n",
        "        \"\"\"\n",
        "        for name, parameter in model.named_parameters(prefix=''):\n",
        "            if name.startswith('beit'):\n",
        "                parameter.requires_grad = False\n",
        "\n",
        "    def unfreeze_base_model(self):\n",
        "        for name, parameter in model.named_parameters(prefix=''):\n",
        "            if name.startswith('beit'):\n",
        "                parameter.requires_grad = True\n",
        "    \n",
        "    def trainable_parameters(self):\n",
        "        nn, non_trainable = 0, 0\n",
        "        for param in model.parameters():\n",
        "            if param.requires_grad:\n",
        "                nn += np.prod(param.size())\n",
        "            else:\n",
        "                non_trainable += np.prod(param.size())\n",
        "        print(\"Total Parameters: {:.2f}M\".format((non_trainable + nn)/ 1e6))\n",
        "        print(\"Non-trainable Prameters: {:.2f}M\".format((non_trainable) / 1e6))\n",
        "        print(\"Trainable Parameters: {:.2f}M\".format(nn / 1e6))\n",
        "        return nn\n",
        "        \n",
        "    def forward(self, xb):\n",
        "        beit_output = self.beit_model(xb)\n",
        "        out = self.linear1(beit_output.pooler_output)\n",
        "        return out\n",
        "\n",
        "    def predict(self, data):\n",
        "        self.eval()\n",
        "        with torch.no_grad():\n",
        "            if isinstance(data, DeviceDataLoader):\n",
        "                labels = []\n",
        "                for xb, _ in tqdm(data):\n",
        "                    out = self(xb)\n",
        "                    _, batch_labels = torch.max(out, dim=-1)\n",
        "                    labels.append(batch_labels)\n",
        "                labels = torch.stack(labels)\n",
        "            else:\n",
        "                out = self(data)\n",
        "                _, labels = torch.max(out, dim=-1)\n",
        "        return labels.cpu()\n",
        "    \n",
        "    def acc(self, out, labels):\n",
        "        _, preds = torch.max(out, dim = 1)\n",
        "        acc = torch.mean((preds == labels).float())\n",
        "        return acc\n",
        "    \n",
        "    def fit(self, train_loader, val_loader, optimizer, lr, epochs):\n",
        "        opt = optimizer(self.parameters(), lr)\n",
        "        history = {\n",
        "            'loss': [], \n",
        "            'acc': [], \n",
        "            'val_loss': [], \n",
        "            'val_acc': []\n",
        "        }\n",
        "        \n",
        "        for epoch in range(epochs):\n",
        "            loss_epoch = 0.0\n",
        "            acc_epoch = 0.0\n",
        "            self.train()\n",
        "            n = len(train_loader)\n",
        "            t_start = time.time()\n",
        "            for batch_i, (xb, labels) in enumerate(train_loader):\n",
        "                loss, acc = self.step(xb, labels)\n",
        "                loss.backward()\n",
        "                opt.step()\n",
        "                opt.zero_grad()\n",
        "                loss_epoch = (loss_epoch * batch_i + loss.item()) / (batch_i + 1)\n",
        "                acc_epoch = (acc_epoch * batch_i + acc.item()) / (batch_i + 1)\n",
        "                t_diff= time.time() - t_start\n",
        "                ett = (t_diff / (batch_i + 1)) * n\n",
        "                s_t_diff = format_time_interval(t_diff)\n",
        "                s_ett = format_time_interval(ett)\n",
        "                sys.stdout.write(f\"\\rEpoch: [{epoch+1}/{epochs}]:[{batch_i+1}/{n}], ETA: [{s_t_diff}/{s_ett}] \"\n",
        "                                 f\"loss: {loss_epoch:.3f}, acc: {acc_epoch:.3f}\")\n",
        "                sys.stdout.flush()\n",
        "                \n",
        "            val_loss, val_acc = self.evaluate(val_loader, is_training=True)\n",
        "            history['loss'].append(loss_epoch)\n",
        "            history['acc'].append(acc_epoch)\n",
        "            history['val_loss'].append(val_loss)\n",
        "            history['val_acc'].append(val_acc)\n",
        "            self.epoch_end(epoch, history)\n",
        "            if val_acc >= np.max(history['val_acc']):\n",
        "                self.save_model(history)\n",
        "        \n",
        "        return history\n",
        "            \n",
        "    def save_model(self, history):\n",
        "        path = \"cifar100-beit.pth\"\n",
        "        print(\"Saving checkpoint\")\n",
        "        torch.save({\n",
        "            'model_state_dict': model.state_dict(), \n",
        "            'test_acc': np.max(history['val_acc']),\n",
        "            'num_classes': self.num_classes\n",
        "        }, path)\n",
        "\n",
        "    @classmethod\n",
        "    def load_model(cls):\n",
        "        path = \"cifar100-beit.pth\"\n",
        "        checkpoint = torch.load(path)\n",
        "        model = MnistModel(cls['num_classes'])\n",
        "        model.load_state_dict(checkpoint['model_state_dict'])\n",
        "        return model\n",
        "    \n",
        "    def step(self, xb, labels):\n",
        "        out = self(xb)\n",
        "        loss = F.cross_entropy(out, labels)\n",
        "        acc = self.acc(out, labels)\n",
        "        return loss, acc\n",
        "    \n",
        "    def evaluate(self, val_loader, is_training=True):\n",
        "        val_loss = 0.0\n",
        "        val_acc = 0.0\n",
        "        self.eval()\n",
        "        n = len(val_loader)\n",
        "        t_start = time.time()\n",
        "        with torch.no_grad():\n",
        "            for batch_i, (xb, labels) in enumerate(val_loader):\n",
        "                loss, acc = self.step(xb, labels)\n",
        "                val_loss += loss.item()\n",
        "                val_acc += acc.item()\n",
        "                if not is_training:\n",
        "                    t_diff= time.time() - t_start\n",
        "                    ett = (t_diff / (batch_i + 1)) * n\n",
        "                    s_t_diff = format_time_interval(t_diff)\n",
        "                    s_ett = format_time_interval(ett)\n",
        "                    sys.stdout.write(f\"\\rBatch: [{batch_i+1}/{n}], ETA: [{s_t_diff}/{s_ett}]\")\n",
        "                    sys.stdout.flush()\n",
        "\n",
        "        val_loss /= len(val_loader)\n",
        "        val_acc /= len(val_loader)\n",
        "        return val_loss, val_acc\n",
        "        \n",
        "    def epoch_end(self, epoch, history):\n",
        "        print(\",  val_loss: {:.4f}, val_acc: {:.4f}\".format(history['val_loss'][-1], history['val_acc'][-1]))"
      ],
      "execution_count": 11,
      "outputs": []
    },
    {
      "cell_type": "code",
      "metadata": {
        "id": "-3H2rKloSeFL",
        "execution": {
          "iopub.status.busy": "2021-10-21T22:01:13.228532Z",
          "iopub.execute_input": "2021-10-21T22:01:13.229238Z",
          "iopub.status.idle": "2021-10-21T22:01:15.381465Z",
          "shell.execute_reply.started": "2021-10-21T22:01:13.229198Z",
          "shell.execute_reply": "2021-10-21T22:01:15.380740Z"
        },
        "trusted": true,
        "colab": {
          "base_uri": "https://localhost:8080/"
        },
        "outputId": "dc6feecd-f8d6-470d-bb60-1486eed7890f"
      },
      "source": [
        "model = Model(100)\n",
        "_ = model.to(device)    # Push model to cuda device(if available)"
      ],
      "execution_count": 12,
      "outputs": [
        {
          "output_type": "stream",
          "name": "stderr",
          "text": [
            "Some weights of the model checkpoint at microsoft/beit-base-patch16-224-pt22k-ft22k were not used when initializing BeitModel: ['classifier.bias', 'classifier.weight']\n",
            "- This IS expected if you are initializing BeitModel from the checkpoint of a model trained on another task or with another architecture (e.g. initializing a BertForSequenceClassification model from a BertForPreTraining model).\n",
            "- This IS NOT expected if you are initializing BeitModel from the checkpoint of a model that you expect to be exactly identical (initializing a BertForSequenceClassification model from a BertForSequenceClassification model).\n"
          ]
        }
      ]
    },
    {
      "cell_type": "markdown",
      "metadata": {
        "id": "Vb0hH0U8XJ94"
      },
      "source": [
        "Transfer Learning"
      ]
    },
    {
      "cell_type": "code",
      "metadata": {
        "execution": {
          "iopub.status.busy": "2021-10-21T22:01:16.048424Z",
          "iopub.execute_input": "2021-10-21T22:01:16.049190Z"
        },
        "trusted": true,
        "colab": {
          "base_uri": "https://localhost:8080/"
        },
        "id": "gUm3y0yNZJe3",
        "outputId": "db6153bd-4e37-4fbd-e9df-4a7b76f342ac"
      },
      "source": [
        "optimizer = torch.optim.Adam\n",
        "lr = 3e-4\n",
        "epochs = 2\n",
        "model.freeze_base_model()\n",
        "_ = model.trainable_parameters()\n",
        "history = model.fit(train_loader, test_loader, optimizer, lr, epochs)"
      ],
      "execution_count": 13,
      "outputs": [
        {
          "output_type": "stream",
          "name": "stdout",
          "text": [
            "Total Parameters: 85.84M\n",
            "Non-trainable Prameters: 85.76M\n",
            "Trainable Parameters: 0.08M\n",
            "Epoch: [1/2]:[1563/1563], ETA: [05:30/05:30] loss: 1.085, acc: 0.781,  val_loss: 0.4916, val_acc: 0.8675\n",
            "Saving checkpoint\n",
            "Epoch: [2/2]:[1563/1563], ETA: [05:30/05:30] loss: 0.453, acc: 0.874,  val_loss: 0.4231, val_acc: 0.8800\n",
            "Saving checkpoint\n"
          ]
        }
      ]
    },
    {
      "cell_type": "markdown",
      "metadata": {
        "id": "LqQIoOHrXHew"
      },
      "source": [
        "Fine Tuning"
      ]
    },
    {
      "cell_type": "code",
      "metadata": {
        "colab": {
          "base_uri": "https://localhost:8080/"
        },
        "id": "EI83SsaGdvL2",
        "outputId": "39cfc80e-8b88-4ad8-af32-be43a3fc091d"
      },
      "source": [
        "optimizer = torch.optim.Adam\n",
        "lr = 1e-5\n",
        "epochs = 1\n",
        "model.unfreeze_base_model()\n",
        "_ = model.trainable_parameters()\n",
        "history = model.fit(train_loader, test_loader, optimizer, lr, epochs)"
      ],
      "execution_count": 14,
      "outputs": [
        {
          "output_type": "stream",
          "name": "stdout",
          "text": [
            "Total Parameters: 85.84M\n",
            "Non-trainable Prameters: 0.00M\n",
            "Trainable Parameters: 85.84M\n",
            "Epoch: [1/1]:[1563/1563], ETA: [15:46/15:46] loss: 0.238, acc: 0.927,  val_loss: 0.2418, val_acc: 0.9264\n",
            "Saving checkpoint\n"
          ]
        }
      ]
    },
    {
      "cell_type": "markdown",
      "metadata": {
        "id": "y7quIIGBmcP_"
      },
      "source": [
        "Model gives a validation accuracy of 0.92 which matches with the results mentioned in the paper."
      ]
    },
    {
      "cell_type": "code",
      "metadata": {
        "id": "Vmxn2dR0dVHF"
      },
      "source": [
        ""
      ],
      "execution_count": null,
      "outputs": []
    }
  ]
}