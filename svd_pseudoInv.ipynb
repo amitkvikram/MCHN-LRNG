{
 "cells": [
  {
   "cell_type": "code",
   "execution_count": 1,
   "metadata": {
    "collapsed": true
   },
   "outputs": [],
   "source": [
    "import numpy as np\n",
    "import numpy.linalg as lng"
   ]
  },
  {
   "cell_type": "code",
   "execution_count": 85,
   "metadata": {},
   "outputs": [
    {
     "name": "stdout",
     "output_type": "stream",
     "text": [
      "[[ 0.01428571  0.02857143]\n",
      " [ 0.02857143  0.05714286]\n",
      " [ 0.04285714  0.08571429]]\n"
     ]
    },
    {
     "data": {
      "text/plain": [
       "array([[ 5, 10, 15],\n",
       "       [10, 20, 30],\n",
       "       [15, 30, 45]])"
      ]
     },
     "metadata": {},
     "output_type": "display_data"
    },
    {
     "data": {
      "text/plain": [
       "array([[14, 28],\n",
       "       [28, 56]])"
      ]
     },
     "metadata": {},
     "output_type": "display_data"
    },
    {
     "name": "stdout",
     "output_type": "stream",
     "text": [
      "[[ 0.01428571  0.02857143]\n",
      " [ 0.02857143  0.05714286]\n",
      " [ 0.04285714  0.08571429]]\n",
      "[[ 0.01428571  0.02857143]\n",
      " [ 0.02857143  0.05714286]\n",
      " [ 0.04285714  0.08571429]]\n"
     ]
    }
   ],
   "source": [
    "#n>m\n",
    "A = np.array([[1,2,3],[2,4,6]])\n",
    "Ainv = lng.pinv(A)\n",
    "print(Ainv)\n",
    "\n",
    "A1 = np.dot(A.T, A)\n",
    "display(A1)\n",
    "\n",
    "A2 = np.dot(A, A.T)\n",
    "display(A2)\n",
    "\n",
    "AleftInv =  np.dot(lng.pinv(np.dot(A.T, A)), A.T)\n",
    "ArightInv = np.dot(A.T,lng.pinv(np.dot(A, A.T)))\n",
    "print(AleftInv)\n",
    "print(ArightInv)"
   ]
  },
  {
   "cell_type": "code",
   "execution_count": 86,
   "metadata": {},
   "outputs": [
    {
     "name": "stdout",
     "output_type": "stream",
     "text": [
      "[[ 0.2  0.4]\n",
      " [ 0.4  0.8]]\n",
      "[[ 0.07142857  0.14285714  0.21428571]\n",
      " [ 0.14285714  0.28571429  0.42857143]\n",
      " [ 0.21428571  0.42857143  0.64285714]]\n"
     ]
    }
   ],
   "source": [
    "print(np.dot(A,Ainv))       #right inverse\n",
    "print(np.dot(Ainv, A))     #left inverse"
   ]
  },
  {
   "cell_type": "code",
   "execution_count": 87,
   "metadata": {},
   "outputs": [
    {
     "name": "stdout",
     "output_type": "stream",
     "text": [
      "[[1 2]\n",
      " [2 4]\n",
      " [3 6]]\n",
      "[[ 0.01428571  0.02857143  0.04285714]\n",
      " [ 0.02857143  0.05714286  0.08571429]]\n"
     ]
    }
   ],
   "source": [
    "#n<m\n",
    "B = A.T\n",
    "print(B)\n",
    "Binv = lng.pinv(B)\n",
    "print(Binv)"
   ]
  },
  {
   "cell_type": "code",
   "execution_count": 88,
   "metadata": {},
   "outputs": [
    {
     "name": "stdout",
     "output_type": "stream",
     "text": [
      "[[ 0.07142857  0.14285714  0.21428571]\n",
      " [ 0.14285714  0.28571429  0.42857143]\n",
      " [ 0.21428571  0.42857143  0.64285714]]\n",
      "[[ 0.2  0.4]\n",
      " [ 0.4  0.8]]\n"
     ]
    }
   ],
   "source": [
    "print(np.dot(B, Binv))   #right inverse\n",
    "print(np.dot(Binv, B))   #left inverse"
   ]
  },
  {
   "cell_type": "code",
   "execution_count": null,
   "metadata": {
    "collapsed": true
   },
   "outputs": [],
   "source": []
  }
 ],
 "metadata": {
  "kernelspec": {
   "display_name": "Python 3",
   "language": "python",
   "name": "python3"
  },
  "language_info": {
   "codemirror_mode": {
    "name": "ipython",
    "version": 3
   },
   "file_extension": ".py",
   "mimetype": "text/x-python",
   "name": "python",
   "nbconvert_exporter": "python",
   "pygments_lexer": "ipython3",
   "version": "3.6.2"
  }
 },
 "nbformat": 4,
 "nbformat_minor": 2
}
